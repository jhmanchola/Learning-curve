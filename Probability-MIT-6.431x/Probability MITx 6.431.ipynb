{
 "cells": [
  {
   "cell_type": "markdown",
   "metadata": {},
   "source": [
    "# MITx: 6.431x\n",
    "## Probability - The Science of Uncertainty and Data\n",
    "\n",
    "**Table of Contents:**<a class=\"anchor\" id=\"TOC\"></a>\n",
    "- [Unit 1: Probability models and axioms](#U1)\n",
    "- [Unit 2: Conditioning and Independence](#U2)\n",
    "    + [Bayes' Rule](#U2BR)\n",
    "\n",
    "\n",
    ">## Unit 1: Probability models and axioms<a class=\"anchor\" id=\"U1\"></a>"
   ]
  },
  {
   "cell_type": "code",
   "execution_count": 1,
   "metadata": {},
   "outputs": [],
   "source": [
    "import matplotlib.pyplot as plt\n",
    "import numpy as np #Used to integrate using numpy and to use numpy.random\n",
    "\n",
    "import os\n",
    "import sys\n",
    "sys.path.append(os.path.abspath #Path to .py files for visualization\n",
    "                (\"C:/Users/joman/Google Drive/DATA SCIENCE/LEARNING MATERIAL/Visualization\"))\n",
    "from Probability_Sets import Sets_Space #import the Sets_Space class to visualize probability sets\n",
    "\n",
    "from Hierarchy_tree import* #import the TreeGraph class stored in the Hierarchy_tree.py file \n",
    "\n",
    "from System_Layout import* #Import the SystemLayout class stored in System_Layout.py\n",
    "\n",
    "\n",
    "from IPython.display import display, Math, Latex, Markdown\n",
    "\n",
    "from plotly.graph_objs import *\n",
    "\n",
    "#Function to print LateX as an outcome of a script:\n",
    "def display_math(str_latex):\n",
    "    display(Markdown('${}$'.format(str_latex)))"
   ]
  },
  {
   "cell_type": "markdown",
   "metadata": {},
   "source": [
    "Consider the same model of two rolls of a tetrahedral die, with all 16 outcomes equally likely. Find the probability of the following events:\n",
    "\n",
    "- a) The value in the first roll is strictly larger than the value in the second roll.\n",
    "- b) The sum of the values obtained in the two rolls is an even number."
   ]
  },
  {
   "cell_type": "code",
   "execution_count": 2,
   "metadata": {},
   "outputs": [
    {
     "name": "stdout",
     "output_type": "stream",
     "text": [
      "a) Probability of first roll larger than second:\n"
     ]
    },
    {
     "data": {
      "text/markdown": [
       "$P(larger) =\\frac {6}{16}$"
      ],
      "text/plain": [
       "<IPython.core.display.Markdown object>"
      ]
     },
     "metadata": {},
     "output_type": "display_data"
    },
    {
     "name": "stdout",
     "output_type": "stream",
     "text": [
      "b) Probability of sum of two rolls is even:\n"
     ]
    },
    {
     "data": {
      "text/markdown": [
       "$P(sum\\,even) =\\frac {8}{16}$"
      ],
      "text/plain": [
       "<IPython.core.display.Markdown object>"
      ]
     },
     "metadata": {},
     "output_type": "display_data"
    }
   ],
   "source": [
    "all_die = []\n",
    "larger = 0\n",
    "even = 0\n",
    "for x in range(1,5):\n",
    "    for y in range(1,5):\n",
    "        all_die.append((x,y))\n",
    "for roll in all_die:\n",
    "    if roll[0] > roll[1]:\n",
    "        larger += 1\n",
    "    if (roll[0] + roll[1])%2 == 0:\n",
    "        even += 1\n",
    "\n",
    "sample = len(all_die)\n",
    "\n",
    "print('a) Probability of first roll larger than second:')\n",
    "display_math(r'P(larger) =\\frac {%d}{%d}'%(larger,sample)) #%d is a placeholder for an integer\n",
    "print('b) Probability of sum of two rolls is even:')\n",
    "display_math(r'P(sum\\,even) =\\frac {%d}{%d}'%(even,sample))"
   ]
  },
  {
   "cell_type": "code",
   "execution_count": 3,
   "metadata": {},
   "outputs": [
    {
     "data": {
      "text/latex": [
       "$\\nabla \\times \\vec{\\mathbf{E}}\\, +\\, \\frac1c\\, \\frac{\\partial\\vec{\\mathbf{B}}}{\\partial t}$ & = $\\vec{\\mathbf{0}} \\\n",
       "\\nabla \\cdot \\vec{\\mathbf{B}}$ & = 0\n"
      ],
      "text/plain": [
       "<IPython.core.display.Latex object>"
      ]
     },
     "metadata": {},
     "output_type": "display_data"
    }
   ],
   "source": [
    "%%latex #Latex magic\n",
    "$\\nabla \\times \\vec{\\mathbf{E}}\\, +\\, \\frac1c\\, \\frac{\\partial\\vec{\\mathbf{B}}}{\\partial t}$ & = $\\vec{\\mathbf{0}} \\\n",
    "\\nabla \\cdot \\vec{\\mathbf{B}}$ & = 0\n"
   ]
  },
  {
   "cell_type": "markdown",
   "metadata": {},
   "source": [
    "## Axioms\n",
    "\n",
    "### Nonnegativity Axiom:\n",
    "A probability can't be negative, hence: $P(A)\\geq 0$\n",
    "\n",
    "### Normalization Axiom:\n",
    "If the subset is the entire sample space $\\Omega$, then $P(\\Omega) = 1$\n",
    "\n",
    "### (Finite) Additivity Axiom (abridged):\n",
    "If $A\\cap B = \\emptyset$ , then $P(A\\cup B) = P(A) + P(B)$\n",
    "\n",
    "### Countable Additivity Axiom:\n",
    "The probability calculation is discrete but the sample space is infinite. The sample space is indexed {1,2,...}.\n",
    "\n",
    "Given $P(n)= \\frac{1}{2^n}$, where $n=1,2,3,...$\n",
    "\n",
    "### $$\\sum_{n=1}^{\\infty}\\frac{1}{2^n} \\color{red}{\\text{=}} \\frac{1}{2}\\sum_{n=0}^{\\infty}\\frac{1}{2^n} \\color{red}{\\text{=}} \\frac{1}{2}\\cdot\\frac{1}{1-(\\frac{1}{2})} \\color{red}{\\text{=}} 1$$\n",
    "\n",
    "If $A_1,A_2,A_3,...$ is a $\\color{red}{\\text{sequence}}$ of $\\color{red}{\\text{disjoint}}$ events, then $P(A_1\\cup A_2\\cup A_3\\cup,...) = P(A_1)+P(A_2)+P(A_3)+...$\n",
    "\n",
    "## Integration (Area under a curve)\n",
    "\n",
    "### For a curve $F(x) = x^n$ :\n",
    "\n",
    "### $\\int_{a}^{b} x^{n}\\cdot dx \\left[\\frac{x^{n+1}}{n+1}\\right]^b_a = F(b) - F(a)$\n",
    "\n",
    "### Example:\n",
    "\n",
    "### $F(x) = x^2$\n",
    "\n",
    "$a = 0$  *x-axis start limit*\n",
    "\n",
    "$b = 1$  *x-axis end limit*\n",
    "\n",
    "### $\\int_{0}^{1} x^{2}\\cdot dx = \\left[\\frac{x^{2+1}}{2+1}\\right]^1_0 = F(1) - F(0)$\n",
    "\n",
    "### $F(1) = \\frac{1^3}{3}$\n",
    "\n",
    "### $F(0) = \\frac{0^3}{3}$\n",
    "\n",
    "### $F(1) - F(0) = \\frac{1^3}{3} - \\frac{0^3}{3} = \\frac{1}{3}$\n",
    "\n",
    "### Area under the curve = $\\frac{1}{3}$\n",
    "\n",
    "Problem 1) Calculate the probability that $y$ is less than or equal to $x^2$, i.e. find area of the points that will fall under the curve $y=x^2$ enclosed in a rectangle of size 1X2. The rectangle is the sample space."
   ]
  },
  {
   "cell_type": "code",
   "execution_count": 4,
   "metadata": {},
   "outputs": [
    {
     "data": {
      "image/png": "[encoded data removed]",
      "text/plain": [
       "<Figure size 432x288 with 1 Axes>"
      ]
     },
     "metadata": {
      "needs_background": "light"
     },
     "output_type": "display_data"
    },
    {
     "data": {
      "text/markdown": [
       "$P(y\\leq x^2) = Area\\, under\\, curve =\\int_{0}^{1} x^{2} dx = \\left[\\frac{x^{2+1}}{2+1} \\\n",
       "\\right]^1_0 = F(1) - F(0) = \\frac{1^{2+1}}{2+1} - \\frac{0^{2+1}}{2+1} = \\frac{1}{3}= 0.333333$"
      ],
      "text/plain": [
       "<IPython.core.display.Markdown object>"
      ]
     },
     "metadata": {},
     "output_type": "display_data"
    },
    {
     "name": "stdout",
     "output_type": "stream",
     "text": [
      "Estimated area:  0.333\n",
      "Real probability using numpy: 0.3333333333333333\n",
      "Real probability using scipy: 0.33333333333333337\n",
      "Formula:\n"
     ]
    }
   ],
   "source": [
    "from scipy.integrate import quad #Used to integrate using scipy\n",
    "%matplotlib inline\n",
    "\n",
    "np.random.seed(0)\n",
    "\n",
    "samples = 8000\n",
    "sample_space_area = 1*2\n",
    "\n",
    "x = np.random.uniform(0,1,samples) #x-axis limits are 0 - 1 (array w samples number of numbers bewtween 0 & 1)\n",
    "y = np.random.uniform(0,2,samples) #y-axis limits are 0 - 2 (array w samples number of numbers bewtween 0 & 2)\n",
    "\n",
    "under_curveX, under_curveY = x[x**2>=y], y[x**2>=y] #filter array x and y\n",
    "\n",
    "under_curve_count = len(under_curveX) #points that will be below the curve\n",
    "        \n",
    "plt.plot(x[x**2<y],y[x**2<y],'.') #Plot values above the curve\n",
    "plt.title(r'$P(y\\leq x^2)$')\n",
    "plt.plot(under_curveX,under_curveY,'.r') #Plot values below the curve\n",
    "plt.show()\n",
    "\n",
    "#Estimated area:\n",
    "est_area = sample_space_area*under_curve_count/samples\n",
    "print('Estimated area: ',est_area)\n",
    "\n",
    "#Real area using integration:\n",
    "#Integration using numpy:\n",
    "p = np.poly1d([1,0,0]) #a 2 degree polynomial has three elements ax^2 + bx + c, in this case a=1,c&b=0\n",
    "i = p.integ()\n",
    "area_np = i(1)-i(0)\n",
    "print('Real probability using numpy:',area_np)\n",
    "\n",
    "#Integration using scipy.integrate quad():\n",
    "f = lambda x:x**2 #Create a function using lambda\n",
    "area_sci = quad(f,0.0,1.0) #insert the function and the lower and upper limits\n",
    "print('Real probability using scipy:',area_sci[0])\n",
    "\n",
    "#integral of y=x^2 as result of formula:\n",
    "integral = lambda x:(x**3)/3\n",
    "int_area = integral(1) - integral(0) #F(b) - F(a)\n",
    "\n",
    "print('Formula:')\n",
    "display_math(r'P(y\\leq x^2) = Area\\, under\\, curve =\\int_{0}^{1} x^{2} dx = \\left[\\frac{x^{2+1}}{2+1} \\\n",
    "\\right]^1_0 = F(1) - F(0) = \\frac{1^{2+1}}{2+1} - \\frac{0^{2+1}}{2+1} = \\frac{1}{3}= %f'%int_area)"
   ]
  },
  {
   "cell_type": "markdown",
   "metadata": {},
   "source": [
    "## Discrete uniform probability (Finite set)\n",
    "\n",
    "A set is discrete when its elements are countable and it is uniform if all elements are equally likely (have the same probability). A roll of an n-sided die is an example of a finite discrete set with uniform probability. An infinite set can also be countable (discrete).\n",
    "\n",
    "\n",
    "## Sets\n",
    "\n",
    "$x \\in S$ reads as $x$ in set $S$ &nbsp;&nbsp; , &nbsp;&nbsp; $x \\notin S$ reads as $x$ not in set $S$\n",
    "\n",
    "a set $\\{a,b,c,d\\}$ is finite, as we can count 4 objects in it.\n",
    "\n",
    "a set ${\\Bbb R}$ (all real numbers) is infinite since we can't count how many objects it contains.\n",
    "\n",
    "a set $\\{x\\in{\\Bbb R}:cos(x)>\\frac{1}{2}\\}$ reads as \"set of all $x$ in ${\\Bbb R}$ in where $cos(x)>\\frac{1}{2}$\" (a condition is set after the colon).\n",
    "\n",
    "$\\Omega$ symbol is a Universal set\n",
    "\n",
    "Smaller sets in $\\Omega$ are denoted as $S$ and an object $x$ that lies in $\\Omega$ but not in $S$ belongs to the set $S^c$ and is notated as follows: $$x\\in S^c\\quad\\textrm{if}\\quad x\\in \\Omega\\quad\\textrm{but}\\quad x\\notin S$$\n",
    "\n",
    "which reads: \"$x$ belongs to complement of $S$ (or $S^c$) if $x$ belongs to $\\Omega$ but not to $S$\".\n",
    "\n",
    "Then we can say that a set $S$ inside $\\Omega$ is the complement of the complement, i.e. $S = (S^c)^c$\n",
    "\n",
    "$\\emptyset$ is the symbol for an empty set ($\\Omega^c = \\emptyset$).\n",
    "\n",
    "A set within a larger set is noted as $S\\subset T$,which reads \"$S$ subset of $T$\". It is possible that the size of $S$ is equal to the size of $T$. It can be deducted that if $x\\in S$ then $x\\in T$\n",
    "\n",
    "Set union: $S\\cup T$ ($x\\in S\\cup T\\iff x\\in S\\quad\\textrm{or}\\quad x\\in T$)\n",
    "\n",
    "$\\iff$ means \"if and only if\".\n",
    "\n",
    "Set intersection: $S\\cap T$ ($x\\in S\\cap T\\iff x\\in S\\quad\\textrm{and}\\quad x\\in T$)\n",
    "\n",
    "Infinite Sets: $S_n$ sets ($n$ being any positive integer) have the following rules: $$x\\in \\underset{n}{\\cup}S_n \\iff x\\in S_n\\quad\\textrm{for some of }\\quad n$$ $$x\\in \\underset{n}{\\cap}S_n \\iff x\\in S_n \\quad\\textrm{for all of }\\quad n$$\n",
    "\n",
    "The union of a set with the Universal set is the Universal set: $S\\cup\\Omega = \\Omega$\n",
    "\n",
    "The intersection of the complement of a set with the set is an empty set: $S\\cap S^c = \\emptyset$\n",
    "\n",
    "The intersection of a set with $\\Omega$ is the set: $S\\cap\\Omega = S$\n",
    "\n",
    "### De Morgan's Laws\n",
    "\n",
    "$(S\\cap T)^c = S^c\\cup T^c$\n",
    "\n",
    "$S^c\\cap T^c = (S\\cup T)^c$\n",
    "\n",
    "For more than two sets: $$(\\underset{n}{\\cap} S_n)^c = \\underset{n}{\\cup} S_n^c$$ $$(\\underset{n}{\\cup} S_n)^c = \\underset{n}{\\cap} S_n^c$$ \n",
    "\n",
    "\n",
    "### GENIUSES AND CHOCOLATES PROBLEM\n",
    "\n",
    "- 60% of students in a class are geniuses\n",
    "- 70% are chocolate lovers\n",
    "- 40% are both\n",
    "\n",
    "Determine the probability that a random student will neither be a genius nor like chocolate.\n",
    "\n",
    "The sample space $\\Omega$ then consists of the sets Geniuses, Chocolate lovers, and Neither (3 sets).\n",
    "- $P(G) = 0.6$ (set 1)\n",
    "- $P(C) = 0.7$ (set 2)\n",
    "- $P(G\\cap C) = 0.4$ (intersection of set 1 and 2)\n",
    "- $P((G\\cup C)^c) =$ ? (set 3)\n",
    "\n",
    "We can partition each segment within the sample space (using a Venn diagram will be helpful). To partition, sets must be disjoint. 2 of the sets are joined, but we can turn the 3 sets into 4 disjoint sets:\n",
    "\n",
    "- $P(x)=$ samples only in $P((G\\cup C)^c)$ (set 1)\n",
    "- $P(y)=$ samples only in $P(G)$ (set 2)\n",
    "- $P(z)=$ samples only in $P(G\\cap C)$ (set 3)\n",
    "- $P(w)=$ samples only in $P(C)$ (set 4)\n",
    "\n",
    "Now we can use the axioms to solve the following:\n",
    "\n",
    "$P(G) = P(y)\\cup P(z) = P(y) + P(z)$\n",
    "\n",
    "$P(C) = P(w)\\cup P(z) = P(w) + P(z)$\n",
    "\n",
    "$P(z) = 0.4$\n",
    "\n",
    "$P(y) = 0.6 - P(z)$\n",
    "\n",
    "$P(w) = 0.7 - P(z)$\n",
    "\n",
    "Replacing: If $P(G) = 0.6$ and $P(G) = P(y) + 0.4$, then $P(y) + 0.4 = 0.6$ so finally $P(y) = 0.2$\n",
    "\n",
    "Replacing: If $P(C) = 0.7$ and $P(C) = P(w) + 0.4$, then $P(w) + 0.4 = 0.7$ so finally $P(w) = 0.3$\n",
    "\n",
    "Knowing that $P(\\Omega) = 1$, then $P(y) + P(w) + P(z) + P(x) = 1$\n",
    "\n",
    "Replacing: $0.2 + 0.3 + 0.4 + P(x) = 1$ $$P(x) = 1 - 0.9$$ $$P(x) = 0.1$$\n"
   ]
  },
  {
   "cell_type": "code",
   "execution_count": 5,
   "metadata": {},
   "outputs": [
    {
     "data": {
      "text/plain": [
       "'The probability of the complement is: 0.10'"
      ]
     },
     "execution_count": 5,
     "metadata": {},
     "output_type": "execute_result"
    }
   ],
   "source": [
    "# Code for Chocolates and Geniuses\n",
    "def PofComplement(sets,intersections,r=5):\n",
    "    \"\"\"Calculate the complement of all sets in a sample space\n",
    "    sets: dictionary set => probability float\n",
    "    intersections: dictionary intersection => probability float\n",
    "    r: round to r number of digits \"\"\"\n",
    "    \n",
    "    union = set() #create a set of each partition probability\n",
    "    for s in sets:\n",
    "        for i in intersections:\n",
    "            union.add(intersections[i]) #include the proability of this partition in the union set\n",
    "            if s in str(i):\n",
    "                #if a set is part of the intersection, substract the intersection\n",
    "                union.add(round(sets[s]-intersections[i],r))\n",
    "    #return the complement of the union, 1-union.\n",
    "    return 'The probability of the complement is: %.2f'%round(1-sum(union),r) \n",
    "\n",
    "PofComplement({'G':0.6,'C':0.7},{'GC':0.4}) "
   ]
  },
  {
   "cell_type": "markdown",
   "metadata": {},
   "source": [
    "### Problem: Uniform probabilities on a square\n",
    "\n",
    "Romeo and Juliet have a date at a given time, and each will arrive at the meeting place with a delay between 0 and 1 hour, with all pairs of delays being “equally likely,\" that is, according to a uniform probability law on the unit square. The first to arrive will wait for 15 minutes and will leave if the other has not arrived. What is the probability that they will meet?"
   ]
  },
  {
   "cell_type": "code",
   "execution_count": 6,
   "metadata": {},
   "outputs": [
    {
     "data": {
      "image/png": "[encoded data removed]",
      "text/plain": [
       "<Figure size 432x288 with 1 Axes>"
      ]
     },
     "metadata": {
      "needs_background": "light"
     },
     "output_type": "display_data"
    },
    {
     "name": "stdout",
     "output_type": "stream",
     "text": [
      "Estimated area: 0.438125 \n",
      "\n",
      "Area by looking at the graph:\n"
     ]
    },
    {
     "data": {
      "text/markdown": [
       "$Area\\, Triangles = \\left(\\frac{0.75\\times 0.75}{2}\\right)\\times 2 = 0.5625\\\\\\\n",
       "Area\\, meeting = 1-0.5625 = 0.4375$"
      ],
      "text/plain": [
       "<IPython.core.display.Markdown object>"
      ]
     },
     "metadata": {},
     "output_type": "display_data"
    }
   ],
   "source": [
    "times = 8000\n",
    "\n",
    "sampleSpace_area = 1\n",
    "\n",
    "np.random.seed(0)\n",
    "x = np.random.uniform(0,1,times)\n",
    "y = np.random.uniform(0,1,times)\n",
    "\n",
    "meetX = x[abs(x-y) <= 0.25] #Romeo is the x-axis, if he arrives first, he waits 1/4 of an hour \n",
    "meetY = y[abs(x-y) <= 0.25] #Juliet is the y-axis, if she arrives first, she waits 1/4 of an hour\n",
    "\n",
    "est_area = (len(meetX)*sampleSpace_area)/times\n",
    "\n",
    "plt.plot(x[abs(x-y) > 0.25],y[abs(x-y) > 0.25],'.')\n",
    "plt.title('Probability of Romeo and Juliet meeting')\n",
    "plt.xlabel('Romeo arrivals')\n",
    "plt.ylabel('Juliet arrivals')\n",
    "plt.xticks(np.arange(0,1.1,0.25)) #Use np.arange() because range() only works with integers\n",
    "plt.yticks(np.arange(0,1.1,0.25))\n",
    "plt.plot(meetX,meetY,'.r')\n",
    "plt.show()\n",
    "\n",
    "print('Estimated area:',est_area,'\\n')\n",
    "print('Area by looking at the graph:')\n",
    "display_math(r'Area\\, Triangles = \\left(\\frac{0.75\\times 0.75}{2}\\right)\\times 2 = 0.5625\\\\\\\n",
    "Area\\, meeting = 1-0.5625 = 0.4375')\n",
    "\n",
    "# print(len(meetX),len(meetY))"
   ]
  },
  {
   "cell_type": "markdown",
   "metadata": {},
   "source": [
    ">## [Unit 2: Conditioning and independence](#TOC)<a class=\"anchor\" id=\"U2\"></a>\n",
    "\n",
    "\n",
    "### Exercise: Total probability theorem\n",
    "\n",
    "We have an infinite collection of biased coins, indexed by the positive integers. Coin  $i$  has probability  $2^{−i}$ of being selected. A flip of coin  $i$  results in Heads with probability  $3^{−i}$ . We select a coin and flip it. What is the probability that the result is Heads? The geometric sum formula may be useful here:$\\displaystyle\\sum_{i=1}^{\\infty}\\alpha = \\frac{\\alpha}{1-\\alpha}$ when $|\\alpha| < 1$\n",
    "\n",
    "Solution:\n",
    "\n",
    "$P(Coin_i)\\cdot P(H|Coin_i) = \\frac{1}{2}\\cdot \\frac{1}{3} = \\frac{1}{6}$\n",
    "\n",
    "$= \\displaystyle\\sum_{i=1}^\\infty\\frac{1}{6} = \\frac{\\frac{1}{6}}{1-\\frac{1}{6}} = \\frac{6}{30} = \\frac{1}{5}$"
   ]
  },
  {
   "cell_type": "code",
   "execution_count": 7,
   "metadata": {},
   "outputs": [
    {
     "name": "stdout",
     "output_type": "stream",
     "text": [
      "Probability of coin flip results in heads: 0.2\n"
     ]
    }
   ],
   "source": [
    "#Solution\n",
    "\n",
    "#P(A∩B) = P(A)*P(B|A)\n",
    "#P(B|A) = 1/3 that is 3^-1\n",
    "\n",
    "def ConditionalProb(PeventA,Pevents): \n",
    "    intersections = {'event 1':PeventA}\n",
    "    for e in range(len(Pevents)):\n",
    "        intersections['event %d'%(e+2)] = round(intersections['event %d'%(e+1)]*Pevents[e], 5)\n",
    "        \n",
    "    Pxs = {'P(%s)'%i:round((intersections[i])/(1-intersections[i]),5) for i in intersections}\n",
    "    Pxs['P(event 1)'] = PeventA #Correct the prob. of event A, if not it will show 1.\n",
    "          \n",
    "    return Pxs\n",
    "        \n",
    "print('Probability of coin flip results in heads:',ConditionalProb(0.5,[1/3])['P(event 2)'])       "
   ]
  },
  {
   "cell_type": "markdown",
   "metadata": {},
   "source": [
    "### Conditional Probabilities\n",
    "\n",
    "$P(A|B) = \\frac{P(A\\cap B)}{P(B)}$\n",
    "\n",
    "$P(A|B)$ reads as *\" probability of $A$ given $B$ \"*"
   ]
  },
  {
   "cell_type": "code",
   "execution_count": 8,
   "metadata": {},
   "outputs": [
    {
     "data": {
      "text/html": [
       "        <script type=\"text/javascript\">\n",
       "        window.PlotlyConfig = {MathJaxConfig: 'local'};\n",
       "        if (window.MathJax) {MathJax.Hub.Config({SVG: {font: \"STIX-Web\"}});}\n",
       "        if (typeof require !== 'undefined') {\n",
       "        require.undef(\"plotly\");\n",
       "        requirejs.config({\n",
       "            paths: {\n",
       "                'plotly': ['https://cdn.plot.ly/plotly-latest.min']\n",
       "            }\n",
       "        });\n",
       "        require(['plotly'], function(Plotly) {\n",
       "            window._Plotly = Plotly;\n",
       "        });\n",
       "        }\n",
       "        </script>\n",
       "        "
      ]
     },
     "metadata": {},
     "output_type": "display_data"
    },
    {
     "data": {
      "application/vnd.plotly.v1+json": {
       "config": {
        "linkText": "Export to plot.ly",
        "plotlyServerURL": "https://plot.ly",
        "showLink": false
       },
       "data": [
        {
         "marker": {
          "color": [],
          "showscale": false,
          "size": 0
         },
         "mode": "text",
         "text": [],
         "type": "scatter",
         "uid": "e7454fd7-c0dd-4d75-953f-aab5780ddcf7",
         "x": [
          0
         ],
         "y": [
          0.5
         ]
        },
        {
         "line": {
          "color": "#777",
          "width": 0.9
         },
         "mode": "lines",
         "text": [],
         "type": "scatter",
         "uid": "f0e3b049-dc42-4235-a29c-c2c8cfaef5ff",
         "x": [
          0,
          0.12,
          null,
          0,
          0.12,
          null,
          0.12,
          0.24,
          null,
          0.12,
          0.24,
          null,
          0.12,
          0.24,
          null,
          0.12,
          0.24,
          null
         ],
         "y": [
          0.5,
          1,
          null,
          0.5,
          0,
          null,
          1,
          1.25,
          null,
          1,
          0.75,
          null,
          0,
          0.25,
          null,
          0,
          -0.25,
          null
         ]
        },
        {
         "marker": {
          "color": [
           "white",
           "white",
           "white",
           "white",
           "white",
           "white"
          ],
          "showscale": false,
          "size": 70,
          "symbol": "diamond-wide"
         },
         "mode": "markers+text",
         "name": "Nodes",
         "showlegend": false,
         "text": [
          "$\\color{blue}{\\LARGE A}$",
          "$\\color{blue}{\\LARGE A^c}$",
          "$\\color{blue}{\\LARGE A}\\LARGE \\cap\\color{red}{\\LARGE B}$",
          "$\\color{blue}{\\LARGE A}\\LARGE \\cap\\color{red}{\\LARGE B^c}$",
          "$\\color{blue}{\\LARGE A^c}\\LARGE \\cap\\color{red}{\\LARGE B}$",
          "$\\color{blue}{\\LARGE A^c}\\LARGE \\cap\\color{red}{\\LARGE B^c}$"
         ],
         "textfont": {
          "size": 12
         },
         "type": "scatter",
         "uid": "fd14a54e-d078-4070-ad7b-b71089117e63",
         "x": [
          0.12,
          0.12,
          0.24,
          0.24,
          0.24,
          0.24
         ],
         "y": [
          1,
          0,
          1.25,
          0.75,
          0.25,
          -0.25
         ]
        }
       ],
       "layout": {
        "annotations": [
         {
          "align": "center",
          "arrowsize": 1,
          "arrowwidth": 1,
          "ax": 3,
          "ay": -5,
          "borderpad": 1,
          "font": {
           "color": "#333",
           "size": 11
          },
          "showarrow": true,
          "text": "$P(\\color{blue}{A})\\\\ 0.05$",
          "x": 0.06,
          "xref": "x",
          "y": 0.75,
          "yref": "y"
         },
         {
          "align": "center",
          "arrowsize": 1,
          "arrowwidth": 1,
          "ax": 3,
          "ay": -5,
          "borderpad": 1,
          "font": {
           "color": "#333",
           "size": 11
          },
          "showarrow": true,
          "text": "$P(\\color{blue}{A^c})\\\\ 0.95$",
          "x": 0.06,
          "xref": "x",
          "y": 0.25,
          "yref": "y"
         },
         {
          "align": "center",
          "arrowsize": 1,
          "arrowwidth": 1,
          "ax": 3,
          "ay": -5,
          "borderpad": 1,
          "font": {
           "color": "#333",
           "size": 11
          },
          "showarrow": true,
          "text": "$P(\\color{red}{B}|\\color{blue}{A})\\\\ 0.99$",
          "x": 0.18,
          "xref": "x",
          "y": 1.125,
          "yref": "y"
         },
         {
          "align": "center",
          "arrowsize": 1,
          "arrowwidth": 1,
          "ax": 3,
          "ay": -5,
          "borderpad": 1,
          "font": {
           "color": "#333",
           "size": 11
          },
          "showarrow": true,
          "text": "$P(\\color{red}{B^c}|\\color{blue}{A})\\\\ 0.01$",
          "x": 0.18,
          "xref": "x",
          "y": 0.875,
          "yref": "y"
         },
         {
          "align": "center",
          "arrowsize": 1,
          "arrowwidth": 1,
          "ax": 3,
          "ay": -5,
          "borderpad": 1,
          "font": {
           "color": "#333",
           "size": 11
          },
          "showarrow": true,
          "text": "$P(\\color{red}{B}|\\color{blue}{A^c})\\\\ 0.1$",
          "x": 0.18,
          "xref": "x",
          "y": 0.125,
          "yref": "y"
         },
         {
          "align": "center",
          "arrowsize": 1,
          "arrowwidth": 1,
          "ax": 3,
          "ay": -5,
          "borderpad": 1,
          "font": {
           "color": "#333",
           "size": 11
          },
          "showarrow": true,
          "text": "$P(\\color{red}{B^c}|\\color{blue}{A^c})\\\\ 0.90$",
          "x": 0.18,
          "xref": "x",
          "y": -0.125,
          "yref": "y"
         }
        ],
        "autosize": true,
        "height": 400,
        "hovermode": "closest",
        "margin": {
         "b": 0,
         "l": 0,
         "r": 0,
         "t": 30
        },
        "showlegend": false,
        "title": {
         "font": {
          "size": 16
         },
         "text": "Radar Probability of Detecting a Plane",
         "x": 0.05
        },
        "width": 900,
        "xaxis": {
         "range": [
          -0.01,
          0.69
         ],
         "showgrid": false,
         "showticklabels": false,
         "zeroline": false
        },
        "yaxis": {
         "range": [
          -0.35,
          1.35
         ],
         "showgrid": false,
         "showticklabels": false,
         "zeroline": false
        }
       }
      },
      "text/html": [
       "<div>\n",
       "        \n",
       "        \n",
       "            <div id=\"9e3d6d49-dae5-4706-bfe1-0ada1230897f\" class=\"plotly-graph-div\" style=\"height:400px; width:900px;\"></div>\n",
       "            <script type=\"text/javascript\">\n",
       "                require([\"plotly\"], function(Plotly) {\n",
       "                    window.PLOTLYENV=window.PLOTLYENV || {};\n",
       "                    window.PLOTLYENV.BASE_URL='https://plot.ly';\n",
       "                    \n",
       "                if (document.getElementById(\"9e3d6d49-dae5-4706-bfe1-0ada1230897f\")) {\n",
       "                    Plotly.newPlot(\n",
       "                        '9e3d6d49-dae5-4706-bfe1-0ada1230897f',\n",
       "                        [{\"marker\": {\"color\": [], \"showscale\": false, \"size\": 0}, \"mode\": \"text\", \"text\": [], \"type\": \"scatter\", \"uid\": \"e7454fd7-c0dd-4d75-953f-aab5780ddcf7\", \"x\": [0], \"y\": [0.5]}, {\"line\": {\"color\": \"#777\", \"width\": 0.9}, \"mode\": \"lines\", \"text\": [], \"type\": \"scatter\", \"uid\": \"f0e3b049-dc42-4235-a29c-c2c8cfaef5ff\", \"x\": [0, 0.12, null, 0, 0.12, null, 0.12, 0.24, null, 0.12, 0.24, null, 0.12, 0.24, null, 0.12, 0.24, null], \"y\": [0.5, 1.0, null, 0.5, 0.0, null, 1.0, 1.25, null, 1.0, 0.75, null, 0.0, 0.25, null, 0.0, -0.25, null]}, {\"marker\": {\"color\": [\"white\", \"white\", \"white\", \"white\", \"white\", \"white\"], \"showscale\": false, \"size\": 70, \"symbol\": \"diamond-wide\"}, \"mode\": \"markers+text\", \"name\": \"Nodes\", \"showlegend\": false, \"text\": [\"$\\\\color{blue}{\\\\LARGE A}$\", \"$\\\\color{blue}{\\\\LARGE A^c}$\", \"$\\\\color{blue}{\\\\LARGE A}\\\\LARGE \\\\cap\\\\color{red}{\\\\LARGE B}$\", \"$\\\\color{blue}{\\\\LARGE A}\\\\LARGE \\\\cap\\\\color{red}{\\\\LARGE B^c}$\", \"$\\\\color{blue}{\\\\LARGE A^c}\\\\LARGE \\\\cap\\\\color{red}{\\\\LARGE B}$\", \"$\\\\color{blue}{\\\\LARGE A^c}\\\\LARGE \\\\cap\\\\color{red}{\\\\LARGE B^c}$\"], \"textfont\": {\"size\": 12}, \"type\": \"scatter\", \"uid\": \"fd14a54e-d078-4070-ad7b-b71089117e63\", \"x\": [0.12, 0.12, 0.24, 0.24, 0.24, 0.24], \"y\": [1.0, 0.0, 1.25, 0.75, 0.25, -0.25]}],\n",
       "                        {\"annotations\": [{\"align\": \"center\", \"arrowsize\": 1, \"arrowwidth\": 1, \"ax\": 3, \"ay\": -5, \"borderpad\": 1, \"font\": {\"color\": \"#333\", \"size\": 11}, \"showarrow\": true, \"text\": \"$P(\\\\color{blue}{A})\\\\\\\\ 0.05$\", \"x\": 0.06, \"xref\": \"x\", \"y\": 0.75, \"yref\": \"y\"}, {\"align\": \"center\", \"arrowsize\": 1, \"arrowwidth\": 1, \"ax\": 3, \"ay\": -5, \"borderpad\": 1, \"font\": {\"color\": \"#333\", \"size\": 11}, \"showarrow\": true, \"text\": \"$P(\\\\color{blue}{A^c})\\\\\\\\ 0.95$\", \"x\": 0.06, \"xref\": \"x\", \"y\": 0.25, \"yref\": \"y\"}, {\"align\": \"center\", \"arrowsize\": 1, \"arrowwidth\": 1, \"ax\": 3, \"ay\": -5, \"borderpad\": 1, \"font\": {\"color\": \"#333\", \"size\": 11}, \"showarrow\": true, \"text\": \"$P(\\\\color{red}{B}|\\\\color{blue}{A})\\\\\\\\ 0.99$\", \"x\": 0.18, \"xref\": \"x\", \"y\": 1.125, \"yref\": \"y\"}, {\"align\": \"center\", \"arrowsize\": 1, \"arrowwidth\": 1, \"ax\": 3, \"ay\": -5, \"borderpad\": 1, \"font\": {\"color\": \"#333\", \"size\": 11}, \"showarrow\": true, \"text\": \"$P(\\\\color{red}{B^c}|\\\\color{blue}{A})\\\\\\\\ 0.01$\", \"x\": 0.18, \"xref\": \"x\", \"y\": 0.875, \"yref\": \"y\"}, {\"align\": \"center\", \"arrowsize\": 1, \"arrowwidth\": 1, \"ax\": 3, \"ay\": -5, \"borderpad\": 1, \"font\": {\"color\": \"#333\", \"size\": 11}, \"showarrow\": true, \"text\": \"$P(\\\\color{red}{B}|\\\\color{blue}{A^c})\\\\\\\\ 0.1$\", \"x\": 0.18, \"xref\": \"x\", \"y\": 0.125, \"yref\": \"y\"}, {\"align\": \"center\", \"arrowsize\": 1, \"arrowwidth\": 1, \"ax\": 3, \"ay\": -5, \"borderpad\": 1, \"font\": {\"color\": \"#333\", \"size\": 11}, \"showarrow\": true, \"text\": \"$P(\\\\color{red}{B^c}|\\\\color{blue}{A^c})\\\\\\\\ 0.90$\", \"x\": 0.18, \"xref\": \"x\", \"y\": -0.125, \"yref\": \"y\"}], \"autosize\": true, \"height\": 400, \"hovermode\": \"closest\", \"margin\": {\"b\": 0, \"l\": 0, \"r\": 0, \"t\": 30}, \"showlegend\": false, \"title\": {\"font\": {\"size\": 16}, \"text\": \"Radar Probability of Detecting a Plane\", \"x\": 0.05}, \"width\": 900, \"xaxis\": {\"range\": [-0.01, 0.69], \"showgrid\": false, \"showticklabels\": false, \"zeroline\": false}, \"yaxis\": {\"range\": [-0.35, 1.35], \"showgrid\": false, \"showticklabels\": false, \"zeroline\": false}},\n",
       "                        {\"showLink\": false, \"linkText\": \"Export to plot.ly\", \"plotlyServerURL\": \"https://plot.ly\", \"responsive\": true}\n",
       "                    ).then(function(){\n",
       "                            \n",
       "var gd = document.getElementById('9e3d6d49-dae5-4706-bfe1-0ada1230897f');\n",
       "var x = new MutationObserver(function (mutations, observer) {{\n",
       "        var display = window.getComputedStyle(gd).display;\n",
       "        if (!display || display === 'none') {{\n",
       "            console.log([gd, 'removed!']);\n",
       "            Plotly.purge(gd);\n",
       "            observer.disconnect();\n",
       "        }}\n",
       "}});\n",
       "\n",
       "// Listen for the removal of the full notebook cells\n",
       "var notebookContainer = gd.closest('#notebook-container');\n",
       "if (notebookContainer) {{\n",
       "    x.observe(notebookContainer, {childList: true});\n",
       "}}\n",
       "\n",
       "// Listen for the clearing of the current output cell\n",
       "var outputEl = gd.closest('.output');\n",
       "if (outputEl) {{\n",
       "    x.observe(outputEl, {childList: true});\n",
       "}}\n",
       "\n",
       "                        })\n",
       "                };\n",
       "                });\n",
       "            </script>\n",
       "        </div>"
      ]
     },
     "metadata": {},
     "output_type": "display_data"
    }
   ],
   "source": [
    "#Create a TreeGraph instance that shows the conditional probabilities of a radar when detecting planes:\n",
    "\n",
    "radar_nodes = {0:('',[1,2]), #(Node name, [children])\n",
    "               1:('$\\color{blue}{\\LARGE A}$',[3,4]),\n",
    "               2:('$\\color{blue}{\\LARGE A^c}$',[5,6]),\n",
    "               3:('$\\color{blue}{\\LARGE A}\\LARGE \\cap\\color{red}{\\LARGE B}$',None),\n",
    "               4:('$\\color{blue}{\\LARGE A}\\LARGE \\cap\\color{red}{\\LARGE B^c}$',None),\n",
    "               5:('$\\color{blue}{\\LARGE A^c}\\LARGE \\cap\\color{red}{\\LARGE B}$',None),\n",
    "               6:('$\\color{blue}{\\LARGE A^c}\\LARGE \\cap\\color{red}{\\LARGE B^c}$',None)}\n",
    "\n",
    "edge_labels = {'01':'$P(\\color{blue}{A})\\\\\\ 0.05$',\n",
    "               '02':'$P(\\color{blue}{A^c})\\\\\\ 0.95$',\n",
    "               '13':'$P(\\color{red}{B}|\\color{blue}{A})\\\\\\ 0.99$',\n",
    "               '14':'$P(\\color{red}{B^c}|\\color{blue}{A})\\\\\\ 0.01$',\n",
    "               '25':'$P(\\color{red}{B}|\\color{blue}{A^c})\\\\\\ 0.1$',\n",
    "               '26':'$P(\\color{red}{B^c}|\\color{blue}{A^c})\\\\\\ 0.90$'}\n",
    "\n",
    "edge_weights = {'01':0.05,'02':0.95,'13':0.99,'14':0.01,'25':0.1,'26':0.9}\n",
    "\n",
    "G = TreeGraph(orientation='h',root=radar_nodes[0][0],spread=2,gap=0.12,\n",
    "              nodes=radar_nodes,edge_weights=edge_weights,edge_labels=edge_labels)\n",
    "\n",
    "G.generic_plotly_plot(\"Radar Probability of Detecting a Plane\", \n",
    "                    title_pos=0.05, height=400, width=None,legend=False)\n"
   ]
  },
  {
   "cell_type": "markdown",
   "metadata": {},
   "source": [
    "**Radar Example: Models based on conditional probabilities**\n",
    "\n",
    "Event $\\color{blue}{A}$: Airplane is flying above.\n",
    "\n",
    "Event $\\color{red}{B}$: Something registers on radar screen.\n",
    "\n",
    "$P(\\color{blue}{A}|\\color{red}{B}) = \\frac{P(\\color{blue}{A}\\cap\\color{red}{B})}{P(\\color{red}{B})}$ $\\quad$ $\\text{ equals}$ $\\quad$ $P(\\color{red}{B}|\\color{blue}{A}) = \\frac{P(\\color{blue}{A}\\cap\\color{red}{B})}{P(\\color{blue}{A})}$\n",
    "\n",
    "$P(\\color{red}{B}|\\color{blue}{A}) \\times P(\\color{blue}{A})  = P(\\color{blue}{A}\\cap\\color{red}{B})$\n",
    "\n",
    "Looking at the probabilities of $P(\\color{blue}{A})$ and $P(\\color{red}{B}|\\color{blue}{A})$:\n",
    "\n",
    "* $P(\\color{red}{B}|\\color{blue}{A}) = 0.05 \\times 0.99$\n",
    "\n",
    ">$P(\\color{red}{B}|\\color{blue}{A}) = 0.0495$\n",
    "\n",
    "* $P(\\color{red}{B}) = 0.0495 + (0.95 \\times 0.1)$\n",
    "\n",
    ">$P(\\color{red}{B}) = 0.1445)$ \n",
    "\n",
    "* $P(\\color{blue}{A}|\\color{red}{B}) = \\frac{P(\\color{blue}{A}\\cap\\color{red}{B})}{P(\\color{red}{B})} = \\frac{0.0495} {0.1445} = 0.34 = 34\\%$\n",
    "\n",
    "34% probability that there is a plane on the sky when the radar detects one is very low for a radar that detects a plane 99 percent of the time. The discussion about this issue continues later.\n",
    "\n",
    "**Multiplication rule**\n",
    "\n",
    "$P(\\color{blue}{A^c}\\cap\\color{red}{B}\\cap\\color{#FF7E00}{C^c})$\n",
    "\n",
    "The above expression can be rearranged as:\n",
    "\n",
    "$= P(\\color{blue}{A^c}\\cap\\color{red}{B})P(\\color{#FF7E00}{C^c}|\\color{blue}{A^c}\\cap\\color{red}{B})$\n",
    "\n",
    "The above expression can be simplified as the multiplication of the prob. of the first event happening times the product(multiplication) of all the other events happening:\n",
    "\n",
    "$= P(\\color{blue}{A^c})\\cdot P(\\color{red}{B}|\\color{blue}{A^c}) P(\\color{#FF7E00}{C^c}|\\color{blue}{A^c}\\cap\\color{red}{B})$\n",
    "\n",
    "For  more events the rule holds:\n",
    "\n",
    "$P(A_1\\cap A_2\\cap ...A_n)$   =   \n",
    "$P(A_1)\\displaystyle\\prod_{i=2}^{n} P(A_i| A_1\\cap...\\cap A_{i-1})$\n",
    "\n",
    "**Total Probability Theorem**\n",
    "\n",
    "$P(\\color{red}{B}) = \\displaystyle\\sum_{i}\\color{blue}{P(A_i)}\\color{red}{P(B|A_i)}$  \n",
    "(The above equation returns a weighted average of $P(B|A_i)$)\n",
    "\n",
    "#### [Bayes' Rule](#TOC)<a class=\"anchor\" id=\"U2BR\"></a>\n",
    "\n",
    "- Systematic approach of incorporating new evidence and learning from experience.\n",
    "- Make an inference of the probability of event $A_i$ ocurring given event $B$ has occurred, that is, when we can calculate the probability of $B$ in the direction $P(B|A_i)$ then we can infer the probability of $A_i$ in direction $P(A_i|B)$. If, at the end of the 'branch' we find $B$ occurred, what is the probability that $A_i$ also ocurred?\n",
    "\n",
    "'Revised beliefs given that $B$ occurred.'\n",
    "\n",
    "Bayes' is a simple calculation dividing the multiplication rule by the Total Probability Theorem: $$P(A_i|B) = \\frac{\\color{blue}{P(A_i)}\\color{red}{P(B|A_i)}}{\\displaystyle\\sum_{j}\\color{blue}{P(A_j)}\\color{red}{P(B|A_j)}}$$\n",
    "\n",
    "#### Exercise: Bayes' rule and the false-positive puzzle\n",
    "\n",
    "A test for a certain rare disease is assumed to be correct  95%  of the time: if a person has the disease, the test result is positive with probability  0.95 , and if the person does not have the disease, the test result is negative with probability  0.95 . A person drawn at random from a certain population has probability  0.001  of having the disease.\n",
    "\n",
    "1. Find the probability that a random person tests positive. (This answer will require an accuracy of 4 decimal places.)\n",
    "2. Given that the person just tested positive, what is the probability he actually has the disease?"
   ]
  },
  {
   "cell_type": "code",
   "execution_count": 9,
   "metadata": {},
   "outputs": [
    {
     "data": {
      "text/html": [
       "        <script type=\"text/javascript\">\n",
       "        window.PlotlyConfig = {MathJaxConfig: 'local'};\n",
       "        if (window.MathJax) {MathJax.Hub.Config({SVG: {font: \"STIX-Web\"}});}\n",
       "        if (typeof require !== 'undefined') {\n",
       "        require.undef(\"plotly\");\n",
       "        requirejs.config({\n",
       "            paths: {\n",
       "                'plotly': ['https://cdn.plot.ly/plotly-latest.min']\n",
       "            }\n",
       "        });\n",
       "        require(['plotly'], function(Plotly) {\n",
       "            window._Plotly = Plotly;\n",
       "        });\n",
       "        }\n",
       "        </script>\n",
       "        "
      ]
     },
     "metadata": {},
     "output_type": "display_data"
    },
    {
     "data": {
      "application/vnd.plotly.v1+json": {
       "config": {
        "linkText": "Export to plot.ly",
        "plotlyServerURL": "https://plot.ly",
        "showLink": false
       },
       "data": [
        {
         "marker": {
          "color": [],
          "showscale": false,
          "size": 0
         },
         "mode": "text",
         "text": [],
         "type": "scatter",
         "uid": "f01119f1-83cc-4dba-b494-245182060250",
         "x": [
          0
         ],
         "y": [
          0.5
         ]
        },
        {
         "line": {
          "color": "#777",
          "width": 0.9
         },
         "mode": "lines",
         "text": [],
         "type": "scatter",
         "uid": "7fce68b0-6ee7-44f8-bda0-937a9e9f27d2",
         "x": [
          0,
          0.12,
          null,
          0,
          0.12,
          null,
          0.12,
          0.24,
          null,
          0.12,
          0.24,
          null,
          0.12,
          0.24,
          null,
          0.12,
          0.24,
          null
         ],
         "y": [
          0.5,
          1,
          null,
          0.5,
          0,
          null,
          1,
          1.25,
          null,
          1,
          0.75,
          null,
          0,
          0.25,
          null,
          0,
          -0.25,
          null
         ]
        },
        {
         "marker": {
          "color": [
           "white",
           "white",
           "white",
           "white",
           "white",
           "white"
          ],
          "showscale": false,
          "size": 70,
          "symbol": "diamond-wide"
         },
         "mode": "markers+text",
         "name": "Nodes",
         "showlegend": false,
         "text": [
          "$\\color{green}{\\LARGE S}$",
          "$\\color{green}{\\LARGE S^c}$",
          "$\\color{green}{\\LARGE S}\\LARGE \\cap\\color{red}{\\LARGE T}$",
          "$\\color{green}{\\LARGE S}\\LARGE \\cap\\color{red}{\\LARGE T^c}$",
          "$\\color{green}{\\LARGE S^c}\\LARGE \\cap\\color{red}{\\LARGE T^c}$",
          "$\\color{green}{\\LARGE S^c}\\LARGE \\cap\\color{red}{\\LARGE T}$"
         ],
         "textfont": {
          "size": 12
         },
         "type": "scatter",
         "uid": "adeffaa4-b914-4bc0-ba77-cc9ee8754161",
         "x": [
          0.12,
          0.12,
          0.24,
          0.24,
          0.24,
          0.24
         ],
         "y": [
          1,
          0,
          1.25,
          0.75,
          0.25,
          -0.25
         ]
        }
       ],
       "layout": {
        "annotations": [
         {
          "showarrow": false,
          "text": "$\\color{green}{\\Large S}$",
          "x": 0.39,
          "xanchor": "left",
          "y": 0.625
         },
         {
          "showarrow": false,
          "text": "$\\normalsize\\textsf{ sick patient}$",
          "x": 0.41000000000000003,
          "xanchor": "left",
          "y": 0.625
         },
         {
          "showarrow": false,
          "text": "$\\color{green}{\\Large S^c}$",
          "x": 0.39,
          "xanchor": "left",
          "y": 0.495
         },
         {
          "showarrow": false,
          "text": "$\\normalsize\\textsf{ healthy patient}$",
          "x": 0.41000000000000003,
          "xanchor": "left",
          "y": 0.495
         },
         {
          "showarrow": false,
          "text": "$\\color{red}{\\Large T}$",
          "x": 0.39,
          "xanchor": "left",
          "y": 0.365
         },
         {
          "showarrow": false,
          "text": "$\\normalsize\\textsf{ test positive}$",
          "x": 0.41000000000000003,
          "xanchor": "left",
          "y": 0.365
         },
         {
          "showarrow": false,
          "text": "$\\color{red}{\\Large T^c}$",
          "x": 0.39,
          "xanchor": "left",
          "y": 0.235
         },
         {
          "showarrow": false,
          "text": "$\\normalsize\\textsf{ test negative}$",
          "x": 0.41000000000000003,
          "xanchor": "left",
          "y": 0.235
         },
         {
          "align": "center",
          "arrowsize": 1,
          "arrowwidth": 1,
          "ax": 3,
          "ay": -5,
          "borderpad": 1,
          "font": {
           "color": "#333",
           "size": 11
          },
          "showarrow": true,
          "text": "$P(\\color{green}{S})\\\\ 0.001$",
          "x": 0.06,
          "xref": "x",
          "y": 0.75,
          "yref": "y"
         },
         {
          "align": "center",
          "arrowsize": 1,
          "arrowwidth": 1,
          "ax": 3,
          "ay": -5,
          "borderpad": 1,
          "font": {
           "color": "#333",
           "size": 11
          },
          "showarrow": true,
          "text": "$P(\\color{green}{S^c})\\\\ 0.999$",
          "x": 0.06,
          "xref": "x",
          "y": 0.25,
          "yref": "y"
         },
         {
          "align": "center",
          "arrowsize": 1,
          "arrowwidth": 1,
          "ax": 3,
          "ay": -5,
          "borderpad": 1,
          "font": {
           "color": "#333",
           "size": 11
          },
          "showarrow": true,
          "text": "$P(\\color{red}{T}|\\color{green}{S})\\\\ 0.95$",
          "x": 0.18,
          "xref": "x",
          "y": 1.125,
          "yref": "y"
         },
         {
          "align": "center",
          "arrowsize": 1,
          "arrowwidth": 1,
          "ax": 3,
          "ay": -5,
          "borderpad": 1,
          "font": {
           "color": "#333",
           "size": 11
          },
          "showarrow": true,
          "text": "$P(\\color{red}{T^c}|\\color{green}{S})\\\\ 0.05$",
          "x": 0.18,
          "xref": "x",
          "y": 0.875,
          "yref": "y"
         },
         {
          "align": "center",
          "arrowsize": 1,
          "arrowwidth": 1,
          "ax": 3,
          "ay": -5,
          "borderpad": 1,
          "font": {
           "color": "#333",
           "size": 11
          },
          "showarrow": true,
          "text": "$P(\\color{red}{T^c}|\\color{green}{S^c})\\\\ 0.95$",
          "x": 0.18,
          "xref": "x",
          "y": 0.125,
          "yref": "y"
         },
         {
          "align": "center",
          "arrowsize": 1,
          "arrowwidth": 1,
          "ax": 3,
          "ay": -5,
          "borderpad": 1,
          "font": {
           "color": "#333",
           "size": 11
          },
          "showarrow": true,
          "text": "$P(\\color{red}{T}|\\color{green}{S^c})\\\\ 0.05$",
          "x": 0.18,
          "xref": "x",
          "y": -0.125,
          "yref": "y"
         }
        ],
        "autosize": true,
        "height": 400,
        "hovermode": "closest",
        "margin": {
         "b": 0,
         "l": 0,
         "r": 0,
         "t": 30
        },
        "showlegend": false,
        "title": {
         "font": {
          "size": 16
         },
         "text": "Patient Probability of Having Disease",
         "x": 0.05
        },
        "width": 900,
        "xaxis": {
         "range": [
          -0.01,
          0.69
         ],
         "showgrid": false,
         "showticklabels": false,
         "zeroline": false
        },
        "yaxis": {
         "range": [
          -0.35,
          1.35
         ],
         "showgrid": false,
         "showticklabels": false,
         "zeroline": false
        }
       }
      },
      "text/html": [
       "<div>\n",
       "        \n",
       "        \n",
       "            <div id=\"319f31f0-b686-43e3-91c0-975ad2233587\" class=\"plotly-graph-div\" style=\"height:400px; width:900px;\"></div>\n",
       "            <script type=\"text/javascript\">\n",
       "                require([\"plotly\"], function(Plotly) {\n",
       "                    window.PLOTLYENV=window.PLOTLYENV || {};\n",
       "                    window.PLOTLYENV.BASE_URL='https://plot.ly';\n",
       "                    \n",
       "                if (document.getElementById(\"319f31f0-b686-43e3-91c0-975ad2233587\")) {\n",
       "                    Plotly.newPlot(\n",
       "                        '319f31f0-b686-43e3-91c0-975ad2233587',\n",
       "                        [{\"marker\": {\"color\": [], \"showscale\": false, \"size\": 0}, \"mode\": \"text\", \"text\": [], \"type\": \"scatter\", \"uid\": \"f01119f1-83cc-4dba-b494-245182060250\", \"x\": [0], \"y\": [0.5]}, {\"line\": {\"color\": \"#777\", \"width\": 0.9}, \"mode\": \"lines\", \"text\": [], \"type\": \"scatter\", \"uid\": \"7fce68b0-6ee7-44f8-bda0-937a9e9f27d2\", \"x\": [0, 0.12, null, 0, 0.12, null, 0.12, 0.24, null, 0.12, 0.24, null, 0.12, 0.24, null, 0.12, 0.24, null], \"y\": [0.5, 1.0, null, 0.5, 0.0, null, 1.0, 1.25, null, 1.0, 0.75, null, 0.0, 0.25, null, 0.0, -0.25, null]}, {\"marker\": {\"color\": [\"white\", \"white\", \"white\", \"white\", \"white\", \"white\"], \"showscale\": false, \"size\": 70, \"symbol\": \"diamond-wide\"}, \"mode\": \"markers+text\", \"name\": \"Nodes\", \"showlegend\": false, \"text\": [\"$\\\\color{green}{\\\\LARGE S}$\", \"$\\\\color{green}{\\\\LARGE S^c}$\", \"$\\\\color{green}{\\\\LARGE S}\\\\LARGE \\\\cap\\\\color{red}{\\\\LARGE T}$\", \"$\\\\color{green}{\\\\LARGE S}\\\\LARGE \\\\cap\\\\color{red}{\\\\LARGE T^c}$\", \"$\\\\color{green}{\\\\LARGE S^c}\\\\LARGE \\\\cap\\\\color{red}{\\\\LARGE T^c}$\", \"$\\\\color{green}{\\\\LARGE S^c}\\\\LARGE \\\\cap\\\\color{red}{\\\\LARGE T}$\"], \"textfont\": {\"size\": 12}, \"type\": \"scatter\", \"uid\": \"adeffaa4-b914-4bc0-ba77-cc9ee8754161\", \"x\": [0.12, 0.12, 0.24, 0.24, 0.24, 0.24], \"y\": [1.0, 0.0, 1.25, 0.75, 0.25, -0.25]}],\n",
       "                        {\"annotations\": [{\"showarrow\": false, \"text\": \"$\\\\color{green}{\\\\Large S}$\", \"x\": 0.39, \"xanchor\": \"left\", \"y\": 0.625}, {\"showarrow\": false, \"text\": \"$\\\\normalsize\\\\textsf{ sick patient}$\", \"x\": 0.41000000000000003, \"xanchor\": \"left\", \"y\": 0.625}, {\"showarrow\": false, \"text\": \"$\\\\color{green}{\\\\Large S^c}$\", \"x\": 0.39, \"xanchor\": \"left\", \"y\": 0.495}, {\"showarrow\": false, \"text\": \"$\\\\normalsize\\\\textsf{ healthy patient}$\", \"x\": 0.41000000000000003, \"xanchor\": \"left\", \"y\": 0.495}, {\"showarrow\": false, \"text\": \"$\\\\color{red}{\\\\Large T}$\", \"x\": 0.39, \"xanchor\": \"left\", \"y\": 0.365}, {\"showarrow\": false, \"text\": \"$\\\\normalsize\\\\textsf{ test positive}$\", \"x\": 0.41000000000000003, \"xanchor\": \"left\", \"y\": 0.365}, {\"showarrow\": false, \"text\": \"$\\\\color{red}{\\\\Large T^c}$\", \"x\": 0.39, \"xanchor\": \"left\", \"y\": 0.235}, {\"showarrow\": false, \"text\": \"$\\\\normalsize\\\\textsf{ test negative}$\", \"x\": 0.41000000000000003, \"xanchor\": \"left\", \"y\": 0.235}, {\"align\": \"center\", \"arrowsize\": 1, \"arrowwidth\": 1, \"ax\": 3, \"ay\": -5, \"borderpad\": 1, \"font\": {\"color\": \"#333\", \"size\": 11}, \"showarrow\": true, \"text\": \"$P(\\\\color{green}{S})\\\\\\\\ 0.001$\", \"x\": 0.06, \"xref\": \"x\", \"y\": 0.75, \"yref\": \"y\"}, {\"align\": \"center\", \"arrowsize\": 1, \"arrowwidth\": 1, \"ax\": 3, \"ay\": -5, \"borderpad\": 1, \"font\": {\"color\": \"#333\", \"size\": 11}, \"showarrow\": true, \"text\": \"$P(\\\\color{green}{S^c})\\\\\\\\ 0.999$\", \"x\": 0.06, \"xref\": \"x\", \"y\": 0.25, \"yref\": \"y\"}, {\"align\": \"center\", \"arrowsize\": 1, \"arrowwidth\": 1, \"ax\": 3, \"ay\": -5, \"borderpad\": 1, \"font\": {\"color\": \"#333\", \"size\": 11}, \"showarrow\": true, \"text\": \"$P(\\\\color{red}{T}|\\\\color{green}{S})\\\\\\\\ 0.95$\", \"x\": 0.18, \"xref\": \"x\", \"y\": 1.125, \"yref\": \"y\"}, {\"align\": \"center\", \"arrowsize\": 1, \"arrowwidth\": 1, \"ax\": 3, \"ay\": -5, \"borderpad\": 1, \"font\": {\"color\": \"#333\", \"size\": 11}, \"showarrow\": true, \"text\": \"$P(\\\\color{red}{T^c}|\\\\color{green}{S})\\\\\\\\ 0.05$\", \"x\": 0.18, \"xref\": \"x\", \"y\": 0.875, \"yref\": \"y\"}, {\"align\": \"center\", \"arrowsize\": 1, \"arrowwidth\": 1, \"ax\": 3, \"ay\": -5, \"borderpad\": 1, \"font\": {\"color\": \"#333\", \"size\": 11}, \"showarrow\": true, \"text\": \"$P(\\\\color{red}{T^c}|\\\\color{green}{S^c})\\\\\\\\ 0.95$\", \"x\": 0.18, \"xref\": \"x\", \"y\": 0.125, \"yref\": \"y\"}, {\"align\": \"center\", \"arrowsize\": 1, \"arrowwidth\": 1, \"ax\": 3, \"ay\": -5, \"borderpad\": 1, \"font\": {\"color\": \"#333\", \"size\": 11}, \"showarrow\": true, \"text\": \"$P(\\\\color{red}{T}|\\\\color{green}{S^c})\\\\\\\\ 0.05$\", \"x\": 0.18, \"xref\": \"x\", \"y\": -0.125, \"yref\": \"y\"}], \"autosize\": true, \"height\": 400, \"hovermode\": \"closest\", \"margin\": {\"b\": 0, \"l\": 0, \"r\": 0, \"t\": 30}, \"showlegend\": false, \"title\": {\"font\": {\"size\": 16}, \"text\": \"Patient Probability of Having Disease\", \"x\": 0.05}, \"width\": 900, \"xaxis\": {\"range\": [-0.01, 0.69], \"showgrid\": false, \"showticklabels\": false, \"zeroline\": false}, \"yaxis\": {\"range\": [-0.35, 1.35], \"showgrid\": false, \"showticklabels\": false, \"zeroline\": false}},\n",
       "                        {\"showLink\": false, \"linkText\": \"Export to plot.ly\", \"plotlyServerURL\": \"https://plot.ly\", \"responsive\": true}\n",
       "                    ).then(function(){\n",
       "                            \n",
       "var gd = document.getElementById('319f31f0-b686-43e3-91c0-975ad2233587');\n",
       "var x = new MutationObserver(function (mutations, observer) {{\n",
       "        var display = window.getComputedStyle(gd).display;\n",
       "        if (!display || display === 'none') {{\n",
       "            console.log([gd, 'removed!']);\n",
       "            Plotly.purge(gd);\n",
       "            observer.disconnect();\n",
       "        }}\n",
       "}});\n",
       "\n",
       "// Listen for the removal of the full notebook cells\n",
       "var notebookContainer = gd.closest('#notebook-container');\n",
       "if (notebookContainer) {{\n",
       "    x.observe(notebookContainer, {childList: true});\n",
       "}}\n",
       "\n",
       "// Listen for the clearing of the current output cell\n",
       "var outputEl = gd.closest('.output');\n",
       "if (outputEl) {{\n",
       "    x.observe(outputEl, {childList: true});\n",
       "}}\n",
       "\n",
       "                        })\n",
       "                };\n",
       "                });\n",
       "            </script>\n",
       "        </div>"
      ]
     },
     "metadata": {},
     "output_type": "display_data"
    },
    {
     "data": {
      "text/markdown": [
       "$\\text{Answer 1. }\\,P(T)=(0.001\\times 0.95) + (0.999\\times 0.05)=0.0509\\\\ \\text{Answer 2. }\\, \\\n",
       "P(S|T)=\\frac{P(S\\cap T)}{P(T)}=\\frac{0.001\\times 0.95}{0.0509}=0.0187$"
      ],
      "text/plain": [
       "<IPython.core.display.Markdown object>"
      ]
     },
     "metadata": {},
     "output_type": "display_data"
    },
    {
     "data": {
      "text/markdown": [
       "$\\text{Path from ROOT to }\\color{green}{ S} \\cap\\color{red}{ T}\\text{ has a product of: 0.00095}\\\\\\text{Path from ROOT to }\\color{green}{ S^c} \\cap\\color{red}{ T} \\\n",
       "             \\text{ has a product of: 0.04995}$"
      ],
      "text/plain": [
       "<IPython.core.display.Markdown object>"
      ]
     },
     "metadata": {},
     "output_type": "display_data"
    }
   ],
   "source": [
    "#Answers\n",
    "\n",
    "test_nodes = {0:('',[1,2]),\n",
    "            1:('$\\color{green}{\\LARGE S}$',[3,4]), #Patient is positive\n",
    "            2:('$\\color{green}{\\LARGE S^c}$',[5,6]), #Patient is negative\n",
    "            3:('$\\color{green}{\\LARGE S}\\LARGE \\cap\\color{red}{\\LARGE T}$',None), #Patient positive, Test positive\n",
    "            4:('$\\color{green}{\\LARGE S}\\LARGE \\cap\\color{red}{\\LARGE T^c}$',None),#Patient positive, Test negative\n",
    "            5:('$\\color{green}{\\LARGE S^c}\\LARGE \\cap\\color{red}{\\LARGE T^c}$',None),#Patient neg, Test neg\n",
    "            6:('$\\color{green}{\\LARGE S^c}\\LARGE \\cap\\color{red}{\\LARGE T}$',None)}#Patient neg, Test pos\n",
    "\n",
    "puzzle_edges_labls = {'01':'$P(\\color{green}{S})\\\\\\ 0.001$',\n",
    "                   '02':'$P(\\color{green}{S^c})\\\\\\ 0.999$',\n",
    "                   '13':'$P(\\color{red}{T}|\\color{green}{S})\\\\\\ 0.95$',\n",
    "                   '14':'$P(\\color{red}{T^c}|\\color{green}{S})\\\\\\ 0.05$',\n",
    "                   '25':'$P(\\color{red}{T^c}|\\color{green}{S^c})\\\\\\ 0.95$',\n",
    "                   '26':'$P(\\color{red}{T}|\\color{green}{S^c})\\\\\\ 0.05$'}\n",
    "\n",
    "puzzle_edge_weights = {'01':0.001,'02':0.999,'13':0.95,'14':0.05,'25':0.95,'26':0.05}\n",
    "\n",
    "puzzle_legend = {'$\\color{green}{\\Large S}$':r'$\\normalsize\\textsf{ sick patient}$',\n",
    "              '$\\color{green}{\\Large S^c}$':r'$\\normalsize\\textsf{ healthy patient}$',\n",
    "              '$\\color{red}{\\Large T}$':r'$\\normalsize\\textsf{ test positive}$',\n",
    "              '$\\color{red}{\\Large T^c}$':r'$\\normalsize\\textsf{ test negative}$'}\n",
    "\n",
    "B_puzzle_tree = TreeGraph(orientation='h',root=test_nodes[0][0],spread=2,gap=0.12,\n",
    "              nodes=test_nodes,edge_weights=puzzle_edge_weights,edge_labels=puzzle_edges_labls)\n",
    "\n",
    "B_puzzle_tree.generic_plotly_plot(\"Patient Probability of Having Disease\", \n",
    "                    title_pos=0.05, height=400, width=None, legend=True, legend_labels=puzzle_legend)\n",
    "\n",
    "display_math(r'\\text{Answer 1. }\\,P(T)=(0.001\\times 0.95) + (0.999\\times 0.05)=%.4f\\\\ \\text{Answer 2. }\\, \\\n",
    "P(S|T)=\\frac{P(S\\cap T)}{P(T)}=\\frac{0.001\\times 0.95}{0.0509}=%.4f' \n",
    "             %((0.001*0.95)+(0.999*0.05),(0.001*0.95)/0.0509))\n",
    "\n",
    "\n",
    "display_math(r'\\text{Path from ROOT to }%s\\text{ has a product of: %.5f}\\\\\\text{Path from ROOT to }%s \\\n",
    "             \\text{ has a product of: %.5f}' \n",
    "             % (test_nodes[3][0].strip('$').replace('\\LARGE',''), #.strip() removes leading and trailing characters\n",
    "                B_puzzle_tree.paths_product(0,3),test_nodes[6][0].strip('$').replace('\\LARGE',''),\n",
    "                B_puzzle_tree.paths_product(0,6)))"
   ]
  },
  {
   "cell_type": "code",
   "execution_count": 10,
   "metadata": {},
   "outputs": [
    {
     "data": {
      "text/html": [
       "        <script type=\"text/javascript\">\n",
       "        window.PlotlyConfig = {MathJaxConfig: 'local'};\n",
       "        if (window.MathJax) {MathJax.Hub.Config({SVG: {font: \"STIX-Web\"}});}\n",
       "        if (typeof require !== 'undefined') {\n",
       "        require.undef(\"plotly\");\n",
       "        requirejs.config({\n",
       "            paths: {\n",
       "                'plotly': ['https://cdn.plot.ly/plotly-latest.min']\n",
       "            }\n",
       "        });\n",
       "        require(['plotly'], function(Plotly) {\n",
       "            window._Plotly = Plotly;\n",
       "        });\n",
       "        }\n",
       "        </script>\n",
       "        "
      ]
     },
     "metadata": {},
     "output_type": "display_data"
    },
    {
     "data": {
      "application/vnd.plotly.v1+json": {
       "config": {
        "linkText": "Export to plot.ly",
        "plotlyServerURL": "https://plot.ly",
        "showLink": false
       },
       "data": [
        {
         "marker": {
          "color": [],
          "showscale": false,
          "size": 0
         },
         "mode": "text",
         "text": [],
         "type": "scatter",
         "uid": "af10cb17-85ab-4446-91c3-455e89760ef3",
         "x": [
          0
         ],
         "y": [
          0.5
         ]
        },
        {
         "line": {
          "color": "#777",
          "width": 0.9
         },
         "mode": "lines",
         "text": [],
         "type": "scatter",
         "uid": "4978f746-4b50-4cfb-aada-42653083ae9d",
         "x": [
          0,
          0.12,
          null,
          0,
          0.12,
          null,
          0.12,
          0.24,
          null,
          0.12,
          0.24,
          null,
          0.12,
          0.24,
          null,
          0.12,
          0.24,
          null,
          0.24,
          0.36,
          null,
          0.24,
          0.36,
          null,
          0.24,
          0.36,
          null,
          0.24,
          0.36,
          null,
          0.24,
          0.36,
          null,
          0.24,
          0.36,
          null,
          0.24,
          0.36,
          null,
          0.24,
          0.36,
          null
         ],
         "y": [
          0.5,
          1,
          null,
          0.5,
          0,
          null,
          1,
          1.25,
          null,
          1,
          0.75,
          null,
          0,
          0.25,
          null,
          0,
          -0.25,
          null,
          1.25,
          1.375,
          null,
          1.25,
          1.125,
          null,
          0.75,
          0.875,
          null,
          0.75,
          0.625,
          null,
          0.25,
          0.375,
          null,
          0.25,
          0.125,
          null,
          -0.25,
          -0.125,
          null,
          -0.25,
          -0.375,
          null
         ]
        },
        {
         "marker": {
          "color": [
           "white",
           "white",
           "white",
           "white",
           "white",
           "white",
           "white",
           "white",
           "white",
           "white",
           "white",
           "white",
           "white",
           "white"
          ],
          "showscale": false,
          "size": 70,
          "symbol": "diamond-wide"
         },
         "mode": "markers+text",
         "name": "Nodes",
         "showlegend": false,
         "text": [
          "H",
          "T",
          "HH",
          "HT",
          "HHH",
          "HHT",
          "HTH",
          "HTT",
          "TH",
          "TT",
          "THH",
          "THT",
          "TTH",
          "TTT"
         ],
         "textfont": {
          "size": 12
         },
         "type": "scatter",
         "uid": "24de7196-63e7-465f-a67a-94cc5e1c850b",
         "x": [
          0.12,
          0.12,
          0.24,
          0.24,
          0.36,
          0.36,
          0.36,
          0.36,
          0.24,
          0.24,
          0.36,
          0.36,
          0.36,
          0.36
         ],
         "y": [
          1,
          0,
          1.25,
          0.75,
          1.375,
          1.125,
          0.875,
          0.625,
          0.25,
          -0.25,
          0.375,
          0.125,
          -0.125,
          -0.375
         ]
        }
       ],
       "layout": {
        "annotations": [
         {
          "align": "center",
          "arrowsize": 1,
          "arrowwidth": 1,
          "ax": 3,
          "ay": -5,
          "borderpad": 1,
          "font": {
           "color": "#333",
           "size": 11
          },
          "showarrow": true,
          "text": "$P$",
          "x": 0.06,
          "xref": "x",
          "y": 0.75,
          "yref": "y"
         },
         {
          "align": "center",
          "arrowsize": 1,
          "arrowwidth": 1,
          "ax": 3,
          "ay": -5,
          "borderpad": 1,
          "font": {
           "color": "#333",
           "size": 11
          },
          "showarrow": true,
          "text": "$1-P$",
          "x": 0.06,
          "xref": "x",
          "y": 0.25,
          "yref": "y"
         },
         {
          "align": "center",
          "arrowsize": 1,
          "arrowwidth": 1,
          "ax": 3,
          "ay": -5,
          "borderpad": 1,
          "font": {
           "color": "#333",
           "size": 11
          },
          "showarrow": true,
          "text": "$P$",
          "x": 0.18,
          "xref": "x",
          "y": 1.125,
          "yref": "y"
         },
         {
          "align": "center",
          "arrowsize": 1,
          "arrowwidth": 1,
          "ax": 3,
          "ay": -5,
          "borderpad": 1,
          "font": {
           "color": "#333",
           "size": 11
          },
          "showarrow": true,
          "text": "$1-P$",
          "x": 0.18,
          "xref": "x",
          "y": 0.875,
          "yref": "y"
         },
         {
          "align": "center",
          "arrowsize": 1,
          "arrowwidth": 1,
          "ax": 3,
          "ay": -5,
          "borderpad": 1,
          "font": {
           "color": "#333",
           "size": 11
          },
          "showarrow": true,
          "text": "$P$",
          "x": 0.18,
          "xref": "x",
          "y": 0.125,
          "yref": "y"
         },
         {
          "align": "center",
          "arrowsize": 1,
          "arrowwidth": 1,
          "ax": 3,
          "ay": -5,
          "borderpad": 1,
          "font": {
           "color": "#333",
           "size": 11
          },
          "showarrow": true,
          "text": "$1-P$",
          "x": 0.18,
          "xref": "x",
          "y": -0.125,
          "yref": "y"
         },
         {
          "align": "center",
          "arrowsize": 1,
          "arrowwidth": 1,
          "ax": 3,
          "ay": -5,
          "borderpad": 1,
          "font": {
           "color": "#333",
           "size": 11
          },
          "showarrow": true,
          "text": "$P$",
          "x": 0.3,
          "xref": "x",
          "y": 1.3125,
          "yref": "y"
         },
         {
          "align": "center",
          "arrowsize": 1,
          "arrowwidth": 1,
          "ax": 3,
          "ay": -5,
          "borderpad": 1,
          "font": {
           "color": "#333",
           "size": 11
          },
          "showarrow": true,
          "text": "$1-P$",
          "x": 0.3,
          "xref": "x",
          "y": 1.1875,
          "yref": "y"
         },
         {
          "align": "center",
          "arrowsize": 1,
          "arrowwidth": 1,
          "ax": 3,
          "ay": -5,
          "borderpad": 1,
          "font": {
           "color": "#333",
           "size": 11
          },
          "showarrow": true,
          "text": "$P$",
          "x": 0.3,
          "xref": "x",
          "y": 0.8125,
          "yref": "y"
         },
         {
          "align": "center",
          "arrowsize": 1,
          "arrowwidth": 1,
          "ax": 3,
          "ay": -5,
          "borderpad": 1,
          "font": {
           "color": "#333",
           "size": 11
          },
          "showarrow": true,
          "text": "$1-P$",
          "x": 0.3,
          "xref": "x",
          "y": 0.6875,
          "yref": "y"
         },
         {
          "align": "center",
          "arrowsize": 1,
          "arrowwidth": 1,
          "ax": 3,
          "ay": -5,
          "borderpad": 1,
          "font": {
           "color": "#333",
           "size": 11
          },
          "showarrow": true,
          "text": "$P$",
          "x": 0.3,
          "xref": "x",
          "y": 0.3125,
          "yref": "y"
         },
         {
          "align": "center",
          "arrowsize": 1,
          "arrowwidth": 1,
          "ax": 3,
          "ay": -5,
          "borderpad": 1,
          "font": {
           "color": "#333",
           "size": 11
          },
          "showarrow": true,
          "text": "$1-P$",
          "x": 0.3,
          "xref": "x",
          "y": 0.1875,
          "yref": "y"
         },
         {
          "align": "center",
          "arrowsize": 1,
          "arrowwidth": 1,
          "ax": 3,
          "ay": -5,
          "borderpad": 1,
          "font": {
           "color": "#333",
           "size": 11
          },
          "showarrow": true,
          "text": "$P$",
          "x": 0.3,
          "xref": "x",
          "y": -0.1875,
          "yref": "y"
         },
         {
          "align": "center",
          "arrowsize": 1,
          "arrowwidth": 1,
          "ax": 3,
          "ay": -5,
          "borderpad": 1,
          "font": {
           "color": "#333",
           "size": 11
          },
          "showarrow": true,
          "text": "$1-P$",
          "x": 0.3,
          "xref": "x",
          "y": -0.3125,
          "yref": "y"
         }
        ],
        "autosize": true,
        "height": 400,
        "hovermode": "closest",
        "margin": {
         "b": 0,
         "l": 0,
         "r": 0,
         "t": 30
        },
        "showlegend": false,
        "title": {
         "font": {
          "size": 16
         },
         "text": "3 tosses of biased coin",
         "x": 0.15
        },
        "width": 900,
        "xaxis": {
         "range": [
          -0.01,
          0.81
         ],
         "showgrid": false,
         "showticklabels": false,
         "zeroline": false
        },
        "yaxis": {
         "range": [
          -0.475,
          1.475
         ],
         "showgrid": false,
         "showticklabels": false,
         "zeroline": false
        }
       }
      },
      "text/html": [
       "<div>\n",
       "        \n",
       "        \n",
       "            <div id=\"0b33749a-dc02-4ac9-83ee-2da4905cd1df\" class=\"plotly-graph-div\" style=\"height:400px; width:900px;\"></div>\n",
       "            <script type=\"text/javascript\">\n",
       "                require([\"plotly\"], function(Plotly) {\n",
       "                    window.PLOTLYENV=window.PLOTLYENV || {};\n",
       "                    window.PLOTLYENV.BASE_URL='https://plot.ly';\n",
       "                    \n",
       "                if (document.getElementById(\"0b33749a-dc02-4ac9-83ee-2da4905cd1df\")) {\n",
       "                    Plotly.newPlot(\n",
       "                        '0b33749a-dc02-4ac9-83ee-2da4905cd1df',\n",
       "                        [{\"marker\": {\"color\": [], \"showscale\": false, \"size\": 0}, \"mode\": \"text\", \"text\": [], \"type\": \"scatter\", \"uid\": \"af10cb17-85ab-4446-91c3-455e89760ef3\", \"x\": [0], \"y\": [0.5]}, {\"line\": {\"color\": \"#777\", \"width\": 0.9}, \"mode\": \"lines\", \"text\": [], \"type\": \"scatter\", \"uid\": \"4978f746-4b50-4cfb-aada-42653083ae9d\", \"x\": [0, 0.12, null, 0, 0.12, null, 0.12, 0.24, null, 0.12, 0.24, null, 0.12, 0.24, null, 0.12, 0.24, null, 0.24, 0.36, null, 0.24, 0.36, null, 0.24, 0.36, null, 0.24, 0.36, null, 0.24, 0.36, null, 0.24, 0.36, null, 0.24, 0.36, null, 0.24, 0.36, null], \"y\": [0.5, 1.0, null, 0.5, 0.0, null, 1.0, 1.25, null, 1.0, 0.75, null, 0.0, 0.25, null, 0.0, -0.25, null, 1.25, 1.375, null, 1.25, 1.125, null, 0.75, 0.875, null, 0.75, 0.625, null, 0.25, 0.375, null, 0.25, 0.125, null, -0.25, -0.125, null, -0.25, -0.375, null]}, {\"marker\": {\"color\": [\"white\", \"white\", \"white\", \"white\", \"white\", \"white\", \"white\", \"white\", \"white\", \"white\", \"white\", \"white\", \"white\", \"white\"], \"showscale\": false, \"size\": 70, \"symbol\": \"diamond-wide\"}, \"mode\": \"markers+text\", \"name\": \"Nodes\", \"showlegend\": false, \"text\": [\"H\", \"T\", \"HH\", \"HT\", \"HHH\", \"HHT\", \"HTH\", \"HTT\", \"TH\", \"TT\", \"THH\", \"THT\", \"TTH\", \"TTT\"], \"textfont\": {\"size\": 12}, \"type\": \"scatter\", \"uid\": \"24de7196-63e7-465f-a67a-94cc5e1c850b\", \"x\": [0.12, 0.12, 0.24, 0.24, 0.36, 0.36, 0.36, 0.36, 0.24, 0.24, 0.36, 0.36, 0.36, 0.36], \"y\": [1.0, 0.0, 1.25, 0.75, 1.375, 1.125, 0.875, 0.625, 0.25, -0.25, 0.375, 0.125, -0.125, -0.375]}],\n",
       "                        {\"annotations\": [{\"align\": \"center\", \"arrowsize\": 1, \"arrowwidth\": 1, \"ax\": 3, \"ay\": -5, \"borderpad\": 1, \"font\": {\"color\": \"#333\", \"size\": 11}, \"showarrow\": true, \"text\": \"$P$\", \"x\": 0.06, \"xref\": \"x\", \"y\": 0.75, \"yref\": \"y\"}, {\"align\": \"center\", \"arrowsize\": 1, \"arrowwidth\": 1, \"ax\": 3, \"ay\": -5, \"borderpad\": 1, \"font\": {\"color\": \"#333\", \"size\": 11}, \"showarrow\": true, \"text\": \"$1-P$\", \"x\": 0.06, \"xref\": \"x\", \"y\": 0.25, \"yref\": \"y\"}, {\"align\": \"center\", \"arrowsize\": 1, \"arrowwidth\": 1, \"ax\": 3, \"ay\": -5, \"borderpad\": 1, \"font\": {\"color\": \"#333\", \"size\": 11}, \"showarrow\": true, \"text\": \"$P$\", \"x\": 0.18, \"xref\": \"x\", \"y\": 1.125, \"yref\": \"y\"}, {\"align\": \"center\", \"arrowsize\": 1, \"arrowwidth\": 1, \"ax\": 3, \"ay\": -5, \"borderpad\": 1, \"font\": {\"color\": \"#333\", \"size\": 11}, \"showarrow\": true, \"text\": \"$1-P$\", \"x\": 0.18, \"xref\": \"x\", \"y\": 0.875, \"yref\": \"y\"}, {\"align\": \"center\", \"arrowsize\": 1, \"arrowwidth\": 1, \"ax\": 3, \"ay\": -5, \"borderpad\": 1, \"font\": {\"color\": \"#333\", \"size\": 11}, \"showarrow\": true, \"text\": \"$P$\", \"x\": 0.18, \"xref\": \"x\", \"y\": 0.125, \"yref\": \"y\"}, {\"align\": \"center\", \"arrowsize\": 1, \"arrowwidth\": 1, \"ax\": 3, \"ay\": -5, \"borderpad\": 1, \"font\": {\"color\": \"#333\", \"size\": 11}, \"showarrow\": true, \"text\": \"$1-P$\", \"x\": 0.18, \"xref\": \"x\", \"y\": -0.125, \"yref\": \"y\"}, {\"align\": \"center\", \"arrowsize\": 1, \"arrowwidth\": 1, \"ax\": 3, \"ay\": -5, \"borderpad\": 1, \"font\": {\"color\": \"#333\", \"size\": 11}, \"showarrow\": true, \"text\": \"$P$\", \"x\": 0.3, \"xref\": \"x\", \"y\": 1.3125, \"yref\": \"y\"}, {\"align\": \"center\", \"arrowsize\": 1, \"arrowwidth\": 1, \"ax\": 3, \"ay\": -5, \"borderpad\": 1, \"font\": {\"color\": \"#333\", \"size\": 11}, \"showarrow\": true, \"text\": \"$1-P$\", \"x\": 0.3, \"xref\": \"x\", \"y\": 1.1875, \"yref\": \"y\"}, {\"align\": \"center\", \"arrowsize\": 1, \"arrowwidth\": 1, \"ax\": 3, \"ay\": -5, \"borderpad\": 1, \"font\": {\"color\": \"#333\", \"size\": 11}, \"showarrow\": true, \"text\": \"$P$\", \"x\": 0.3, \"xref\": \"x\", \"y\": 0.8125, \"yref\": \"y\"}, {\"align\": \"center\", \"arrowsize\": 1, \"arrowwidth\": 1, \"ax\": 3, \"ay\": -5, \"borderpad\": 1, \"font\": {\"color\": \"#333\", \"size\": 11}, \"showarrow\": true, \"text\": \"$1-P$\", \"x\": 0.3, \"xref\": \"x\", \"y\": 0.6875, \"yref\": \"y\"}, {\"align\": \"center\", \"arrowsize\": 1, \"arrowwidth\": 1, \"ax\": 3, \"ay\": -5, \"borderpad\": 1, \"font\": {\"color\": \"#333\", \"size\": 11}, \"showarrow\": true, \"text\": \"$P$\", \"x\": 0.3, \"xref\": \"x\", \"y\": 0.3125, \"yref\": \"y\"}, {\"align\": \"center\", \"arrowsize\": 1, \"arrowwidth\": 1, \"ax\": 3, \"ay\": -5, \"borderpad\": 1, \"font\": {\"color\": \"#333\", \"size\": 11}, \"showarrow\": true, \"text\": \"$1-P$\", \"x\": 0.3, \"xref\": \"x\", \"y\": 0.1875, \"yref\": \"y\"}, {\"align\": \"center\", \"arrowsize\": 1, \"arrowwidth\": 1, \"ax\": 3, \"ay\": -5, \"borderpad\": 1, \"font\": {\"color\": \"#333\", \"size\": 11}, \"showarrow\": true, \"text\": \"$P$\", \"x\": 0.3, \"xref\": \"x\", \"y\": -0.1875, \"yref\": \"y\"}, {\"align\": \"center\", \"arrowsize\": 1, \"arrowwidth\": 1, \"ax\": 3, \"ay\": -5, \"borderpad\": 1, \"font\": {\"color\": \"#333\", \"size\": 11}, \"showarrow\": true, \"text\": \"$1-P$\", \"x\": 0.3, \"xref\": \"x\", \"y\": -0.3125, \"yref\": \"y\"}], \"autosize\": true, \"height\": 400, \"hovermode\": \"closest\", \"margin\": {\"b\": 0, \"l\": 0, \"r\": 0, \"t\": 30}, \"showlegend\": false, \"title\": {\"font\": {\"size\": 16}, \"text\": \"3 tosses of biased coin\", \"x\": 0.15}, \"width\": 900, \"xaxis\": {\"range\": [-0.01, 0.81], \"showgrid\": false, \"showticklabels\": false, \"zeroline\": false}, \"yaxis\": {\"range\": [-0.475, 1.475], \"showgrid\": false, \"showticklabels\": false, \"zeroline\": false}},\n",
       "                        {\"showLink\": false, \"linkText\": \"Export to plot.ly\", \"plotlyServerURL\": \"https://plot.ly\", \"responsive\": true}\n",
       "                    ).then(function(){\n",
       "                            \n",
       "var gd = document.getElementById('0b33749a-dc02-4ac9-83ee-2da4905cd1df');\n",
       "var x = new MutationObserver(function (mutations, observer) {{\n",
       "        var display = window.getComputedStyle(gd).display;\n",
       "        if (!display || display === 'none') {{\n",
       "            console.log([gd, 'removed!']);\n",
       "            Plotly.purge(gd);\n",
       "            observer.disconnect();\n",
       "        }}\n",
       "}});\n",
       "\n",
       "// Listen for the removal of the full notebook cells\n",
       "var notebookContainer = gd.closest('#notebook-container');\n",
       "if (notebookContainer) {{\n",
       "    x.observe(notebookContainer, {childList: true});\n",
       "}}\n",
       "\n",
       "// Listen for the clearing of the current output cell\n",
       "var outputEl = gd.closest('.output');\n",
       "if (outputEl) {{\n",
       "    x.observe(outputEl, {childList: true});\n",
       "}}\n",
       "\n",
       "                        })\n",
       "                };\n",
       "                });\n",
       "            </script>\n",
       "        </div>"
      ]
     },
     "metadata": {},
     "output_type": "display_data"
    },
    {
     "data": {
      "text/markdown": [
       "$\\text{What is the prob. of } THT \\text{ occurring?} = (1-P)\\cdot P\\cdot (1-P) = \\\n",
       "P\\cdot (1-P)^2\\\\\\text{We are told only one head occurred, and we want to calculate the prob.}\\\n",
       "            \\text{of it happening in the first toss. Possible result is:  }HTT.\\\\\\text{What is the prob?}\\\n",
       "            P(\\text{H first toss}|\\text{1 head})=\\frac{P(\\text{H first toss }\\cap\\text{ 1 head})}{P(\\text{1 head})}\\\n",
       "            = \\frac{P\\cdot (1-P)^2}{3P\\cdot (1-P)^2}=1/3$"
      ],
      "text/plain": [
       "<IPython.core.display.Markdown object>"
      ]
     },
     "metadata": {},
     "output_type": "display_data"
    }
   ],
   "source": [
    "# from itertools import product\n",
    "\n",
    "coin_tosses = 3\n",
    "node_children = [[1,8],[2,5],[3,4],None,None, [6,7],None,None,[9,12],[10,11],None,None,[13,14], None, None]\n",
    "\n",
    "coin_nodes = build_nodeDict('HT',repeat=coin_tosses,children=node_children)#use build_nodeDict() from Hierarchy_tree\n",
    "\n",
    "coin_edges_labls = {'01':'$P$','08':'$1-P$','12':'$P$','15':'$1-P$',\n",
    "                   '23':'$P$','24':'$1-P$','56':'$P$','57':'$1-P$','89':'$P$','812':'$1-P$',\n",
    "                   '910':'$P$','911':'$1-P$','1213':'$P$','1214':'$1-P$'}\n",
    "\n",
    "coin_toss_tree = TreeGraph(orientation='h',root=coin_nodes[0][0],spread=2,gap=0.12,\n",
    "              nodes=coin_nodes,edge_weights=None,edge_labels=coin_edges_labls)\n",
    "\n",
    "coin_toss_tree.generic_plotly_plot(\"3 tosses of biased coin\", \n",
    "                    title_pos=0.15, height=400, width=900, legend=False)\n",
    "\n",
    "display_math(r'\\text{What is the prob. of } THT \\text{ occurring?} = (1-P)\\cdot P\\cdot (1-P) = \\\n",
    "P\\cdot (1-P)^2\\\\\\text{We are told only one head occurred, and we want to calculate the prob.}\\\n",
    "            \\text{of it happening in the first toss. Possible result is:  }HTT.\\\\\\text{What is the prob?}\\\n",
    "            P(\\text{H first toss}|\\text{1 head})=\\frac{P(\\text{H first toss }\\cap\\text{ 1 head})}{P(\\text{1 head})}\\\n",
    "            = \\frac{P\\cdot (1-P)^2}{3P\\cdot (1-P)^2}=1/3')\n"
   ]
  },
  {
   "cell_type": "markdown",
   "metadata": {},
   "source": [
    "Probability $P(H_2 | H_1) = P = P(H_2 | T_1)$ means that what happens in the 2nd toss is not dependent of what happened in the 1st toss. The events are independent.\n",
    "\n",
    "$P(H_2) = P(H_1)\\cdot P(H_2|H_1) + P(T_1)\\cdot P(H_2|T_1) = P$\n",
    "\n",
    "\n",
    "#### Independence\n",
    "\n",
    "**Intuitive definition:** $P(B|A)=P(B)$ &nbsp; &nbsp; \"Event $B$ is independent of $A$ if the probability of $B$ ocurring given $A$ is the same as the prob. of $B$.\"\n",
    "\n",
    "**Formal Definition:** $P(A\\cap B) = P(A)\\cdot P(B)$ &nbsp; &nbsp; \"If this equality holds, then the two events are independent.\"\n",
    "\n",
    "If event $A$ is independent of event $B$, then event $A$ is also independent of event $B^c$, that's because $P(A\\cap B^c) = P(A) - P(A\\cap B) = P(A) - P(A)\\cdot P(B) = P(A)\\cdot (1-P(B))$ &nbsp; &nbsp; *recall that 1-P(B) is the same as P(B^c)*"
   ]
  },
  {
   "cell_type": "code",
   "execution_count": 11,
   "metadata": {},
   "outputs": [
    {
     "data": {
      "image/png": "[encoded data removed]",
      "text/plain": [
       "<Figure size 288x288 with 1 Axes>"
      ]
     },
     "metadata": {
      "needs_background": "light"
     },
     "output_type": "display_data"
    }
   ],
   "source": [
    "#Use imported Sets_Space class to visualize sets:\n",
    "space1 = Sets_Space('events')\n",
    "\n",
    "space1.add_Ellipse('event_A', (0.3,0.4), 0.25, 0.35, 0, 5000, 'purple', 0.5,'$A$',16, 'red',text_loc=None)\n",
    "space1.add_Ellipse('event_B', (0.75,0.7), 0.11, 0.17, 90, 5000, 'purple', 0.5,'$B$',16, 'blue',text_loc=None)\n",
    "\n",
    "space1.plot_Sets('Are events A and B independent?',figsize=4,partition=False,text_box=None)"
   ]
  },
  {
   "cell_type": "markdown",
   "metadata": {},
   "source": [
    "$P(A)>0$ and $P(B)>0$\n",
    "\n",
    "$P(A\\cap B) = 0$\n",
    "\n",
    "Whatever the value of $P(A)$ or $P(B)$, $P(A)\\cdot P(B)\\neq 0$ Therefore, events A and B are extremly dependent. 'If you're sure that $A$ ocurred, then you can be sure that $B$ didn't ocurred'.\n",
    "\n",
    "#### Conditional Independece\n",
    "\n",
    "$P(A\\cap B|C) = P(A|C)\\cdot P(B|C)$\n",
    "\n",
    "\"Notice that when there's no intersection between $A$ and $B$ but both intersect with $C$, there can be no independece: $P(A\\cap B)$ = 0, then $P(A\\cap B|C)$ also = 0 but $P(A|C)\\cdot P(B|C)$ is > 0 (following the equation of independence above).\""
   ]
  },
  {
   "cell_type": "code",
   "execution_count": 12,
   "metadata": {},
   "outputs": [
    {
     "data": {
      "image/png": "[encoded data removed]",
      "text/plain": [
       "<Figure size 324x324 with 1 Axes>"
      ]
     },
     "metadata": {
      "needs_background": "light"
     },
     "output_type": "display_data"
    },
    {
     "data": {
      "image/png": "[encoded data removed]",
      "text/plain": [
       "<Figure size 324x324 with 1 Axes>"
      ]
     },
     "metadata": {
      "needs_background": "light"
     },
     "output_type": "display_data"
    },
    {
     "data": {
      "image/png": "[encoded data removed]",
      "text/plain": [
       "<Figure size 324x324 with 1 Axes>"
      ]
     },
     "metadata": {
      "needs_background": "light"
     },
     "output_type": "display_data"
    }
   ],
   "source": [
    "cond_independence = {1:dict(event='event_A',loc=(0.3,0.45),h=0.2,w=0.28,\n",
    "                            a=40,res=5000,color='b',text='$A$',font=16,fontc='r'),\n",
    "                    2:dict(event='event_B',loc=(0.7,0.45),h=0.2,w=0.28,\n",
    "                            a=40,res=5000,color='b',text='$A$',font=16,fontc='r')}\n",
    "\n",
    "independence_1 = Sets_Space('events_1')\n",
    "independence_2 = Sets_Space('events_2')\n",
    "independence_3 = Sets_Space('events_3')\n",
    "\n",
    "independence_1.add_Ellipse('event_A', (0.35,0.4), 0.18, 0.29, 90, 5000, 'b', 0.5,'$A$',16, 'b',text_loc=(0.3,0.5))\n",
    "\n",
    "independence_1.add_Ellipse('event_B', (0.7,0.4), 0.2, 0.28, 0, 5000, 'b', 0.5,'$B$',16, 'b',text_loc=(0.7,0.5))\n",
    "\n",
    "independence_1.add_Box('event_C',corners=[(0.2,0),(0.2,0.45),(1,0.45),(1,0)],\n",
    "              angle=0,fill_color='r',alpha=0.4,text='$C$',fontsize=16,fontcolor='r',\n",
    "              text_loc=(0.5,0.15))\n",
    "\n",
    "independence_2.add_Ellipse('event_A', (0.4,0.45), 0.13, 0.4, -40, 5000, 'b', 0.5,'$A$',16, 'b',text_loc=None)\n",
    "\n",
    "independence_2.add_Ellipse('event_B', (0.65,0.4), 0.13, 0.28, 40, 5000, 'b', 0.5,'$B$',16, 'b',text_loc=None)\n",
    "\n",
    "independence_2.add_Box('event_C',corners=[(0.1,0),(0.1,0.3),(0.88,0.3),(0.88,0)],\n",
    "              angle=0,fill_color='r',alpha=0.4,text='$C$',fontsize=16,fontcolor='r',\n",
    "              text_loc=(0.5,0.15))\n",
    "\n",
    "independence_3.add_Ellipse('event_A', (0.35,0.4), 0.18, 0.29, 90, 5000, 'b', 0.5,'$A$',16, 'b',text_loc=(0.1,0.4))\n",
    "\n",
    "independence_3.add_Ellipse('event_B', (0.7,0.5), 0.2, 0.45, 0, 5000, 'b', 0.5,'$B$',16, 'b',text_loc=(0.7,0.75))\n",
    "\n",
    "independence_3.add_Box('event_C',corners=[(0.2,0),(0.2,0.6),(1,0.6),(1,0)],\n",
    "              angle=0,fill_color='r',alpha=0.4,text='$C$',fontsize=16,fontcolor='r',\n",
    "              text_loc=(0.4,0.15))\n",
    "independence_3.add_Text('comp',(0.25,0.8),'$C^c$',16,'r')\n",
    "\n",
    "\n",
    "\n",
    "independence_1.plot_Sets('fig.1 Conditional Independence',figsize=4.5,partition=False)\n",
    "independence_2.plot_Sets('fig.2 Conditional Independence:\\n No independence inside C',figsize=4.5,partition=False)\n",
    "independence_3.plot_Sets('fig.3 Conditional Independence\\n in $C$ but not in $C^c$',figsize=4.5,partition=False)\n"
   ]
  },
  {
   "cell_type": "markdown",
   "metadata": {},
   "source": [
    "#### Independence of a collection of events\n",
    "\n",
    "Events $A_i,A_2,...A_n$ are called independent if: $P(A_i\\cap A_j\\cap... A_m) = P(A_i)\\cdot P(A_j)\\cdot...P(A_m)$\n",
    "\n",
    "1) Is it guaranteed that  $A∩C$  is independent from  $B^c∩D$ ?\n",
    "\n",
    "If event $B^c∩D$ occurs, there is no change in the probability of $A∩C$ occuring, so the answer is Yes.\n",
    "\n",
    "2) Is it guaranteed that  $A∩B^c∩D$  is independent from  $B^c∪D^c ?\n",
    "\n",
    "If event $B^c∪D^c$ occured, event $D$ could not have occured, then the sequence $A∩B^c∩D$ did not occur making it dependent, so the answer is No.\n",
    "\n",
    "### Exercise: Reliability\n",
    "\n",
    "Suppose that each unit of a system is up with probability  2/3  and down with probability  1/3 . Different units are independent. For each one of the systems shown below, calculate the probability that the whole system is up (that is, that there exists a path from the left end to the right end, consisting entirely of units that are up). The intuitive meaning of independence tells us that whether some units are \"up\" or down, does not change the probabilities that some of the other units will be \"up\" or down."
   ]
  },
  {
   "cell_type": "code",
   "execution_count": 13,
   "metadata": {},
   "outputs": [
    {
     "name": "stderr",
     "output_type": "stream",
     "text": [
      "C:\\Users\\joman\\Anaconda3\\lib\\site-packages\\networkx\\drawing\\nx_pylab.py:579: MatplotlibDeprecationWarning:\n",
      "\n",
      "\n",
      "The iterable function was deprecated in Matplotlib 3.1 and will be removed in 3.3. Use np.iterable instead.\n",
      "\n"
     ]
    },
    {
     "data": {
      "image/png": "[encoded data removed]",
      "text/plain": [
       "<Figure size 1296x432 with 2 Axes>"
      ]
     },
     "metadata": {},
     "output_type": "display_data"
    }
   ],
   "source": [
    "#Create a dictionary of nodes using integers as keys for system nodes and string keys for\n",
    "#empty nodes using the following syntax: node -> (nodename,[list of children or None if missing],\n",
    "#orientation of node)\n",
    "units_1 = {0:('root',[1]),\n",
    "        1:(r'$p_1$',['empty 0'],'E'),\n",
    "        'empty 0':('empty 0',['empty 1','empty 2'],'E'), \n",
    "        'empty 1':('empty 1',[2],'N'),\n",
    "        2:(r'$p_2$',['empty 3'],'E'),\n",
    "        'empty 2':('empty 2',[3],'S'),\n",
    "        3:(r'$p_3$',['empty 6'],'E'),\n",
    "        'empty 3':('empty 3',['empty 4'],'E'),\n",
    "        'empty 4':('empty 4',['empty 5'],'S'),\n",
    "        'empty 5':('empty 5',None,'E'),\n",
    "        'empty 6':('empty 6',['empty 7'],'E'),\n",
    "        'empty 7':('empty 7',None,'N')}\n",
    "\n",
    "units_2 = {0:('root',['empty 0']),\n",
    "        'empty 0':('empty 0',['empty 1','empty 2'],'E'),\n",
    "        'empty 1':('empty 1',[1],'N'), \n",
    "        'empty 2':('empty 2',[3],'S'),\n",
    "        1:(r'$p_1$',[2],'E'),\n",
    "        2:(r'$p_2$',['empty 3'],'E'),\n",
    "        3:(r'$p_3$',['empty 5'],'E'),\n",
    "        'empty 3':('empty 3',['empty 4'],'E'),\n",
    "        'empty 4':('empty 4',['empty 6'],'S'),\n",
    "        'empty 5':('empty 5',['empty 7'],'E'),\n",
    "        'empty 6':('empty 6',None,'E'),\n",
    "        'empty 7':('empty 7',['empty 8'],'E'),\n",
    "        'empty 8':('empty 8',None,'N')}\n",
    "\n",
    "root_1 = units_1[0]\n",
    "root_2 = units_2[0]\n",
    "\n",
    "system_1 = SystemLayout(root_1,(0,0.5),units_1,0.05,pos=None)\n",
    "system_2 = SystemLayout(root_2,(0,0.5),units_2,0.3,pos=None)\n",
    "\n",
    "answer1 = 'Answer 1: Probability of $p_1$ up times probability of $p_2$'+\\\n",
    "' or $p_3$ up ($p^c_2\\cap p^c_3=$ system down):\\n $p_1\\cap (p_2\\cup p_3)= p_1\\cap (1-(p^c_2\\cap p^c_3))'+\\\n",
    "r'=\\frac{2}{3}\\cdot (1-(\\frac{1}{3}\\cdot \\frac{1}{3}) = \\frac{2}{3}\\cdot (1-\\frac{1}{9})'+\\\n",
    "r' = \\frac{2}{3}\\cdot \\frac{8}{9} = \\frac{16}{27}$'\n",
    "answer2 = 'Answer 2: Whole system is down with probability $(1-(p_1\\cap p_2))\\cap p^c_3$:'+\\\n",
    "'\\n$(p_1\\cap p_2)\\cup p_3 = (1-(p_1\\cap p_2))\\cap p^c_3 =(1-'+\\\n",
    "r'(\\frac{2}{3}\\cdot\\frac{2}{3})\\cdot \\frac{1}{3}) = \\frac{5}{9}\\cdot \\frac{1}{3} =$ system down.'+\\\n",
    "'\\n'+r'system up = $1-\\frac{5}{9}\\cdot \\frac{1}{3} =\\frac{22}{27}$'\n",
    "\n",
    "plt.figure(figsize=(18, 6))\n",
    "\n",
    "plt.subplot(121)\n",
    "plt.annotate(answer1,size=14.5,xy=(0.05,0.25),xycoords='figure fraction')\n",
    "plt.title('System 1')\n",
    "system_1.draw_nx(empty_root=True,node_size=2300,node_color='lightskyblue')\n",
    "\n",
    "plt.subplot(122)\n",
    "plt.annotate(answer2,size=14.5,xy=(0.05,0.02),xycoords='figure fraction')\n",
    "plt.title('System 2')\n",
    "\n",
    "system_2.draw_nx(empty_root=True,node_size=2300,node_color='lightskyblue')\n",
    "plt.subplots_adjust(bottom=0.4)\n",
    "plt.show()"
   ]
  },
  {
   "cell_type": "markdown",
   "metadata": {},
   "source": [
    "**King's Siblings Puzzle**\n",
    "\n",
    "King has only one sibling. What's the probability of said sibling being a girl?"
   ]
  },
  {
   "cell_type": "code",
   "execution_count": 14,
   "metadata": {
    "scrolled": true
   },
   "outputs": [
    {
     "data": {
      "text/html": [
       "        <script type=\"text/javascript\">\n",
       "        window.PlotlyConfig = {MathJaxConfig: 'local'};\n",
       "        if (window.MathJax) {MathJax.Hub.Config({SVG: {font: \"STIX-Web\"}});}\n",
       "        if (typeof require !== 'undefined') {\n",
       "        require.undef(\"plotly\");\n",
       "        requirejs.config({\n",
       "            paths: {\n",
       "                'plotly': ['https://cdn.plot.ly/plotly-latest.min']\n",
       "            }\n",
       "        });\n",
       "        require(['plotly'], function(Plotly) {\n",
       "            window._Plotly = Plotly;\n",
       "        });\n",
       "        }\n",
       "        </script>\n",
       "        "
      ]
     },
     "metadata": {},
     "output_type": "display_data"
    },
    {
     "data": {
      "application/vnd.plotly.v1+json": {
       "config": {
        "linkText": "Export to plot.ly",
        "plotlyServerURL": "https://plot.ly",
        "showLink": false
       },
       "data": [
        {
         "marker": {
          "color": [],
          "showscale": false,
          "size": 0
         },
         "mode": "text",
         "text": [],
         "type": "scatter",
         "uid": "7a74cfd6-a6de-45d7-a8d0-fd50ffd8beb7",
         "x": [
          0
         ],
         "y": [
          0.5
         ]
        },
        {
         "line": {
          "color": "#777",
          "width": 0.9
         },
         "mode": "lines",
         "text": [],
         "type": "scatter",
         "uid": "787eea29-4910-465f-b533-2a0cea65bc9e",
         "x": [
          0,
          0.15,
          null,
          0,
          0.15,
          null,
          0.15,
          0.3,
          null,
          0.15,
          0.3,
          null,
          0.15,
          0.3,
          null,
          0.15,
          0.3,
          null
         ],
         "y": [
          0.5,
          0.875,
          null,
          0.5,
          0.125,
          null,
          0.875,
          1.0625,
          null,
          0.875,
          0.6875,
          null,
          0.125,
          0.3125,
          null,
          0.125,
          -0.0625,
          null
         ]
        },
        {
         "marker": {
          "color": [
           "white",
           "white",
           "white",
           "white",
           "white",
           "white"
          ],
          "showscale": false,
          "size": 70,
          "symbol": "diamond-wide"
         },
         "mode": "markers+text",
         "name": "Nodes",
         "showlegend": false,
         "text": [
          "B",
          "G",
          "BB",
          "BG",
          "GB",
          "GG"
         ],
         "textfont": {
          "size": 14
         },
         "type": "scatter",
         "uid": "79094dd8-2fc3-40ae-9fd7-3ac06edfd048",
         "x": [
          0.15,
          0.15,
          0.3,
          0.3,
          0.3,
          0.3
         ],
         "y": [
          0.875,
          0.125,
          1.0625,
          0.6875,
          0.3125,
          -0.0625
         ]
        }
       ],
       "layout": {
        "annotations": [
         {
          "align": "center",
          "arrowsize": 1,
          "arrowwidth": 1,
          "ax": 3,
          "ay": -5,
          "borderpad": 1,
          "font": {
           "color": "#333",
           "size": 10
          },
          "showarrow": true,
          "text": "$P(B)\\\\ 0.5$",
          "x": 0.075,
          "xref": "x",
          "y": 0.6875,
          "yref": "y"
         },
         {
          "align": "center",
          "arrowsize": 1,
          "arrowwidth": 1,
          "ax": 3,
          "ay": -5,
          "borderpad": 1,
          "font": {
           "color": "#333",
           "size": 10
          },
          "showarrow": true,
          "text": "$P(G)\\\\ 0.5$",
          "x": 0.075,
          "xref": "x",
          "y": 0.3125,
          "yref": "y"
         },
         {
          "align": "center",
          "arrowsize": 1,
          "arrowwidth": 1,
          "ax": 3,
          "ay": -5,
          "borderpad": 1,
          "font": {
           "color": "#333",
           "size": 10
          },
          "showarrow": true,
          "text": "$P(B|B)\\\\ 0.66$",
          "x": 0.22499999999999998,
          "xref": "x",
          "y": 0.96875,
          "yref": "y"
         },
         {
          "align": "center",
          "arrowsize": 1,
          "arrowwidth": 1,
          "ax": 3,
          "ay": -5,
          "borderpad": 1,
          "font": {
           "color": "#333",
           "size": 10
          },
          "showarrow": true,
          "text": "$P(G|B)\\\\ 0.66$",
          "x": 0.22499999999999998,
          "xref": "x",
          "y": 0.78125,
          "yref": "y"
         },
         {
          "align": "center",
          "arrowsize": 1,
          "arrowwidth": 1,
          "ax": 3,
          "ay": -5,
          "borderpad": 1,
          "font": {
           "color": "#333",
           "size": 10
          },
          "showarrow": true,
          "text": "$P(B|G)\\\\ 0.66$",
          "x": 0.22499999999999998,
          "xref": "x",
          "y": 0.21875,
          "yref": "y"
         },
         {
          "align": "center",
          "arrowsize": 1,
          "arrowwidth": 1,
          "ax": 3,
          "ay": -5,
          "borderpad": 1,
          "font": {
           "color": "#333",
           "size": 10
          },
          "showarrow": true,
          "text": "$P(G|G)\\\\ 0$",
          "x": 0.22499999999999998,
          "xref": "x",
          "y": 0.03125,
          "yref": "y"
         }
        ],
        "autosize": true,
        "height": 300,
        "hovermode": "closest",
        "margin": {
         "b": 0,
         "l": 0,
         "r": 0,
         "t": 30
        },
        "showlegend": false,
        "title": {
         "font": {
          "size": 16
         },
         "text": "King's Sibling",
         "x": 0.15
        },
        "width": 900,
        "xaxis": {
         "range": [
          -0.01,
          0.75
         ],
         "showgrid": false,
         "showticklabels": false,
         "zeroline": false
        },
        "yaxis": {
         "range": [
          -0.1625,
          1.1625
         ],
         "showgrid": false,
         "showticklabels": false,
         "zeroline": false
        }
       }
      },
      "text/html": [
       "<div>\n",
       "        \n",
       "        \n",
       "            <div id=\"757c8240-4b41-4a73-83b1-3bbaa5b151b1\" class=\"plotly-graph-div\" style=\"height:300px; width:900px;\"></div>\n",
       "            <script type=\"text/javascript\">\n",
       "                require([\"plotly\"], function(Plotly) {\n",
       "                    window.PLOTLYENV=window.PLOTLYENV || {};\n",
       "                    window.PLOTLYENV.BASE_URL='https://plot.ly';\n",
       "                    \n",
       "                if (document.getElementById(\"757c8240-4b41-4a73-83b1-3bbaa5b151b1\")) {\n",
       "                    Plotly.newPlot(\n",
       "                        '757c8240-4b41-4a73-83b1-3bbaa5b151b1',\n",
       "                        [{\"marker\": {\"color\": [], \"showscale\": false, \"size\": 0}, \"mode\": \"text\", \"text\": [], \"type\": \"scatter\", \"uid\": \"7a74cfd6-a6de-45d7-a8d0-fd50ffd8beb7\", \"x\": [0], \"y\": [0.5]}, {\"line\": {\"color\": \"#777\", \"width\": 0.9}, \"mode\": \"lines\", \"text\": [], \"type\": \"scatter\", \"uid\": \"787eea29-4910-465f-b533-2a0cea65bc9e\", \"x\": [0, 0.15, null, 0, 0.15, null, 0.15, 0.3, null, 0.15, 0.3, null, 0.15, 0.3, null, 0.15, 0.3, null], \"y\": [0.5, 0.875, null, 0.5, 0.125, null, 0.875, 1.0625, null, 0.875, 0.6875, null, 0.125, 0.3125, null, 0.125, -0.0625, null]}, {\"marker\": {\"color\": [\"white\", \"white\", \"white\", \"white\", \"white\", \"white\"], \"showscale\": false, \"size\": 70, \"symbol\": \"diamond-wide\"}, \"mode\": \"markers+text\", \"name\": \"Nodes\", \"showlegend\": false, \"text\": [\"B\", \"G\", \"BB\", \"BG\", \"GB\", \"GG\"], \"textfont\": {\"size\": 14}, \"type\": \"scatter\", \"uid\": \"79094dd8-2fc3-40ae-9fd7-3ac06edfd048\", \"x\": [0.15, 0.15, 0.3, 0.3, 0.3, 0.3], \"y\": [0.875, 0.125, 1.0625, 0.6875, 0.3125, -0.0625]}],\n",
       "                        {\"annotations\": [{\"align\": \"center\", \"arrowsize\": 1, \"arrowwidth\": 1, \"ax\": 3, \"ay\": -5, \"borderpad\": 1, \"font\": {\"color\": \"#333\", \"size\": 10}, \"showarrow\": true, \"text\": \"$P(B)\\\\\\\\ 0.5$\", \"x\": 0.075, \"xref\": \"x\", \"y\": 0.6875, \"yref\": \"y\"}, {\"align\": \"center\", \"arrowsize\": 1, \"arrowwidth\": 1, \"ax\": 3, \"ay\": -5, \"borderpad\": 1, \"font\": {\"color\": \"#333\", \"size\": 10}, \"showarrow\": true, \"text\": \"$P(G)\\\\\\\\ 0.5$\", \"x\": 0.075, \"xref\": \"x\", \"y\": 0.3125, \"yref\": \"y\"}, {\"align\": \"center\", \"arrowsize\": 1, \"arrowwidth\": 1, \"ax\": 3, \"ay\": -5, \"borderpad\": 1, \"font\": {\"color\": \"#333\", \"size\": 10}, \"showarrow\": true, \"text\": \"$P(B|B)\\\\\\\\ 0.66$\", \"x\": 0.22499999999999998, \"xref\": \"x\", \"y\": 0.96875, \"yref\": \"y\"}, {\"align\": \"center\", \"arrowsize\": 1, \"arrowwidth\": 1, \"ax\": 3, \"ay\": -5, \"borderpad\": 1, \"font\": {\"color\": \"#333\", \"size\": 10}, \"showarrow\": true, \"text\": \"$P(G|B)\\\\\\\\ 0.66$\", \"x\": 0.22499999999999998, \"xref\": \"x\", \"y\": 0.78125, \"yref\": \"y\"}, {\"align\": \"center\", \"arrowsize\": 1, \"arrowwidth\": 1, \"ax\": 3, \"ay\": -5, \"borderpad\": 1, \"font\": {\"color\": \"#333\", \"size\": 10}, \"showarrow\": true, \"text\": \"$P(B|G)\\\\\\\\ 0.66$\", \"x\": 0.22499999999999998, \"xref\": \"x\", \"y\": 0.21875, \"yref\": \"y\"}, {\"align\": \"center\", \"arrowsize\": 1, \"arrowwidth\": 1, \"ax\": 3, \"ay\": -5, \"borderpad\": 1, \"font\": {\"color\": \"#333\", \"size\": 10}, \"showarrow\": true, \"text\": \"$P(G|G)\\\\\\\\ 0$\", \"x\": 0.22499999999999998, \"xref\": \"x\", \"y\": 0.03125, \"yref\": \"y\"}], \"autosize\": true, \"height\": 300, \"hovermode\": \"closest\", \"margin\": {\"b\": 0, \"l\": 0, \"r\": 0, \"t\": 30}, \"showlegend\": false, \"title\": {\"font\": {\"size\": 16}, \"text\": \"King's Sibling\", \"x\": 0.15}, \"width\": 900, \"xaxis\": {\"range\": [-0.01, 0.75], \"showgrid\": false, \"showticklabels\": false, \"zeroline\": false}, \"yaxis\": {\"range\": [-0.1625, 1.1625], \"showgrid\": false, \"showticklabels\": false, \"zeroline\": false}},\n",
       "                        {\"showLink\": false, \"linkText\": \"Export to plot.ly\", \"plotlyServerURL\": \"https://plot.ly\", \"responsive\": true}\n",
       "                    ).then(function(){\n",
       "                            \n",
       "var gd = document.getElementById('757c8240-4b41-4a73-83b1-3bbaa5b151b1');\n",
       "var x = new MutationObserver(function (mutations, observer) {{\n",
       "        var display = window.getComputedStyle(gd).display;\n",
       "        if (!display || display === 'none') {{\n",
       "            console.log([gd, 'removed!']);\n",
       "            Plotly.purge(gd);\n",
       "            observer.disconnect();\n",
       "        }}\n",
       "}});\n",
       "\n",
       "// Listen for the removal of the full notebook cells\n",
       "var notebookContainer = gd.closest('#notebook-container');\n",
       "if (notebookContainer) {{\n",
       "    x.observe(notebookContainer, {childList: true});\n",
       "}}\n",
       "\n",
       "// Listen for the clearing of the current output cell\n",
       "var outputEl = gd.closest('.output');\n",
       "if (outputEl) {{\n",
       "    x.observe(outputEl, {childList: true});\n",
       "}}\n",
       "\n",
       "                        })\n",
       "                };\n",
       "                });\n",
       "            </script>\n",
       "        </div>"
      ]
     },
     "metadata": {},
     "output_type": "display_data"
    },
    {
     "data": {
      "text/markdown": [
       "$P(\\text{sibling is girl})= (0.5\\times 0.66) + (0.5\\times 0.66)= 0.66$"
      ],
      "text/plain": [
       "<IPython.core.display.Markdown object>"
      ]
     },
     "metadata": {},
     "output_type": "display_data"
    }
   ],
   "source": [
    "gender_tree_children = [[1,4],[2,3],None,None,[5,6], None,None]\n",
    "\n",
    "gender_nodes = build_nodeDict('BG',2,gender_tree_children)#use build_nodeDict() from Hierarchy_tree\n",
    "\n",
    "gender_edge_weights = {'01':0.5,'04':0.5,'12':0.66,'13':0.66,'45':0.66,'46':0.0}\n",
    "\n",
    "gender_edges_labls = {'01':'$P(B)\\\\\\ 0.5$','04':'$P(G)\\\\\\ 0.5$','12':'$P(B|B)\\\\\\ 0.66$',\n",
    "                      '13':'$P(G|B)\\\\\\ 0.66$','45':'$P(B|G)\\\\\\ 0.66$','46':'$P(G|G)\\\\\\ 0$'}\n",
    "\n",
    "\n",
    "gender_tree = TreeGraph(orientation='h',root=gender_nodes[0][0],spread=1.5,gap=0.15,\n",
    "              nodes=gender_nodes,edge_weights=gender_edge_weights,edge_labels=gender_edges_labls)\n",
    "\n",
    "gender_tree.generic_plotly_plot(\"King's Sibling\", title_pos=0.15, height=300, width=900, \n",
    "                                node_fontsize=14, legend=False, label_fontsize=10)\n",
    "\n",
    "#Add probabilities of P(B)*P(G|B) + P(G)*P(B|G) that is, (paths 0 to 3) + (paths 0 to 5):\n",
    "P_girl = gender_tree.paths_product(0,3) + gender_tree.paths_product(0,5) \n",
    "\n",
    "display_math(r'P(\\text{sibling is girl})= (0.5\\times 0.66) + (0.5\\times 0.66)= %s'% P_girl)"
   ]
  },
  {
   "cell_type": "code",
   "execution_count": 15,
   "metadata": {},
   "outputs": [],
   "source": [
    "#When using Graphviz library, read the help to change font family:\n",
    "# with \\\n",
    "# open('C:/Users/user/Anaconda3/pkgs/graphviz-2.38-hfd603c8_2/Library/share/doc/graphviz/doc/fontfaq.txt',\n",
    "#      'rt') as fonts:   \n",
    "#     gvFontHelp = fonts.read()\n",
    "# print(gvFontHelp)\n",
    "\n",
    "# from graphviz import Digraph\n",
    "\n",
    "# dot = Digraph(comment='The Round Table',name='pet-shop', node_attr={'shape':'square','color':'red','fillcolor':'blue','style':'filled'})\n",
    "\n",
    "# dot.node('0','A')\n",
    "# dot.node('1','B')\n",
    "# dot.node('2','C')\n",
    "\n",
    "# dot.edges(['01','02'])\n",
    "\n",
    "# dot"
   ]
  },
  {
   "cell_type": "markdown",
   "metadata": {},
   "source": [
    "### A chess tournament problem\n",
    "\n",
    "A chess tournament problem. This year's Belmont chess champion is to be selected by the following procedure. Bo and Ci, the leading challengers, first play a two-game match. If one of them wins both games, he gets to play a two-game second round with Al, the current champion. Al retains his championship unless a second round is required and the challenger beats Al in both games. If Al wins the initial game of the second round, no more games are played.\n",
    "\n",
    "Furthermore, we know the following:\n",
    "* The probability that Bo will beat Ci in any particular game is 0.6.\n",
    "* The probability that Al will beat Bo in any particular game is 0.5.\n",
    "* The probability that Al will beat Ci in any particular game is 0.7.\n",
    "\n",
    "Assume no tie games are possible and all games are independent.\n",
    "\n",
    "1. Determine the a priori probabilities that\n",
    "   * a) the second round will be required.\n",
    "   * b) Bo will win the first round.\n",
    "   * c) Al will retain his championship this year.\n",
    "   \n",
    "\n",
    "2. Given that the second round is required, determine the conditional probabilities that\n",
    "    * a) Bo is the surviving challenger.\n",
    "    * b) Al retains his championship.\n",
    "\n",
    "\n",
    "3. Given that the second round was required and that it comprised only one game, what is the conditional probability that it was Bo who won the first round?"
   ]
  },
  {
   "cell_type": "code",
   "execution_count": 16,
   "metadata": {
    "scrolled": true
   },
   "outputs": [],
   "source": [
    "chess_children = [None]*121 #create a list of 121 'None' entries. \n",
    "#Check the chess_nodes dictionary with the chess_children list being all 'None'...\n",
    "\n",
    "chess_children[0] = [1,41] #... then change entries in list accordingly (Nodes that have children)\n",
    "chess_children[1] = [2,15]\n",
    "chess_children[2] = [3,11]\n",
    "chess_children[3] = [4,6]\n",
    "chess_children[41] = [42,55]\n",
    "chess_children[55] = [60,64]\n",
    "chess_children[60] = [62,63]\n",
    "\n",
    "chess_nodes = build_nodeDict(['Bo','Ci','Al'],4,chess_children) #Tree has 4 levels (ignoring the root) "
   ]
  },
  {
   "cell_type": "code",
   "execution_count": 17,
   "metadata": {},
   "outputs": [
    {
     "data": {
      "text/html": [
       "        <script type=\"text/javascript\">\n",
       "        window.PlotlyConfig = {MathJaxConfig: 'local'};\n",
       "        if (window.MathJax) {MathJax.Hub.Config({SVG: {font: \"STIX-Web\"}});}\n",
       "        if (typeof require !== 'undefined') {\n",
       "        require.undef(\"plotly\");\n",
       "        requirejs.config({\n",
       "            paths: {\n",
       "                'plotly': ['https://cdn.plot.ly/plotly-latest.min']\n",
       "            }\n",
       "        });\n",
       "        require(['plotly'], function(Plotly) {\n",
       "            window._Plotly = Plotly;\n",
       "        });\n",
       "        }\n",
       "        </script>\n",
       "        "
      ]
     },
     "metadata": {},
     "output_type": "display_data"
    },
    {
     "data": {
      "application/vnd.plotly.v1+json": {
       "config": {
        "linkText": "Export to plot.ly",
        "plotlyServerURL": "https://plot.ly",
        "showLink": false
       },
       "data": [
        {
         "marker": {
          "color": [],
          "showscale": false,
          "size": 0
         },
         "mode": "text",
         "text": [],
         "type": "scatter",
         "uid": "a21a38f5-445a-4ccd-8e91-8db7c9800e5a",
         "x": [
          0
         ],
         "y": [
          0.5
         ]
        },
        {
         "line": {
          "color": "#777",
          "width": 0.9
         },
         "mode": "lines",
         "text": [],
         "type": "scatter",
         "uid": "20c4ba78-2456-49fa-bb95-59aca1c904f7",
         "x": [
          0,
          0.5,
          null,
          0,
          0.5,
          null,
          0.5,
          1,
          null,
          0.5,
          1,
          null,
          0.5,
          1,
          null,
          0.5,
          1,
          null,
          1,
          1.5,
          null,
          1,
          1.5,
          null,
          1.5,
          2,
          null,
          1.5,
          2,
          null,
          1,
          1.5,
          null,
          1,
          1.5,
          null,
          1.5,
          2,
          null,
          1.5,
          2,
          null
         ],
         "y": [
          0.5,
          1.25,
          null,
          0.5,
          -0.25,
          null,
          1.25,
          1.625,
          null,
          1.25,
          0.875,
          null,
          -0.25,
          0.125,
          null,
          -0.25,
          -0.625,
          null,
          1.625,
          1.8125,
          null,
          1.625,
          1.4375,
          null,
          1.8125,
          1.90625,
          null,
          1.8125,
          1.71875,
          null,
          -0.625,
          -0.4375,
          null,
          -0.625,
          -0.8125,
          null,
          -0.4375,
          -0.34375,
          null,
          -0.4375,
          -0.53125,
          null
         ]
        },
        {
         "marker": {
          "color": [
           "white",
           "white",
           "white",
           "white",
           "white",
           "white",
           "white",
           "white",
           "white",
           "white",
           "white",
           "white",
           "white",
           "white"
          ],
          "showscale": false,
          "size": 70,
          "symbol": "diamond-wide"
         },
         "mode": "markers+text",
         "name": "Nodes",
         "showlegend": false,
         "text": [
          "Bo",
          "Ci",
          "BoBo",
          "BoCi",
          "BoBoBo",
          "BoBoAl",
          "BoBoBoBo",
          "BoBoBoAl",
          "CiBo",
          "CiCi",
          "CiCiCi",
          "CiCiAl",
          "CiCiCiCi",
          "CiCiCiAl"
         ],
         "textfont": {
          "size": 14
         },
         "type": "scatter",
         "uid": "29467b7e-6405-41fb-8ecf-bf9fa3bd4647",
         "x": [
          0.5,
          0.5,
          1,
          1,
          1.5,
          1.5,
          2,
          2,
          1,
          1,
          1.5,
          1.5,
          2,
          2
         ],
         "y": [
          1.25,
          -0.25,
          1.625,
          0.875,
          1.8125,
          1.4375,
          1.90625,
          1.71875,
          0.125,
          -0.625,
          -0.4375,
          -0.8125,
          -0.34375,
          -0.53125
         ]
        }
       ],
       "layout": {
        "annotations": [
         {
          "align": "center",
          "arrowsize": 1,
          "arrowwidth": 1,
          "ax": 3,
          "ay": -5,
          "borderpad": 1,
          "font": {
           "color": "#333",
           "size": 10
          },
          "showarrow": true,
          "text": "$P(Bo)= 0.6$",
          "x": 0.25,
          "xref": "x",
          "y": 0.875,
          "yref": "y"
         },
         {
          "align": "center",
          "arrowsize": 1,
          "arrowwidth": 1,
          "ax": 3,
          "ay": -5,
          "borderpad": 1,
          "font": {
           "color": "#333",
           "size": 10
          },
          "showarrow": true,
          "text": "$P(Ci)= 0.4$",
          "x": 0.25,
          "xref": "x",
          "y": 0.125,
          "yref": "y"
         },
         {
          "align": "center",
          "arrowsize": 1,
          "arrowwidth": 1,
          "ax": 3,
          "ay": -5,
          "borderpad": 1,
          "font": {
           "color": "#333",
           "size": 10
          },
          "showarrow": true,
          "text": "$P(Bo|Bo)= 0.6$",
          "x": 0.75,
          "xref": "x",
          "y": 1.4375,
          "yref": "y"
         },
         {
          "align": "center",
          "arrowsize": 1,
          "arrowwidth": 1,
          "ax": 3,
          "ay": -5,
          "borderpad": 1,
          "font": {
           "color": "#333",
           "size": 10
          },
          "showarrow": true,
          "text": "$P(Ci|Bo)= 0.4$",
          "x": 0.75,
          "xref": "x",
          "y": 1.0625,
          "yref": "y"
         },
         {
          "align": "center",
          "arrowsize": 1,
          "arrowwidth": 1,
          "ax": 3,
          "ay": -5,
          "borderpad": 1,
          "font": {
           "color": "#333",
           "size": 10
          },
          "showarrow": true,
          "text": "$P(Bo|Ci)= 0.6$",
          "x": 0.75,
          "xref": "x",
          "y": -0.0625,
          "yref": "y"
         },
         {
          "align": "center",
          "arrowsize": 1,
          "arrowwidth": 1,
          "ax": 3,
          "ay": -5,
          "borderpad": 1,
          "font": {
           "color": "#333",
           "size": 10
          },
          "showarrow": true,
          "text": "$P(Ci|Ci)= 0.4$",
          "x": 0.75,
          "xref": "x",
          "y": -0.4375,
          "yref": "y"
         },
         {
          "align": "center",
          "arrowsize": 1,
          "arrowwidth": 1,
          "ax": 3,
          "ay": -5,
          "borderpad": 1,
          "font": {
           "color": "#333",
           "size": 10
          },
          "showarrow": true,
          "text": "$P(Bo|Bo\\cap Bo)= 0.5$",
          "x": 1.25,
          "xref": "x",
          "y": 1.71875,
          "yref": "y"
         },
         {
          "align": "center",
          "arrowsize": 1,
          "arrowwidth": 1,
          "ax": 3,
          "ay": -5,
          "borderpad": 1,
          "font": {
           "color": "#333",
           "size": 10
          },
          "showarrow": true,
          "text": "$P(Al|Bo\\cap Bo)= 0.5$",
          "x": 1.25,
          "xref": "x",
          "y": 1.53125,
          "yref": "y"
         },
         {
          "align": "center",
          "arrowsize": 1,
          "arrowwidth": 1,
          "ax": 3,
          "ay": -5,
          "borderpad": 1,
          "font": {
           "color": "#333",
           "size": 10
          },
          "showarrow": true,
          "text": "$P(Bo|Bo\\cap Bo\\cap Bo)= 0.5$",
          "x": 1.75,
          "xref": "x",
          "y": 1.859375,
          "yref": "y"
         },
         {
          "align": "center",
          "arrowsize": 1,
          "arrowwidth": 1,
          "ax": 3,
          "ay": -5,
          "borderpad": 1,
          "font": {
           "color": "#333",
           "size": 10
          },
          "showarrow": true,
          "text": "$P(Al|Bo\\cap Bo\\cap Bo)= 0.5$",
          "x": 1.75,
          "xref": "x",
          "y": 1.765625,
          "yref": "y"
         },
         {
          "align": "center",
          "arrowsize": 1,
          "arrowwidth": 1,
          "ax": 3,
          "ay": -5,
          "borderpad": 1,
          "font": {
           "color": "#333",
           "size": 10
          },
          "showarrow": true,
          "text": "$P(Ci|Ci\\cap Ci)=0.3$",
          "x": 1.25,
          "xref": "x",
          "y": -0.53125,
          "yref": "y"
         },
         {
          "align": "center",
          "arrowsize": 1,
          "arrowwidth": 1,
          "ax": 3,
          "ay": -5,
          "borderpad": 1,
          "font": {
           "color": "#333",
           "size": 10
          },
          "showarrow": true,
          "text": "$P(Al|Ci\\cap Ci)=0.7$",
          "x": 1.25,
          "xref": "x",
          "y": -0.71875,
          "yref": "y"
         },
         {
          "align": "center",
          "arrowsize": 1,
          "arrowwidth": 1,
          "ax": 3,
          "ay": -5,
          "borderpad": 1,
          "font": {
           "color": "#333",
           "size": 10
          },
          "showarrow": true,
          "text": "$P(Ci|Ci\\cap Ci\\cap Ci)= 0.3$",
          "x": 1.75,
          "xref": "x",
          "y": -0.390625,
          "yref": "y"
         },
         {
          "align": "center",
          "arrowsize": 1,
          "arrowwidth": 1,
          "ax": 3,
          "ay": -5,
          "borderpad": 1,
          "font": {
           "color": "#333",
           "size": 10
          },
          "showarrow": true,
          "text": "$P(Al|Ci\\cap Ci\\cap Ci)= 0.7$",
          "x": 1.75,
          "xref": "x",
          "y": -0.484375,
          "yref": "y"
         }
        ],
        "autosize": true,
        "height": 480,
        "hovermode": "closest",
        "margin": {
         "b": 0,
         "l": 0,
         "r": 0,
         "t": 30
        },
        "showlegend": false,
        "title": {
         "font": {
          "size": 16
         },
         "text": "Chess Tournament",
         "x": 0.14
        },
        "width": 900,
        "xaxis": {
         "range": [
          -0.01,
          2.45
         ],
         "showgrid": false,
         "showticklabels": false,
         "zeroline": false
        },
        "yaxis": {
         "range": [
          -0.9125,
          2.00625
         ],
         "showgrid": false,
         "showticklabels": false,
         "zeroline": false
        }
       }
      },
      "text/html": [
       "<div>\n",
       "        \n",
       "        \n",
       "            <div id=\"14a1902f-2080-4fe6-9889-0afd24ac43a4\" class=\"plotly-graph-div\" style=\"height:480px; width:900px;\"></div>\n",
       "            <script type=\"text/javascript\">\n",
       "                require([\"plotly\"], function(Plotly) {\n",
       "                    window.PLOTLYENV=window.PLOTLYENV || {};\n",
       "                    window.PLOTLYENV.BASE_URL='https://plot.ly';\n",
       "                    \n",
       "                if (document.getElementById(\"14a1902f-2080-4fe6-9889-0afd24ac43a4\")) {\n",
       "                    Plotly.newPlot(\n",
       "                        '14a1902f-2080-4fe6-9889-0afd24ac43a4',\n",
       "                        [{\"marker\": {\"color\": [], \"showscale\": false, \"size\": 0}, \"mode\": \"text\", \"text\": [], \"type\": \"scatter\", \"uid\": \"a21a38f5-445a-4ccd-8e91-8db7c9800e5a\", \"x\": [0], \"y\": [0.5]}, {\"line\": {\"color\": \"#777\", \"width\": 0.9}, \"mode\": \"lines\", \"text\": [], \"type\": \"scatter\", \"uid\": \"20c4ba78-2456-49fa-bb95-59aca1c904f7\", \"x\": [0, 0.5, null, 0, 0.5, null, 0.5, 1.0, null, 0.5, 1.0, null, 0.5, 1.0, null, 0.5, 1.0, null, 1.0, 1.5, null, 1.0, 1.5, null, 1.5, 2.0, null, 1.5, 2.0, null, 1.0, 1.5, null, 1.0, 1.5, null, 1.5, 2.0, null, 1.5, 2.0, null], \"y\": [0.5, 1.25, null, 0.5, -0.25, null, 1.25, 1.625, null, 1.25, 0.875, null, -0.25, 0.125, null, -0.25, -0.625, null, 1.625, 1.8125, null, 1.625, 1.4375, null, 1.8125, 1.90625, null, 1.8125, 1.71875, null, -0.625, -0.4375, null, -0.625, -0.8125, null, -0.4375, -0.34375, null, -0.4375, -0.53125, null]}, {\"marker\": {\"color\": [\"white\", \"white\", \"white\", \"white\", \"white\", \"white\", \"white\", \"white\", \"white\", \"white\", \"white\", \"white\", \"white\", \"white\"], \"showscale\": false, \"size\": 70, \"symbol\": \"diamond-wide\"}, \"mode\": \"markers+text\", \"name\": \"Nodes\", \"showlegend\": false, \"text\": [\"Bo\", \"Ci\", \"BoBo\", \"BoCi\", \"BoBoBo\", \"BoBoAl\", \"BoBoBoBo\", \"BoBoBoAl\", \"CiBo\", \"CiCi\", \"CiCiCi\", \"CiCiAl\", \"CiCiCiCi\", \"CiCiCiAl\"], \"textfont\": {\"size\": 14}, \"type\": \"scatter\", \"uid\": \"29467b7e-6405-41fb-8ecf-bf9fa3bd4647\", \"x\": [0.5, 0.5, 1.0, 1.0, 1.5, 1.5, 2.0, 2.0, 1.0, 1.0, 1.5, 1.5, 2.0, 2.0], \"y\": [1.25, -0.25, 1.625, 0.875, 1.8125, 1.4375, 1.90625, 1.71875, 0.125, -0.625, -0.4375, -0.8125, -0.34375, -0.53125]}],\n",
       "                        {\"annotations\": [{\"align\": \"center\", \"arrowsize\": 1, \"arrowwidth\": 1, \"ax\": 3, \"ay\": -5, \"borderpad\": 1, \"font\": {\"color\": \"#333\", \"size\": 10}, \"showarrow\": true, \"text\": \"$P(Bo)= 0.6$\", \"x\": 0.25, \"xref\": \"x\", \"y\": 0.875, \"yref\": \"y\"}, {\"align\": \"center\", \"arrowsize\": 1, \"arrowwidth\": 1, \"ax\": 3, \"ay\": -5, \"borderpad\": 1, \"font\": {\"color\": \"#333\", \"size\": 10}, \"showarrow\": true, \"text\": \"$P(Ci)= 0.4$\", \"x\": 0.25, \"xref\": \"x\", \"y\": 0.125, \"yref\": \"y\"}, {\"align\": \"center\", \"arrowsize\": 1, \"arrowwidth\": 1, \"ax\": 3, \"ay\": -5, \"borderpad\": 1, \"font\": {\"color\": \"#333\", \"size\": 10}, \"showarrow\": true, \"text\": \"$P(Bo|Bo)= 0.6$\", \"x\": 0.75, \"xref\": \"x\", \"y\": 1.4375, \"yref\": \"y\"}, {\"align\": \"center\", \"arrowsize\": 1, \"arrowwidth\": 1, \"ax\": 3, \"ay\": -5, \"borderpad\": 1, \"font\": {\"color\": \"#333\", \"size\": 10}, \"showarrow\": true, \"text\": \"$P(Ci|Bo)= 0.4$\", \"x\": 0.75, \"xref\": \"x\", \"y\": 1.0625, \"yref\": \"y\"}, {\"align\": \"center\", \"arrowsize\": 1, \"arrowwidth\": 1, \"ax\": 3, \"ay\": -5, \"borderpad\": 1, \"font\": {\"color\": \"#333\", \"size\": 10}, \"showarrow\": true, \"text\": \"$P(Bo|Ci)= 0.6$\", \"x\": 0.75, \"xref\": \"x\", \"y\": -0.0625, \"yref\": \"y\"}, {\"align\": \"center\", \"arrowsize\": 1, \"arrowwidth\": 1, \"ax\": 3, \"ay\": -5, \"borderpad\": 1, \"font\": {\"color\": \"#333\", \"size\": 10}, \"showarrow\": true, \"text\": \"$P(Ci|Ci)= 0.4$\", \"x\": 0.75, \"xref\": \"x\", \"y\": -0.4375, \"yref\": \"y\"}, {\"align\": \"center\", \"arrowsize\": 1, \"arrowwidth\": 1, \"ax\": 3, \"ay\": -5, \"borderpad\": 1, \"font\": {\"color\": \"#333\", \"size\": 10}, \"showarrow\": true, \"text\": \"$P(Bo|Bo\\\\cap Bo)= 0.5$\", \"x\": 1.25, \"xref\": \"x\", \"y\": 1.71875, \"yref\": \"y\"}, {\"align\": \"center\", \"arrowsize\": 1, \"arrowwidth\": 1, \"ax\": 3, \"ay\": -5, \"borderpad\": 1, \"font\": {\"color\": \"#333\", \"size\": 10}, \"showarrow\": true, \"text\": \"$P(Al|Bo\\\\cap Bo)= 0.5$\", \"x\": 1.25, \"xref\": \"x\", \"y\": 1.53125, \"yref\": \"y\"}, {\"align\": \"center\", \"arrowsize\": 1, \"arrowwidth\": 1, \"ax\": 3, \"ay\": -5, \"borderpad\": 1, \"font\": {\"color\": \"#333\", \"size\": 10}, \"showarrow\": true, \"text\": \"$P(Bo|Bo\\\\cap Bo\\\\cap Bo)= 0.5$\", \"x\": 1.75, \"xref\": \"x\", \"y\": 1.859375, \"yref\": \"y\"}, {\"align\": \"center\", \"arrowsize\": 1, \"arrowwidth\": 1, \"ax\": 3, \"ay\": -5, \"borderpad\": 1, \"font\": {\"color\": \"#333\", \"size\": 10}, \"showarrow\": true, \"text\": \"$P(Al|Bo\\\\cap Bo\\\\cap Bo)= 0.5$\", \"x\": 1.75, \"xref\": \"x\", \"y\": 1.765625, \"yref\": \"y\"}, {\"align\": \"center\", \"arrowsize\": 1, \"arrowwidth\": 1, \"ax\": 3, \"ay\": -5, \"borderpad\": 1, \"font\": {\"color\": \"#333\", \"size\": 10}, \"showarrow\": true, \"text\": \"$P(Ci|Ci\\\\cap Ci)=0.3$\", \"x\": 1.25, \"xref\": \"x\", \"y\": -0.53125, \"yref\": \"y\"}, {\"align\": \"center\", \"arrowsize\": 1, \"arrowwidth\": 1, \"ax\": 3, \"ay\": -5, \"borderpad\": 1, \"font\": {\"color\": \"#333\", \"size\": 10}, \"showarrow\": true, \"text\": \"$P(Al|Ci\\\\cap Ci)=0.7$\", \"x\": 1.25, \"xref\": \"x\", \"y\": -0.71875, \"yref\": \"y\"}, {\"align\": \"center\", \"arrowsize\": 1, \"arrowwidth\": 1, \"ax\": 3, \"ay\": -5, \"borderpad\": 1, \"font\": {\"color\": \"#333\", \"size\": 10}, \"showarrow\": true, \"text\": \"$P(Ci|Ci\\\\cap Ci\\\\cap Ci)= 0.3$\", \"x\": 1.75, \"xref\": \"x\", \"y\": -0.390625, \"yref\": \"y\"}, {\"align\": \"center\", \"arrowsize\": 1, \"arrowwidth\": 1, \"ax\": 3, \"ay\": -5, \"borderpad\": 1, \"font\": {\"color\": \"#333\", \"size\": 10}, \"showarrow\": true, \"text\": \"$P(Al|Ci\\\\cap Ci\\\\cap Ci)= 0.7$\", \"x\": 1.75, \"xref\": \"x\", \"y\": -0.484375, \"yref\": \"y\"}], \"autosize\": true, \"height\": 480, \"hovermode\": \"closest\", \"margin\": {\"b\": 0, \"l\": 0, \"r\": 0, \"t\": 30}, \"showlegend\": false, \"title\": {\"font\": {\"size\": 16}, \"text\": \"Chess Tournament\", \"x\": 0.14}, \"width\": 900, \"xaxis\": {\"range\": [-0.01, 2.45], \"showgrid\": false, \"showticklabels\": false, \"zeroline\": false}, \"yaxis\": {\"range\": [-0.9125, 2.00625], \"showgrid\": false, \"showticklabels\": false, \"zeroline\": false}},\n",
       "                        {\"showLink\": false, \"linkText\": \"Export to plot.ly\", \"plotlyServerURL\": \"https://plot.ly\", \"responsive\": true}\n",
       "                    ).then(function(){\n",
       "                            \n",
       "var gd = document.getElementById('14a1902f-2080-4fe6-9889-0afd24ac43a4');\n",
       "var x = new MutationObserver(function (mutations, observer) {{\n",
       "        var display = window.getComputedStyle(gd).display;\n",
       "        if (!display || display === 'none') {{\n",
       "            console.log([gd, 'removed!']);\n",
       "            Plotly.purge(gd);\n",
       "            observer.disconnect();\n",
       "        }}\n",
       "}});\n",
       "\n",
       "// Listen for the removal of the full notebook cells\n",
       "var notebookContainer = gd.closest('#notebook-container');\n",
       "if (notebookContainer) {{\n",
       "    x.observe(notebookContainer, {childList: true});\n",
       "}}\n",
       "\n",
       "// Listen for the clearing of the current output cell\n",
       "var outputEl = gd.closest('.output');\n",
       "if (outputEl) {{\n",
       "    x.observe(outputEl, {childList: true});\n",
       "}}\n",
       "\n",
       "                        })\n",
       "                };\n",
       "                });\n",
       "            </script>\n",
       "        </div>"
      ]
     },
     "metadata": {},
     "output_type": "display_data"
    },
    {
     "data": {
      "text/markdown": [
       "$\\text{1a. }P(\\text{2nd round})= (0.6\\times 0.6) + (0.4\\times 0.4)= 0.52 \\\n",
       "\\\\\\text{1b. }P(\\text{Bo wins 1st round})= (0.6\\times 0.6)= 0.36 \\\n",
       "\\\\\\text{1c. }P(\\text{Al retains title})= 1-P(\\text{Al doesn't retain title})= \\\n",
       "1-((0.6\\times 0.6\\times 0.5\\times 0.5)+(0.4\\times 0.4\\times 0.3\\times 0.3))=0.8956 \\\n",
       "\\\\\\text{2a. }P(\\text{Bo wins 1st round}|\\text{2nd round})= \\\n",
       "\\frac{P(Bo\\text{ wins 1st round }\\cap\\text{ 2nd round})}{P(\\text{2nd round})}= \\frac{0.36}{0.52}= 0.6923076923076923 \\\n",
       "\\\\\\text{2b. }P(\\text{Al retains title}|\\text{2nd round})= \\\n",
       "\\frac{P(Al\\text{ retains title }\\cap\\text{ 2nd round})}{P(\\text{2nd round})}= \\\n",
       "\\frac{(0.6\\times 0.6\\times 0.5)+(0.4\\times 0.4\\times 0.7)+(0.6\\times 0.6\\times 0.5\\times 0.5)+ \\\n",
       "(0.6\\times 0.6\\times 0.3\\times 0.7)}{0.52}= 0.7992307692307693 \\\n",
       "\\\\\\text{3. }P(\\text{Bo wins 1st round}|\\text{2nd round}\\cap\\text{1 game})= \\\n",
       "\\frac{P(Bo\\text{ wins 1st round }\\cap\\text{ 2nd round }\\cap\\text{ 1 game})}{P(\\text{2nd round}\\cap\\text{ 1 game})}= \\\n",
       "\\frac{0.18}{(0.6\\times 0.6\\times 0.5)+(0.4\\times 0.4\\times 0.7)}= 0.6164383561643835$"
      ],
      "text/plain": [
       "<IPython.core.display.Markdown object>"
      ]
     },
     "metadata": {},
     "output_type": "display_data"
    }
   ],
   "source": [
    "chess_edge_weights = {'01':0.6,'041':0.4,'12':0.6,'115':0.4,'23':0.5,'211':0.5,'34':0.5,'36':0.5,\n",
    "                     '4142':0.6,'4155':0.4,'5560':0.3,'5564':0.7,'6062':0.3,'6063':0.7}\n",
    "\n",
    "chess_edges_labls = {'01':'$P(Bo)= 0.6$','041':'$P(Ci)= 0.4$','12':'$P(Bo|Bo)= 0.6$',\n",
    "                    '115':'$P(Ci|Bo)= 0.4$','23':'$P(Bo|Bo\\cap Bo)= 0.5$','211':'$P(Al|Bo\\cap Bo)= 0.5$',\n",
    "                    '34':'$P(Bo|Bo\\cap Bo\\cap Bo)= 0.5$','36':'$P(Al|Bo\\cap Bo\\cap Bo)= 0.5$',\n",
    "                    '4142':'$P(Bo|Ci)= 0.6$','4155':'$P(Ci|Ci)= 0.4$','5560':'$P(Ci|Ci\\cap Ci)=0.3$',\n",
    "                    '5564':'$P(Al|Ci\\cap Ci)=0.7$','6062':'$P(Ci|Ci\\cap Ci\\cap Ci)= 0.3$',\n",
    "                    '6063':'$P(Al|Ci\\cap Ci\\cap Ci)= 0.7$'}\n",
    "\n",
    "chess_tree = TreeGraph(orientation='h',root=chess_nodes[0][0],spread=3,gap=0.5,\n",
    "              nodes=chess_nodes,edge_weights=chess_edge_weights,edge_labels=chess_edges_labls)\n",
    "\n",
    "chess_tree.generic_plotly_plot(\"Chess Tournament\", title_pos=0.14, height=480, width=900, \n",
    "                                node_fontsize=14, legend=False, label_fontsize=10)\n",
    "\n",
    "P_1chess_a = chess_tree.paths_product(0,2) + chess_tree.paths_product(0,55) \n",
    "P_1chess_b = chess_tree.paths_product(0,2)\n",
    "P_1chess_c = chess_tree.paths_product(0,4) + chess_tree.paths_product(0,62)\n",
    "\n",
    "P_2chess_a = P_1chess_b/P_1chess_a\n",
    "P_2chess_b = (chess_tree.paths_product(0,11) + chess_tree.paths_product(0,64) + \\\n",
    "             chess_tree.paths_product(0,6) + chess_tree.paths_product(0,63))/P_1chess_a\n",
    "\n",
    "P_3chess = chess_tree.paths_product(0,11)/(chess_tree.paths_product(0,11) + chess_tree.paths_product(0,64))\n",
    "\n",
    "display_math(r\"\\text{1a. }P(\\text{2nd round})= (0.6\\times 0.6) + (0.4\\times 0.4)= %s \\\n",
    "\\\\\\text{1b. }P(\\text{Bo wins 1st round})= (0.6\\times 0.6)= %s \\\n",
    "\\\\\\text{1c. }P(\\text{Al retains title})= 1-P(\\text{Al doesn't retain title})= \\\n",
    "1-((0.6\\times 0.6\\times 0.5\\times 0.5)+(0.4\\times 0.4\\times 0.3\\times 0.3))=%s \\\n",
    "\\\\\\text{2a. }P(\\text{Bo wins 1st round}|\\text{2nd round})= \\\n",
    "\\frac{P(Bo\\text{ wins 1st round }\\cap\\text{ 2nd round})}{P(\\text{2nd round})}= \\frac{0.36}{0.52}= %s \\\n",
    "\\\\\\text{2b. }P(\\text{Al retains title}|\\text{2nd round})= \\\n",
    "\\frac{P(Al\\text{ retains title }\\cap\\text{ 2nd round})}{P(\\text{2nd round})}= \\\n",
    "\\frac{(0.6\\times 0.6\\times 0.5)+(0.4\\times 0.4\\times 0.7)+(0.6\\times 0.6\\times 0.5\\times 0.5)+ \\\n",
    "(0.6\\times 0.6\\times 0.3\\times 0.7)}{0.52}= %s \\\n",
    "\\\\\\text{3. }P(\\text{Bo wins 1st round}|\\text{2nd round}\\cap\\text{1 game})= \\\n",
    "\\frac{P(Bo\\text{ wins 1st round }\\cap\\text{ 2nd round }\\cap\\text{ 1 game})}{P(\\text{2nd round}\\cap\\text{ 1 game})}= \\\n",
    "\\frac{0.18}{(0.6\\times 0.6\\times 0.5)+(0.4\\times 0.4\\times 0.7)}= %s\" \n",
    "             % (P_1chess_a,P_1chess_b,1-P_1chess_c,P_2chess_a,P_2chess_b,P_3chess))"
   ]
  },
  {
   "cell_type": "markdown",
   "metadata": {},
   "source": [
    "### Coin tossing puzzle\n",
    "A coin is tossed twice. Alice claims that the event of getting two Heads is at least as likely if we know that the first toss is Heads than if we know that at least one of the tosses is Heads. Is she right? Does it make a difference if the coin is fair or unfair? How can we generalize Alice's reasoning?\n",
    "\n",
    "* $H_1 =$ Heads in first toss\n",
    "* $H_2 =$ Heads in second toss\n",
    "\n",
    "\n",
    "We can say that the probability of option 1 is greater than or equal to option 2 if we express it this way:\n",
    "\n",
    "option 1) $P(H_2\\cap H_1|H_1) = \\frac{P((H_2\\cap H_1)\\cap H_1)}{P(H_1)}=\\frac{P(H_2\\cap H_1)}{P(H_1)}$\n",
    "- *Bear in mind that the intersection of $H_2$ with $H_1$ is the same as the intersection of $(H_2\\cap H_1)$ with $H_1$ and that's why we removed $\\cap H_1$ in $(H_2\\cap H_1)\\cap H_1$. In other words, $(H_2\\cap H_1)$ was a subset of $H_1$*\n",
    "\n",
    "option 2) $P(H_2\\cap H_1|H_1\\cup H_2) = \\frac{P((H_2\\cap H_1)\\cap(H_1\\cup H_2))}{P(H_1\\cup H_2)} = \\frac{P(H_2\\cap H_1)}{P(H_1\\cup H_2)}$\n",
    "\n",
    "If we do the equation with the probability of Heads in a fair coin, where P(H)=0.5, then we have the following:\n",
    "\n",
    "option 1) $\\frac{0.5\\cdot0.5}{0.5} = 0.5$\n",
    "\n",
    "option 2) $\\frac{0.5\\cdot0.5}{(0.5\\cdot0.5)+(0.5\\cdot0.5)+(0.5\\cdot0.5)}=\\frac{0.25}{0.75}=0.33$\n",
    "\n",
    "In this case, option 1 is grater than option 2. Considering a biased coin, option 1 could be equal to option 2 but never less than.\n",
    "\n",
    "Generalizing, $P(C|D)\\geq P(C|E)$ where $C=H_2\\cap H_1$ and $D=H_1$ and $E=H_2\\cup H_1$\n",
    "\n",
    "The tree below will help understand the process:"
   ]
  },
  {
   "cell_type": "code",
   "execution_count": 18,
   "metadata": {},
   "outputs": [
    {
     "data": {
      "text/html": [
       "        <script type=\"text/javascript\">\n",
       "        window.PlotlyConfig = {MathJaxConfig: 'local'};\n",
       "        if (window.MathJax) {MathJax.Hub.Config({SVG: {font: \"STIX-Web\"}});}\n",
       "        if (typeof require !== 'undefined') {\n",
       "        require.undef(\"plotly\");\n",
       "        requirejs.config({\n",
       "            paths: {\n",
       "                'plotly': ['https://cdn.plot.ly/plotly-latest.min']\n",
       "            }\n",
       "        });\n",
       "        require(['plotly'], function(Plotly) {\n",
       "            window._Plotly = Plotly;\n",
       "        });\n",
       "        }\n",
       "        </script>\n",
       "        "
      ]
     },
     "metadata": {},
     "output_type": "display_data"
    },
    {
     "data": {
      "application/vnd.plotly.v1+json": {
       "config": {
        "linkText": "Export to plot.ly",
        "plotlyServerURL": "https://plot.ly",
        "showLink": false
       },
       "data": [
        {
         "marker": {
          "color": [],
          "showscale": false,
          "size": 0
         },
         "mode": "text",
         "text": [],
         "type": "scatter",
         "uid": "ef7830b6-d8c5-4a1d-88f9-8dca1651ce9f",
         "x": [
          0
         ],
         "y": [
          0.5
         ]
        },
        {
         "line": {
          "color": "#777",
          "width": 0.9
         },
         "mode": "lines",
         "text": [],
         "type": "scatter",
         "uid": "f6727117-ea26-49d9-b76b-18e6dfa836b2",
         "x": [
          0,
          0.5,
          null,
          0,
          0.5,
          null,
          0.5,
          1,
          null,
          0.5,
          1,
          null,
          0.5,
          1,
          null,
          0.5,
          1,
          null
         ],
         "y": [
          0.5,
          0.625,
          null,
          0.5,
          0.375,
          null,
          0.625,
          0.6875,
          null,
          0.625,
          0.5625,
          null,
          0.375,
          0.4375,
          null,
          0.375,
          0.3125,
          null
         ]
        },
        {
         "marker": {
          "color": [
           "white",
           "white",
           "white",
           "white",
           "white",
           "white"
          ],
          "showscale": false,
          "size": 70,
          "symbol": "diamond-wide"
         },
         "mode": "markers+text",
         "name": "Nodes",
         "showlegend": false,
         "text": [
          "H",
          "T",
          "HH",
          "HT",
          "TH",
          "TT"
         ],
         "textfont": {
          "size": 12
         },
         "type": "scatter",
         "uid": "deeea1b1-1db7-47b0-b692-3a19ceb7c5bc",
         "x": [
          0.5,
          0.5,
          1,
          1,
          1,
          1
         ],
         "y": [
          0.625,
          0.375,
          0.6875,
          0.5625,
          0.4375,
          0.3125
         ]
        }
       ],
       "layout": {
        "annotations": [
         {
          "align": "center",
          "arrowsize": 1,
          "arrowwidth": 1,
          "ax": 3,
          "ay": -5,
          "borderpad": 1,
          "font": {
           "color": "#333",
           "size": 11
          },
          "showarrow": true,
          "text": "$p$",
          "x": 0.25,
          "xref": "x",
          "y": 0.5625,
          "yref": "y"
         },
         {
          "align": "center",
          "arrowsize": 1,
          "arrowwidth": 1,
          "ax": 3,
          "ay": -5,
          "borderpad": 1,
          "font": {
           "color": "#333",
           "size": 11
          },
          "showarrow": true,
          "text": "$1-p$",
          "x": 0.25,
          "xref": "x",
          "y": 0.4375,
          "yref": "y"
         },
         {
          "align": "center",
          "arrowsize": 1,
          "arrowwidth": 1,
          "ax": 3,
          "ay": -5,
          "borderpad": 1,
          "font": {
           "color": "#333",
           "size": 11
          },
          "showarrow": true,
          "text": "$p$",
          "x": 0.75,
          "xref": "x",
          "y": 0.65625,
          "yref": "y"
         },
         {
          "align": "center",
          "arrowsize": 1,
          "arrowwidth": 1,
          "ax": 3,
          "ay": -5,
          "borderpad": 1,
          "font": {
           "color": "#333",
           "size": 11
          },
          "showarrow": true,
          "text": "$1-p$",
          "x": 0.75,
          "xref": "x",
          "y": 0.59375,
          "yref": "y"
         },
         {
          "align": "center",
          "arrowsize": 1,
          "arrowwidth": 1,
          "ax": 3,
          "ay": -5,
          "borderpad": 1,
          "font": {
           "color": "#333",
           "size": 11
          },
          "showarrow": true,
          "text": "$p$",
          "x": 0.75,
          "xref": "x",
          "y": 0.40625,
          "yref": "y"
         },
         {
          "align": "center",
          "arrowsize": 1,
          "arrowwidth": 1,
          "ax": 3,
          "ay": -5,
          "borderpad": 1,
          "font": {
           "color": "#333",
           "size": 11
          },
          "showarrow": true,
          "text": "$1-p$",
          "x": 0.75,
          "xref": "x",
          "y": 0.34375,
          "yref": "y"
         }
        ],
        "autosize": true,
        "height": 300,
        "hovermode": "closest",
        "margin": {
         "b": 0,
         "l": 0,
         "r": 0,
         "t": 30
        },
        "showlegend": false,
        "title": {
         "font": {
          "size": 16
         },
         "text": "2 tosses of biased or unbiased coin",
         "x": 0.15
        },
        "width": 600,
        "xaxis": {
         "range": [
          -0.01,
          1.45
         ],
         "showgrid": false,
         "showticklabels": false,
         "zeroline": false
        },
        "yaxis": {
         "range": [
          0.2125,
          0.7875
         ],
         "showgrid": false,
         "showticklabels": false,
         "zeroline": false
        }
       }
      },
      "text/html": [
       "<div>\n",
       "        \n",
       "        \n",
       "            <div id=\"5634a8e6-3d3b-41ba-b221-71aeffe5e306\" class=\"plotly-graph-div\" style=\"height:300px; width:600px;\"></div>\n",
       "            <script type=\"text/javascript\">\n",
       "                require([\"plotly\"], function(Plotly) {\n",
       "                    window.PLOTLYENV=window.PLOTLYENV || {};\n",
       "                    window.PLOTLYENV.BASE_URL='https://plot.ly';\n",
       "                    \n",
       "                if (document.getElementById(\"5634a8e6-3d3b-41ba-b221-71aeffe5e306\")) {\n",
       "                    Plotly.newPlot(\n",
       "                        '5634a8e6-3d3b-41ba-b221-71aeffe5e306',\n",
       "                        [{\"marker\": {\"color\": [], \"showscale\": false, \"size\": 0}, \"mode\": \"text\", \"text\": [], \"type\": \"scatter\", \"uid\": \"ef7830b6-d8c5-4a1d-88f9-8dca1651ce9f\", \"x\": [0], \"y\": [0.5]}, {\"line\": {\"color\": \"#777\", \"width\": 0.9}, \"mode\": \"lines\", \"text\": [], \"type\": \"scatter\", \"uid\": \"f6727117-ea26-49d9-b76b-18e6dfa836b2\", \"x\": [0, 0.5, null, 0, 0.5, null, 0.5, 1.0, null, 0.5, 1.0, null, 0.5, 1.0, null, 0.5, 1.0, null], \"y\": [0.5, 0.625, null, 0.5, 0.375, null, 0.625, 0.6875, null, 0.625, 0.5625, null, 0.375, 0.4375, null, 0.375, 0.3125, null]}, {\"marker\": {\"color\": [\"white\", \"white\", \"white\", \"white\", \"white\", \"white\"], \"showscale\": false, \"size\": 70, \"symbol\": \"diamond-wide\"}, \"mode\": \"markers+text\", \"name\": \"Nodes\", \"showlegend\": false, \"text\": [\"H\", \"T\", \"HH\", \"HT\", \"TH\", \"TT\"], \"textfont\": {\"size\": 12}, \"type\": \"scatter\", \"uid\": \"deeea1b1-1db7-47b0-b692-3a19ceb7c5bc\", \"x\": [0.5, 0.5, 1.0, 1.0, 1.0, 1.0], \"y\": [0.625, 0.375, 0.6875, 0.5625, 0.4375, 0.3125]}],\n",
       "                        {\"annotations\": [{\"align\": \"center\", \"arrowsize\": 1, \"arrowwidth\": 1, \"ax\": 3, \"ay\": -5, \"borderpad\": 1, \"font\": {\"color\": \"#333\", \"size\": 11}, \"showarrow\": true, \"text\": \"$p$\", \"x\": 0.25, \"xref\": \"x\", \"y\": 0.5625, \"yref\": \"y\"}, {\"align\": \"center\", \"arrowsize\": 1, \"arrowwidth\": 1, \"ax\": 3, \"ay\": -5, \"borderpad\": 1, \"font\": {\"color\": \"#333\", \"size\": 11}, \"showarrow\": true, \"text\": \"$1-p$\", \"x\": 0.25, \"xref\": \"x\", \"y\": 0.4375, \"yref\": \"y\"}, {\"align\": \"center\", \"arrowsize\": 1, \"arrowwidth\": 1, \"ax\": 3, \"ay\": -5, \"borderpad\": 1, \"font\": {\"color\": \"#333\", \"size\": 11}, \"showarrow\": true, \"text\": \"$p$\", \"x\": 0.75, \"xref\": \"x\", \"y\": 0.65625, \"yref\": \"y\"}, {\"align\": \"center\", \"arrowsize\": 1, \"arrowwidth\": 1, \"ax\": 3, \"ay\": -5, \"borderpad\": 1, \"font\": {\"color\": \"#333\", \"size\": 11}, \"showarrow\": true, \"text\": \"$1-p$\", \"x\": 0.75, \"xref\": \"x\", \"y\": 0.59375, \"yref\": \"y\"}, {\"align\": \"center\", \"arrowsize\": 1, \"arrowwidth\": 1, \"ax\": 3, \"ay\": -5, \"borderpad\": 1, \"font\": {\"color\": \"#333\", \"size\": 11}, \"showarrow\": true, \"text\": \"$p$\", \"x\": 0.75, \"xref\": \"x\", \"y\": 0.40625, \"yref\": \"y\"}, {\"align\": \"center\", \"arrowsize\": 1, \"arrowwidth\": 1, \"ax\": 3, \"ay\": -5, \"borderpad\": 1, \"font\": {\"color\": \"#333\", \"size\": 11}, \"showarrow\": true, \"text\": \"$1-p$\", \"x\": 0.75, \"xref\": \"x\", \"y\": 0.34375, \"yref\": \"y\"}], \"autosize\": true, \"height\": 300, \"hovermode\": \"closest\", \"margin\": {\"b\": 0, \"l\": 0, \"r\": 0, \"t\": 30}, \"showlegend\": false, \"title\": {\"font\": {\"size\": 16}, \"text\": \"2 tosses of biased or unbiased coin\", \"x\": 0.15}, \"width\": 600, \"xaxis\": {\"range\": [-0.01, 1.45], \"showgrid\": false, \"showticklabels\": false, \"zeroline\": false}, \"yaxis\": {\"range\": [0.2125, 0.7875], \"showgrid\": false, \"showticklabels\": false, \"zeroline\": false}},\n",
       "                        {\"showLink\": false, \"linkText\": \"Export to plot.ly\", \"plotlyServerURL\": \"https://plot.ly\", \"responsive\": true}\n",
       "                    ).then(function(){\n",
       "                            \n",
       "var gd = document.getElementById('5634a8e6-3d3b-41ba-b221-71aeffe5e306');\n",
       "var x = new MutationObserver(function (mutations, observer) {{\n",
       "        var display = window.getComputedStyle(gd).display;\n",
       "        if (!display || display === 'none') {{\n",
       "            console.log([gd, 'removed!']);\n",
       "            Plotly.purge(gd);\n",
       "            observer.disconnect();\n",
       "        }}\n",
       "}});\n",
       "\n",
       "// Listen for the removal of the full notebook cells\n",
       "var notebookContainer = gd.closest('#notebook-container');\n",
       "if (notebookContainer) {{\n",
       "    x.observe(notebookContainer, {childList: true});\n",
       "}}\n",
       "\n",
       "// Listen for the clearing of the current output cell\n",
       "var outputEl = gd.closest('.output');\n",
       "if (outputEl) {{\n",
       "    x.observe(outputEl, {childList: true});\n",
       "}}\n",
       "\n",
       "                        })\n",
       "                };\n",
       "                });\n",
       "            </script>\n",
       "        </div>"
      ]
     },
     "metadata": {},
     "output_type": "display_data"
    }
   ],
   "source": [
    "#Create tree\n",
    "coinP_node_child = [[1,4],[2,3],None,None,[5,6],None,None]\n",
    "\n",
    "coinP_nodes = build_nodeDict('HT',repeat=2,children=coinP_node_child)#use build_nodeDict() from Hierarchy_tree\n",
    "\n",
    "coinP_edges_labls = {'01':'$p$','04':'$1-p$','12':'$p$','13':'$1-p$',\n",
    "                   '45':'$p$','46':'$1-p$'}\n",
    "\n",
    "coinP_toss_tree = TreeGraph(orientation='h',root=coinP_nodes[0][0],spread=0.5,gap=0.5,\n",
    "              nodes=coinP_nodes,edge_weights=None,edge_labels=coinP_edges_labls)\n",
    "\n",
    "coinP_toss_tree.generic_plotly_plot(\"2 tosses of biased or unbiased coin\", \n",
    "                    title_pos=0.15, height=300, width=600, legend=False)"
   ]
  },
  {
   "cell_type": "markdown",
   "metadata": {},
   "source": [
    "### The Monty Hall Problem\n",
    "\n",
    "This is a much discussed puzzle, based on an old American game show. You are told that a prize is equally likely to be found behind any one of three closed doors in front of you. You point to one of the doors. A friend opens for you one of the remaining two doors, after making sure that the prize is not behind it. At this point, you can stick to your initial choice, or switch to the other unopened door. You win the prize if it lies behind your final choice of a door. Consider the following strategies:\n",
    "\n",
    "- Stick to your initial choice.\n",
    "\n",
    "- Switch to the other unopened door.\n",
    "\n",
    "- You first point to door 1. If door 2 is opened, you do not switch. If door 3 is opened, you switch.\n",
    "\n",
    "Which is the best strategy?\n",
    "\n",
    "Answer:\n",
    "\n",
    "1st pick is right: $P =\\frac{1}{3}$\n",
    "\n",
    "1st pick is wrong: $P =1-\\frac{1}{3} = \\frac{2}{3}$\n",
    "\n",
    "Regarding the first 2 points, switching is better because there's more probability of being wrong in the first pick.\n",
    "\n",
    "For the 3rd point, a tree is drawn showing the branches of picking door 1 first:"
   ]
  },
  {
   "cell_type": "code",
   "execution_count": 19,
   "metadata": {},
   "outputs": [
    {
     "data": {
      "text/html": [
       "        <script type=\"text/javascript\">\n",
       "        window.PlotlyConfig = {MathJaxConfig: 'local'};\n",
       "        if (window.MathJax) {MathJax.Hub.Config({SVG: {font: \"STIX-Web\"}});}\n",
       "        if (typeof require !== 'undefined') {\n",
       "        require.undef(\"plotly\");\n",
       "        requirejs.config({\n",
       "            paths: {\n",
       "                'plotly': ['https://cdn.plot.ly/plotly-latest.min']\n",
       "            }\n",
       "        });\n",
       "        require(['plotly'], function(Plotly) {\n",
       "            window._Plotly = Plotly;\n",
       "        });\n",
       "        }\n",
       "        </script>\n",
       "        "
      ]
     },
     "metadata": {},
     "output_type": "display_data"
    },
    {
     "data": {
      "application/vnd.plotly.v1+json": {
       "config": {
        "linkText": "Export to plot.ly",
        "plotlyServerURL": "https://plot.ly",
        "showLink": false
       },
       "data": [
        {
         "marker": {
          "color": [],
          "showscale": false,
          "size": 0
         },
         "mode": "text",
         "text": [],
         "type": "scatter",
         "uid": "57043086-d0cb-4221-99a7-2019f4d44c23",
         "x": [],
         "y": []
        },
        {
         "line": {
          "color": "#777",
          "width": 0.9
         },
         "mode": "lines",
         "text": [],
         "type": "scatter",
         "uid": "55cf3c15-457a-45bd-82a9-142c900c31c2",
         "x": [
          0,
          0.08,
          null,
          0,
          0.08,
          null,
          0,
          0.08,
          null,
          0.08,
          0.16,
          null,
          0.08,
          0.16,
          null,
          0.08,
          0.16,
          null,
          0.08,
          0.16,
          null
         ],
         "y": [
          0.5,
          0.6666666666666667,
          null,
          0.5,
          0.5000000000000001,
          null,
          0.5,
          0.3333333333333335,
          null,
          0.6666666666666667,
          0.7083333333333334,
          null,
          0.6666666666666667,
          0.625,
          null,
          0.5000000000000001,
          0.5000000000000002,
          null,
          0.3333333333333335,
          0.3333333333333335,
          null
         ]
        },
        {
         "marker": {
          "color": [
           "white",
           "white",
           "white",
           "white",
           "white",
           "white",
           "white",
           "white"
          ],
          "showscale": false,
          "size": 70,
          "symbol": "diamond-wide"
         },
         "mode": "markers+text",
         "name": "Nodes",
         "showlegend": false,
         "text": [
          "Door 1",
          "Prize in 1",
          "Prize in 2",
          "Prize in 3",
          "Open 2",
          "Open 3",
          "Open 3_",
          "Open 2_"
         ],
         "textfont": {
          "size": 12
         },
         "type": "scatter",
         "uid": "de05f60d-1f27-4121-9f2a-ae1a50e5ac06",
         "x": [
          0,
          0.08,
          0.08,
          0.08,
          0.16,
          0.16,
          0.16,
          0.16
         ],
         "y": [
          0.5,
          0.6666666666666667,
          0.5000000000000001,
          0.3333333333333335,
          0.7083333333333334,
          0.625,
          0.5000000000000002,
          0.3333333333333335
         ]
        }
       ],
       "layout": {
        "annotations": [
         {
          "align": "center",
          "arrowsize": 1,
          "arrowwidth": 1,
          "ax": 3,
          "ay": -5,
          "borderpad": 1,
          "font": {
           "color": "#333",
           "size": 11
          },
          "showarrow": true,
          "text": "$\\frac{1}{3}$",
          "x": 0.04,
          "xref": "x",
          "y": 0.5833333333333334,
          "yref": "y"
         },
         {
          "align": "center",
          "arrowsize": 1,
          "arrowwidth": 1,
          "ax": 3,
          "ay": -5,
          "borderpad": 1,
          "font": {
           "color": "#333",
           "size": 11
          },
          "showarrow": true,
          "text": "$\\frac{1}{3}$",
          "x": 0.04,
          "xref": "x",
          "y": 0.5,
          "yref": "y"
         },
         {
          "align": "center",
          "arrowsize": 1,
          "arrowwidth": 1,
          "ax": 3,
          "ay": -5,
          "borderpad": 1,
          "font": {
           "color": "#333",
           "size": 11
          },
          "showarrow": true,
          "text": "$\\frac{1}{3}$",
          "x": 0.04,
          "xref": "x",
          "y": 0.41666666666666674,
          "yref": "y"
         },
         {
          "align": "center",
          "arrowsize": 1,
          "arrowwidth": 1,
          "ax": 3,
          "ay": -5,
          "borderpad": 1,
          "font": {
           "color": "#333",
           "size": 11
          },
          "showarrow": true,
          "text": "$p$",
          "x": 0.12,
          "xref": "x",
          "y": 0.6875,
          "yref": "y"
         },
         {
          "align": "center",
          "arrowsize": 1,
          "arrowwidth": 1,
          "ax": 3,
          "ay": -5,
          "borderpad": 1,
          "font": {
           "color": "#333",
           "size": 11
          },
          "showarrow": true,
          "text": "$1-p$",
          "x": 0.12,
          "xref": "x",
          "y": 0.6458333333333334,
          "yref": "y"
         },
         {
          "align": "center",
          "arrowsize": 1,
          "arrowwidth": 1,
          "ax": 3,
          "ay": -5,
          "borderpad": 1,
          "font": {
           "color": "#333",
           "size": 11
          },
          "showarrow": true,
          "text": "$1$",
          "x": 0.12,
          "xref": "x",
          "y": 0.5000000000000002,
          "yref": "y"
         },
         {
          "align": "center",
          "arrowsize": 1,
          "arrowwidth": 1,
          "ax": 3,
          "ay": -5,
          "borderpad": 1,
          "font": {
           "color": "#333",
           "size": 11
          },
          "showarrow": true,
          "text": "$1$",
          "x": 0.12,
          "xref": "x",
          "y": 0.3333333333333335,
          "yref": "y"
         }
        ],
        "autosize": true,
        "height": 300,
        "hovermode": "closest",
        "margin": {
         "b": 0,
         "l": 0,
         "r": 0,
         "t": 30
        },
        "showlegend": false,
        "title": {
         "font": {
          "size": 16
         },
         "text": "3rd Strategy for Monty Hall",
         "x": 0.15
        },
        "width": 1200,
        "xaxis": {
         "range": [
          -0.01,
          0.61
         ],
         "showgrid": false,
         "showticklabels": false,
         "zeroline": false
        },
        "yaxis": {
         "range": [
          0.23333333333333348,
          0.8083333333333333
         ],
         "showgrid": false,
         "showticklabels": false,
         "zeroline": false
        }
       }
      },
      "text/html": [
       "<div>\n",
       "        \n",
       "        \n",
       "            <div id=\"9dba31bb-36e6-40ab-90e3-f85b53f9c8d6\" class=\"plotly-graph-div\" style=\"height:300px; width:1200px;\"></div>\n",
       "            <script type=\"text/javascript\">\n",
       "                require([\"plotly\"], function(Plotly) {\n",
       "                    window.PLOTLYENV=window.PLOTLYENV || {};\n",
       "                    window.PLOTLYENV.BASE_URL='https://plot.ly';\n",
       "                    \n",
       "                if (document.getElementById(\"9dba31bb-36e6-40ab-90e3-f85b53f9c8d6\")) {\n",
       "                    Plotly.newPlot(\n",
       "                        '9dba31bb-36e6-40ab-90e3-f85b53f9c8d6',\n",
       "                        [{\"marker\": {\"color\": [], \"showscale\": false, \"size\": 0}, \"mode\": \"text\", \"text\": [], \"type\": \"scatter\", \"uid\": \"57043086-d0cb-4221-99a7-2019f4d44c23\", \"x\": [], \"y\": []}, {\"line\": {\"color\": \"#777\", \"width\": 0.9}, \"mode\": \"lines\", \"text\": [], \"type\": \"scatter\", \"uid\": \"55cf3c15-457a-45bd-82a9-142c900c31c2\", \"x\": [0, 0.08, null, 0, 0.08, null, 0, 0.08, null, 0.08, 0.16, null, 0.08, 0.16, null, 0.08, 0.16, null, 0.08, 0.16, null], \"y\": [0.5, 0.6666666666666667, null, 0.5, 0.5000000000000001, null, 0.5, 0.3333333333333335, null, 0.6666666666666667, 0.7083333333333334, null, 0.6666666666666667, 0.625, null, 0.5000000000000001, 0.5000000000000002, null, 0.3333333333333335, 0.3333333333333335, null]}, {\"marker\": {\"color\": [\"white\", \"white\", \"white\", \"white\", \"white\", \"white\", \"white\", \"white\"], \"showscale\": false, \"size\": 70, \"symbol\": \"diamond-wide\"}, \"mode\": \"markers+text\", \"name\": \"Nodes\", \"showlegend\": false, \"text\": [\"Door 1\", \"Prize in 1\", \"Prize in 2\", \"Prize in 3\", \"Open 2\", \"Open 3\", \"Open 3_\", \"Open 2_\"], \"textfont\": {\"size\": 12}, \"type\": \"scatter\", \"uid\": \"de05f60d-1f27-4121-9f2a-ae1a50e5ac06\", \"x\": [0, 0.08, 0.08, 0.08, 0.16, 0.16, 0.16, 0.16], \"y\": [0.5, 0.6666666666666667, 0.5000000000000001, 0.3333333333333335, 0.7083333333333334, 0.625, 0.5000000000000002, 0.3333333333333335]}],\n",
       "                        {\"annotations\": [{\"align\": \"center\", \"arrowsize\": 1, \"arrowwidth\": 1, \"ax\": 3, \"ay\": -5, \"borderpad\": 1, \"font\": {\"color\": \"#333\", \"size\": 11}, \"showarrow\": true, \"text\": \"$\\\\frac{1}{3}$\", \"x\": 0.04, \"xref\": \"x\", \"y\": 0.5833333333333334, \"yref\": \"y\"}, {\"align\": \"center\", \"arrowsize\": 1, \"arrowwidth\": 1, \"ax\": 3, \"ay\": -5, \"borderpad\": 1, \"font\": {\"color\": \"#333\", \"size\": 11}, \"showarrow\": true, \"text\": \"$\\\\frac{1}{3}$\", \"x\": 0.04, \"xref\": \"x\", \"y\": 0.5, \"yref\": \"y\"}, {\"align\": \"center\", \"arrowsize\": 1, \"arrowwidth\": 1, \"ax\": 3, \"ay\": -5, \"borderpad\": 1, \"font\": {\"color\": \"#333\", \"size\": 11}, \"showarrow\": true, \"text\": \"$\\\\frac{1}{3}$\", \"x\": 0.04, \"xref\": \"x\", \"y\": 0.41666666666666674, \"yref\": \"y\"}, {\"align\": \"center\", \"arrowsize\": 1, \"arrowwidth\": 1, \"ax\": 3, \"ay\": -5, \"borderpad\": 1, \"font\": {\"color\": \"#333\", \"size\": 11}, \"showarrow\": true, \"text\": \"$p$\", \"x\": 0.12, \"xref\": \"x\", \"y\": 0.6875, \"yref\": \"y\"}, {\"align\": \"center\", \"arrowsize\": 1, \"arrowwidth\": 1, \"ax\": 3, \"ay\": -5, \"borderpad\": 1, \"font\": {\"color\": \"#333\", \"size\": 11}, \"showarrow\": true, \"text\": \"$1-p$\", \"x\": 0.12, \"xref\": \"x\", \"y\": 0.6458333333333334, \"yref\": \"y\"}, {\"align\": \"center\", \"arrowsize\": 1, \"arrowwidth\": 1, \"ax\": 3, \"ay\": -5, \"borderpad\": 1, \"font\": {\"color\": \"#333\", \"size\": 11}, \"showarrow\": true, \"text\": \"$1$\", \"x\": 0.12, \"xref\": \"x\", \"y\": 0.5000000000000002, \"yref\": \"y\"}, {\"align\": \"center\", \"arrowsize\": 1, \"arrowwidth\": 1, \"ax\": 3, \"ay\": -5, \"borderpad\": 1, \"font\": {\"color\": \"#333\", \"size\": 11}, \"showarrow\": true, \"text\": \"$1$\", \"x\": 0.12, \"xref\": \"x\", \"y\": 0.3333333333333335, \"yref\": \"y\"}], \"autosize\": true, \"height\": 300, \"hovermode\": \"closest\", \"margin\": {\"b\": 0, \"l\": 0, \"r\": 0, \"t\": 30}, \"showlegend\": false, \"title\": {\"font\": {\"size\": 16}, \"text\": \"3rd Strategy for Monty Hall\", \"x\": 0.15}, \"width\": 1200, \"xaxis\": {\"range\": [-0.01, 0.61], \"showgrid\": false, \"showticklabels\": false, \"zeroline\": false}, \"yaxis\": {\"range\": [0.23333333333333348, 0.8083333333333333], \"showgrid\": false, \"showticklabels\": false, \"zeroline\": false}},\n",
       "                        {\"showLink\": false, \"linkText\": \"Export to plot.ly\", \"plotlyServerURL\": \"https://plot.ly\", \"responsive\": true}\n",
       "                    ).then(function(){\n",
       "                            \n",
       "var gd = document.getElementById('9dba31bb-36e6-40ab-90e3-f85b53f9c8d6');\n",
       "var x = new MutationObserver(function (mutations, observer) {{\n",
       "        var display = window.getComputedStyle(gd).display;\n",
       "        if (!display || display === 'none') {{\n",
       "            console.log([gd, 'removed!']);\n",
       "            Plotly.purge(gd);\n",
       "            observer.disconnect();\n",
       "        }}\n",
       "}});\n",
       "\n",
       "// Listen for the removal of the full notebook cells\n",
       "var notebookContainer = gd.closest('#notebook-container');\n",
       "if (notebookContainer) {{\n",
       "    x.observe(notebookContainer, {childList: true});\n",
       "}}\n",
       "\n",
       "// Listen for the clearing of the current output cell\n",
       "var outputEl = gd.closest('.output');\n",
       "if (outputEl) {{\n",
       "    x.observe(outputEl, {childList: true});\n",
       "}}\n",
       "\n",
       "                        })\n",
       "                };\n",
       "                });\n",
       "            </script>\n",
       "        </div>"
      ]
     },
     "metadata": {},
     "output_type": "display_data"
    },
    {
     "data": {
      "text/markdown": [
       "$p\\text{ is the probability of opening either door 2 or 3 in the first branch, a number between 0-1}\\\n",
       "\\\\\\text{If prize is in 1 and door 2 is opened you win with probability: }\\frac{1}{3}\\cdot p \\\n",
       "\\\\\\text{If prize is in 1 and door 3 is opened you loose with probability: }\\frac{1}{3}\\cdot (1-p) \\\n",
       "\\\\\\text{If prize is in 2 then door 3 is opend and you win with probability: }\\frac{1}{3}\\cdot 1 \\\n",
       "\\\\\\text{If prize is in 3 then door 2 is opened and you loose with probability: }\\frac{1}{3}\\cdot 1 \\\n",
       "\\\\\\text{Add the probabilities of winning: }(\\frac{1}{3}\\cdot p)+(\\frac{1}{3})\\\\\\text{if }p=0\\text{ , } \\\n",
       "P(win)=\\frac{1}{3}\\text{ , if }p=1\\text{ , }P(win)=\\frac{2}{3}$"
      ],
      "text/plain": [
       "<IPython.core.display.Markdown object>"
      ]
     },
     "metadata": {},
     "output_type": "display_data"
    }
   ],
   "source": [
    "#Create tree\n",
    "door_nodes = {0:('Door 1',[1,4,6]), 1:('Prize in 1',[2,3]), \n",
    "              2:('Open 2',None), 3:('Open 3',None), 4:('Prize in 2',[5]),\n",
    "              5:('Open 3_',None), 6:('Prize in 3',[7]), 7:('Open 2_',None)}#Underscore= node names can't be repeated\n",
    "\n",
    "door_edges_labls = {'01':r'$\\frac{1}{3}$','04':r'$\\frac{1}{3}$','06':r'$\\frac{1}{3}$','12':'$p$',\n",
    "                   '13':'$1-p$','45':'$1$','67':'$1$'}\n",
    "\n",
    "door_tree = TreeGraph(orientation='h',root=door_nodes[0][0],spread=0.5,gap=0.08,\n",
    "              nodes=door_nodes,edge_weights=None,edge_labels=door_edges_labls)\n",
    "\n",
    "door_tree.generic_plotly_plot(\"3rd Strategy for Monty Hall\", \n",
    "                    title_pos=0.15, height=300, width=1200, legend=False)\n",
    "\n",
    "display_math(r\"p\\text{ is the probability of opening either door 2 or 3 in the first branch, a number between 0-1}\\\n",
    "\\\\\\text{If prize is in 1 and door 2 is opened you win with probability: }\\frac{1}{3}\\cdot p \\\n",
    "\\\\\\text{If prize is in 1 and door 3 is opened you loose with probability: }\\frac{1}{3}\\cdot (1-p) \\\n",
    "\\\\\\text{If prize is in 2 then door 3 is opend and you win with probability: }\\frac{1}{3}\\cdot 1 \\\n",
    "\\\\\\text{If prize is in 3 then door 2 is opened and you loose with probability: }\\frac{1}{3}\\cdot 1 \\\n",
    "\\\\\\text{Add the probabilities of winning: }(\\frac{1}{3}\\cdot p)+(\\frac{1}{3})\\\\\\text{if }p=0\\text{ , } \\\n",
    "P(win)=\\frac{1}{3}\\text{ , if }p=1\\text{ , }P(win)=\\frac{2}{3}\")"
   ]
  },
  {
   "cell_type": "markdown",
   "metadata": {},
   "source": [
    "### A random walker. \n",
    "\n",
    "Imagine a drunk tightrope walker, who manages to keep his balance, but takes a step forward with probability  p  and takes a step back with probability  (1−p) .\n",
    "\n",
    "(a) What is the probability that after two steps, the tightrope walker will be at the same place on the rope as where he started?\n",
    "\n",
    "(b) What is the probability that after three steps, the tightrope walker will be one step forward from where he started?\n",
    "\n",
    "(c) Given that after three steps he has managed to move ahead one step, what is the probability that the first step he took was a step forward?"
   ]
  },
  {
   "cell_type": "code",
   "execution_count": 20,
   "metadata": {},
   "outputs": [
    {
     "data": {
      "text/html": [
       "        <script type=\"text/javascript\">\n",
       "        window.PlotlyConfig = {MathJaxConfig: 'local'};\n",
       "        if (window.MathJax) {MathJax.Hub.Config({SVG: {font: \"STIX-Web\"}});}\n",
       "        if (typeof require !== 'undefined') {\n",
       "        require.undef(\"plotly\");\n",
       "        requirejs.config({\n",
       "            paths: {\n",
       "                'plotly': ['https://cdn.plot.ly/plotly-latest.min']\n",
       "            }\n",
       "        });\n",
       "        require(['plotly'], function(Plotly) {\n",
       "            window._Plotly = Plotly;\n",
       "        });\n",
       "        }\n",
       "        </script>\n",
       "        "
      ]
     },
     "metadata": {},
     "output_type": "display_data"
    },
    {
     "data": {
      "application/vnd.plotly.v1+json": {
       "config": {
        "linkText": "Export to plot.ly",
        "plotlyServerURL": "https://plot.ly",
        "showLink": false
       },
       "data": [
        {
         "marker": {
          "color": [],
          "showscale": false,
          "size": 0
         },
         "mode": "text",
         "text": [],
         "type": "scatter",
         "uid": "dba4e7c1-2f68-405a-b99a-df002d57878a",
         "x": [
          0
         ],
         "y": [
          0.5
         ]
        },
        {
         "line": {
          "color": "#777",
          "width": 0.9
         },
         "mode": "lines",
         "text": [],
         "type": "scatter",
         "uid": "d0533b05-a98c-4683-9e89-8a1a7d470a92",
         "x": [
          0,
          0.08,
          null,
          0,
          0.08,
          null,
          0.08,
          0.16,
          null,
          0.08,
          0.16,
          null,
          0.08,
          0.16,
          null,
          0.08,
          0.16,
          null,
          0.16,
          0.24,
          null,
          0.16,
          0.24,
          null,
          0.16,
          0.24,
          null,
          0.16,
          0.24,
          null,
          0.16,
          0.24,
          null,
          0.16,
          0.24,
          null,
          0.16,
          0.24,
          null,
          0.16,
          0.24,
          null
         ],
         "y": [
          0.5,
          0.625,
          null,
          0.5,
          0.375,
          null,
          0.625,
          0.6875,
          null,
          0.625,
          0.5625,
          null,
          0.375,
          0.4375,
          null,
          0.375,
          0.3125,
          null,
          0.6875,
          0.71875,
          null,
          0.6875,
          0.65625,
          null,
          0.5625,
          0.59375,
          null,
          0.5625,
          0.53125,
          null,
          0.4375,
          0.46875,
          null,
          0.4375,
          0.40625,
          null,
          0.3125,
          0.34375,
          null,
          0.3125,
          0.28125,
          null
         ]
        },
        {
         "marker": {
          "color": [
           "white",
           "white",
           "white",
           "white",
           "white",
           "white",
           "white",
           "white",
           "white",
           "white",
           "white",
           "white",
           "white",
           "white"
          ],
          "showscale": false,
          "size": 70,
          "symbol": "diamond-wide"
         },
         "mode": "markers+text",
         "name": "Nodes",
         "showlegend": false,
         "text": [
          "F",
          "B",
          "FF",
          "FB",
          "FFF",
          "FFB",
          "FBF",
          "FBB",
          "BF",
          "BB",
          "BFF",
          "BFB",
          "BBF",
          "BBB"
         ],
         "textfont": {
          "size": 12
         },
         "type": "scatter",
         "uid": "ddeea4f0-5c6a-4c82-8fc4-6f23e6612852",
         "x": [
          0.08,
          0.08,
          0.16,
          0.16,
          0.24,
          0.24,
          0.24,
          0.24,
          0.16,
          0.16,
          0.24,
          0.24,
          0.24,
          0.24
         ],
         "y": [
          0.625,
          0.375,
          0.6875,
          0.5625,
          0.71875,
          0.65625,
          0.59375,
          0.53125,
          0.4375,
          0.3125,
          0.46875,
          0.40625,
          0.34375,
          0.28125
         ]
        }
       ],
       "layout": {
        "annotations": [
         {
          "align": "center",
          "arrowsize": 1,
          "arrowwidth": 1,
          "ax": 3,
          "ay": -5,
          "borderpad": 1,
          "font": {
           "color": "#333",
           "size": 11
          },
          "showarrow": true,
          "text": "$p$",
          "x": 0.04,
          "xref": "x",
          "y": 0.5625,
          "yref": "y"
         },
         {
          "align": "center",
          "arrowsize": 1,
          "arrowwidth": 1,
          "ax": 3,
          "ay": -5,
          "borderpad": 1,
          "font": {
           "color": "#333",
           "size": 11
          },
          "showarrow": true,
          "text": "$1-p$",
          "x": 0.04,
          "xref": "x",
          "y": 0.4375,
          "yref": "y"
         },
         {
          "align": "center",
          "arrowsize": 1,
          "arrowwidth": 1,
          "ax": 3,
          "ay": -5,
          "borderpad": 1,
          "font": {
           "color": "#333",
           "size": 11
          },
          "showarrow": true,
          "text": "$p$",
          "x": 0.12,
          "xref": "x",
          "y": 0.65625,
          "yref": "y"
         },
         {
          "align": "center",
          "arrowsize": 1,
          "arrowwidth": 1,
          "ax": 3,
          "ay": -5,
          "borderpad": 1,
          "font": {
           "color": "#333",
           "size": 11
          },
          "showarrow": true,
          "text": "$1-p$",
          "x": 0.12,
          "xref": "x",
          "y": 0.59375,
          "yref": "y"
         },
         {
          "align": "center",
          "arrowsize": 1,
          "arrowwidth": 1,
          "ax": 3,
          "ay": -5,
          "borderpad": 1,
          "font": {
           "color": "#333",
           "size": 11
          },
          "showarrow": true,
          "text": "$p$",
          "x": 0.12,
          "xref": "x",
          "y": 0.40625,
          "yref": "y"
         },
         {
          "align": "center",
          "arrowsize": 1,
          "arrowwidth": 1,
          "ax": 3,
          "ay": -5,
          "borderpad": 1,
          "font": {
           "color": "#333",
           "size": 11
          },
          "showarrow": true,
          "text": "$1-p$",
          "x": 0.12,
          "xref": "x",
          "y": 0.34375,
          "yref": "y"
         },
         {
          "align": "center",
          "arrowsize": 1,
          "arrowwidth": 1,
          "ax": 3,
          "ay": -5,
          "borderpad": 1,
          "font": {
           "color": "#333",
           "size": 11
          },
          "showarrow": true,
          "text": "$p$",
          "x": 0.2,
          "xref": "x",
          "y": 0.703125,
          "yref": "y"
         },
         {
          "align": "center",
          "arrowsize": 1,
          "arrowwidth": 1,
          "ax": 3,
          "ay": -5,
          "borderpad": 1,
          "font": {
           "color": "#333",
           "size": 11
          },
          "showarrow": true,
          "text": "$1-p$",
          "x": 0.2,
          "xref": "x",
          "y": 0.671875,
          "yref": "y"
         },
         {
          "align": "center",
          "arrowsize": 1,
          "arrowwidth": 1,
          "ax": 3,
          "ay": -5,
          "borderpad": 1,
          "font": {
           "color": "#333",
           "size": 11
          },
          "showarrow": true,
          "text": "$p$",
          "x": 0.2,
          "xref": "x",
          "y": 0.578125,
          "yref": "y"
         },
         {
          "align": "center",
          "arrowsize": 1,
          "arrowwidth": 1,
          "ax": 3,
          "ay": -5,
          "borderpad": 1,
          "font": {
           "color": "#333",
           "size": 11
          },
          "showarrow": true,
          "text": "$1-p$",
          "x": 0.2,
          "xref": "x",
          "y": 0.546875,
          "yref": "y"
         },
         {
          "align": "center",
          "arrowsize": 1,
          "arrowwidth": 1,
          "ax": 3,
          "ay": -5,
          "borderpad": 1,
          "font": {
           "color": "#333",
           "size": 11
          },
          "showarrow": true,
          "text": "$p$",
          "x": 0.2,
          "xref": "x",
          "y": 0.453125,
          "yref": "y"
         },
         {
          "align": "center",
          "arrowsize": 1,
          "arrowwidth": 1,
          "ax": 3,
          "ay": -5,
          "borderpad": 1,
          "font": {
           "color": "#333",
           "size": 11
          },
          "showarrow": true,
          "text": "$1-p$",
          "x": 0.2,
          "xref": "x",
          "y": 0.421875,
          "yref": "y"
         },
         {
          "align": "center",
          "arrowsize": 1,
          "arrowwidth": 1,
          "ax": 3,
          "ay": -5,
          "borderpad": 1,
          "font": {
           "color": "#333",
           "size": 11
          },
          "showarrow": true,
          "text": "$p$",
          "x": 0.2,
          "xref": "x",
          "y": 0.328125,
          "yref": "y"
         },
         {
          "align": "center",
          "arrowsize": 1,
          "arrowwidth": 1,
          "ax": 3,
          "ay": -5,
          "borderpad": 1,
          "font": {
           "color": "#333",
           "size": 11
          },
          "showarrow": true,
          "text": "$1-p$",
          "x": 0.2,
          "xref": "x",
          "y": 0.296875,
          "yref": "y"
         }
        ],
        "autosize": true,
        "height": 300,
        "hovermode": "closest",
        "margin": {
         "b": 0,
         "l": 0,
         "r": 0,
         "t": 30
        },
        "showlegend": false,
        "title": {
         "font": {
          "size": 16
         },
         "text": "Random Walker",
         "x": 0.15
        },
        "width": 800,
        "xaxis": {
         "range": [
          -0.01,
          0.69
         ],
         "showgrid": false,
         "showticklabels": false,
         "zeroline": false
        },
        "yaxis": {
         "range": [
          0.18125,
          0.81875
         ],
         "showgrid": false,
         "showticklabels": false,
         "zeroline": false
        }
       }
      },
      "text/html": [
       "<div>\n",
       "        \n",
       "        \n",
       "            <div id=\"b2f5aaf9-4d65-44ea-9c29-7e95b1340cca\" class=\"plotly-graph-div\" style=\"height:300px; width:800px;\"></div>\n",
       "            <script type=\"text/javascript\">\n",
       "                require([\"plotly\"], function(Plotly) {\n",
       "                    window.PLOTLYENV=window.PLOTLYENV || {};\n",
       "                    window.PLOTLYENV.BASE_URL='https://plot.ly';\n",
       "                    \n",
       "                if (document.getElementById(\"b2f5aaf9-4d65-44ea-9c29-7e95b1340cca\")) {\n",
       "                    Plotly.newPlot(\n",
       "                        'b2f5aaf9-4d65-44ea-9c29-7e95b1340cca',\n",
       "                        [{\"marker\": {\"color\": [], \"showscale\": false, \"size\": 0}, \"mode\": \"text\", \"text\": [], \"type\": \"scatter\", \"uid\": \"dba4e7c1-2f68-405a-b99a-df002d57878a\", \"x\": [0], \"y\": [0.5]}, {\"line\": {\"color\": \"#777\", \"width\": 0.9}, \"mode\": \"lines\", \"text\": [], \"type\": \"scatter\", \"uid\": \"d0533b05-a98c-4683-9e89-8a1a7d470a92\", \"x\": [0, 0.08, null, 0, 0.08, null, 0.08, 0.16, null, 0.08, 0.16, null, 0.08, 0.16, null, 0.08, 0.16, null, 0.16, 0.24, null, 0.16, 0.24, null, 0.16, 0.24, null, 0.16, 0.24, null, 0.16, 0.24, null, 0.16, 0.24, null, 0.16, 0.24, null, 0.16, 0.24, null], \"y\": [0.5, 0.625, null, 0.5, 0.375, null, 0.625, 0.6875, null, 0.625, 0.5625, null, 0.375, 0.4375, null, 0.375, 0.3125, null, 0.6875, 0.71875, null, 0.6875, 0.65625, null, 0.5625, 0.59375, null, 0.5625, 0.53125, null, 0.4375, 0.46875, null, 0.4375, 0.40625, null, 0.3125, 0.34375, null, 0.3125, 0.28125, null]}, {\"marker\": {\"color\": [\"white\", \"white\", \"white\", \"white\", \"white\", \"white\", \"white\", \"white\", \"white\", \"white\", \"white\", \"white\", \"white\", \"white\"], \"showscale\": false, \"size\": 70, \"symbol\": \"diamond-wide\"}, \"mode\": \"markers+text\", \"name\": \"Nodes\", \"showlegend\": false, \"text\": [\"F\", \"B\", \"FF\", \"FB\", \"FFF\", \"FFB\", \"FBF\", \"FBB\", \"BF\", \"BB\", \"BFF\", \"BFB\", \"BBF\", \"BBB\"], \"textfont\": {\"size\": 12}, \"type\": \"scatter\", \"uid\": \"ddeea4f0-5c6a-4c82-8fc4-6f23e6612852\", \"x\": [0.08, 0.08, 0.16, 0.16, 0.24, 0.24, 0.24, 0.24, 0.16, 0.16, 0.24, 0.24, 0.24, 0.24], \"y\": [0.625, 0.375, 0.6875, 0.5625, 0.71875, 0.65625, 0.59375, 0.53125, 0.4375, 0.3125, 0.46875, 0.40625, 0.34375, 0.28125]}],\n",
       "                        {\"annotations\": [{\"align\": \"center\", \"arrowsize\": 1, \"arrowwidth\": 1, \"ax\": 3, \"ay\": -5, \"borderpad\": 1, \"font\": {\"color\": \"#333\", \"size\": 11}, \"showarrow\": true, \"text\": \"$p$\", \"x\": 0.04, \"xref\": \"x\", \"y\": 0.5625, \"yref\": \"y\"}, {\"align\": \"center\", \"arrowsize\": 1, \"arrowwidth\": 1, \"ax\": 3, \"ay\": -5, \"borderpad\": 1, \"font\": {\"color\": \"#333\", \"size\": 11}, \"showarrow\": true, \"text\": \"$1-p$\", \"x\": 0.04, \"xref\": \"x\", \"y\": 0.4375, \"yref\": \"y\"}, {\"align\": \"center\", \"arrowsize\": 1, \"arrowwidth\": 1, \"ax\": 3, \"ay\": -5, \"borderpad\": 1, \"font\": {\"color\": \"#333\", \"size\": 11}, \"showarrow\": true, \"text\": \"$p$\", \"x\": 0.12, \"xref\": \"x\", \"y\": 0.65625, \"yref\": \"y\"}, {\"align\": \"center\", \"arrowsize\": 1, \"arrowwidth\": 1, \"ax\": 3, \"ay\": -5, \"borderpad\": 1, \"font\": {\"color\": \"#333\", \"size\": 11}, \"showarrow\": true, \"text\": \"$1-p$\", \"x\": 0.12, \"xref\": \"x\", \"y\": 0.59375, \"yref\": \"y\"}, {\"align\": \"center\", \"arrowsize\": 1, \"arrowwidth\": 1, \"ax\": 3, \"ay\": -5, \"borderpad\": 1, \"font\": {\"color\": \"#333\", \"size\": 11}, \"showarrow\": true, \"text\": \"$p$\", \"x\": 0.12, \"xref\": \"x\", \"y\": 0.40625, \"yref\": \"y\"}, {\"align\": \"center\", \"arrowsize\": 1, \"arrowwidth\": 1, \"ax\": 3, \"ay\": -5, \"borderpad\": 1, \"font\": {\"color\": \"#333\", \"size\": 11}, \"showarrow\": true, \"text\": \"$1-p$\", \"x\": 0.12, \"xref\": \"x\", \"y\": 0.34375, \"yref\": \"y\"}, {\"align\": \"center\", \"arrowsize\": 1, \"arrowwidth\": 1, \"ax\": 3, \"ay\": -5, \"borderpad\": 1, \"font\": {\"color\": \"#333\", \"size\": 11}, \"showarrow\": true, \"text\": \"$p$\", \"x\": 0.2, \"xref\": \"x\", \"y\": 0.703125, \"yref\": \"y\"}, {\"align\": \"center\", \"arrowsize\": 1, \"arrowwidth\": 1, \"ax\": 3, \"ay\": -5, \"borderpad\": 1, \"font\": {\"color\": \"#333\", \"size\": 11}, \"showarrow\": true, \"text\": \"$1-p$\", \"x\": 0.2, \"xref\": \"x\", \"y\": 0.671875, \"yref\": \"y\"}, {\"align\": \"center\", \"arrowsize\": 1, \"arrowwidth\": 1, \"ax\": 3, \"ay\": -5, \"borderpad\": 1, \"font\": {\"color\": \"#333\", \"size\": 11}, \"showarrow\": true, \"text\": \"$p$\", \"x\": 0.2, \"xref\": \"x\", \"y\": 0.578125, \"yref\": \"y\"}, {\"align\": \"center\", \"arrowsize\": 1, \"arrowwidth\": 1, \"ax\": 3, \"ay\": -5, \"borderpad\": 1, \"font\": {\"color\": \"#333\", \"size\": 11}, \"showarrow\": true, \"text\": \"$1-p$\", \"x\": 0.2, \"xref\": \"x\", \"y\": 0.546875, \"yref\": \"y\"}, {\"align\": \"center\", \"arrowsize\": 1, \"arrowwidth\": 1, \"ax\": 3, \"ay\": -5, \"borderpad\": 1, \"font\": {\"color\": \"#333\", \"size\": 11}, \"showarrow\": true, \"text\": \"$p$\", \"x\": 0.2, \"xref\": \"x\", \"y\": 0.453125, \"yref\": \"y\"}, {\"align\": \"center\", \"arrowsize\": 1, \"arrowwidth\": 1, \"ax\": 3, \"ay\": -5, \"borderpad\": 1, \"font\": {\"color\": \"#333\", \"size\": 11}, \"showarrow\": true, \"text\": \"$1-p$\", \"x\": 0.2, \"xref\": \"x\", \"y\": 0.421875, \"yref\": \"y\"}, {\"align\": \"center\", \"arrowsize\": 1, \"arrowwidth\": 1, \"ax\": 3, \"ay\": -5, \"borderpad\": 1, \"font\": {\"color\": \"#333\", \"size\": 11}, \"showarrow\": true, \"text\": \"$p$\", \"x\": 0.2, \"xref\": \"x\", \"y\": 0.328125, \"yref\": \"y\"}, {\"align\": \"center\", \"arrowsize\": 1, \"arrowwidth\": 1, \"ax\": 3, \"ay\": -5, \"borderpad\": 1, \"font\": {\"color\": \"#333\", \"size\": 11}, \"showarrow\": true, \"text\": \"$1-p$\", \"x\": 0.2, \"xref\": \"x\", \"y\": 0.296875, \"yref\": \"y\"}], \"autosize\": true, \"height\": 300, \"hovermode\": \"closest\", \"margin\": {\"b\": 0, \"l\": 0, \"r\": 0, \"t\": 30}, \"showlegend\": false, \"title\": {\"font\": {\"size\": 16}, \"text\": \"Random Walker\", \"x\": 0.15}, \"width\": 800, \"xaxis\": {\"range\": [-0.01, 0.69], \"showgrid\": false, \"showticklabels\": false, \"zeroline\": false}, \"yaxis\": {\"range\": [0.18125, 0.81875], \"showgrid\": false, \"showticklabels\": false, \"zeroline\": false}},\n",
       "                        {\"showLink\": false, \"linkText\": \"Export to plot.ly\", \"plotlyServerURL\": \"https://plot.ly\", \"responsive\": true}\n",
       "                    ).then(function(){\n",
       "                            \n",
       "var gd = document.getElementById('b2f5aaf9-4d65-44ea-9c29-7e95b1340cca');\n",
       "var x = new MutationObserver(function (mutations, observer) {{\n",
       "        var display = window.getComputedStyle(gd).display;\n",
       "        if (!display || display === 'none') {{\n",
       "            console.log([gd, 'removed!']);\n",
       "            Plotly.purge(gd);\n",
       "            observer.disconnect();\n",
       "        }}\n",
       "}});\n",
       "\n",
       "// Listen for the removal of the full notebook cells\n",
       "var notebookContainer = gd.closest('#notebook-container');\n",
       "if (notebookContainer) {{\n",
       "    x.observe(notebookContainer, {childList: true});\n",
       "}}\n",
       "\n",
       "// Listen for the clearing of the current output cell\n",
       "var outputEl = gd.closest('.output');\n",
       "if (outputEl) {{\n",
       "    x.observe(outputEl, {childList: true});\n",
       "}}\n",
       "\n",
       "                        })\n",
       "                };\n",
       "                });\n",
       "            </script>\n",
       "        </div>"
      ]
     },
     "metadata": {},
     "output_type": "display_data"
    },
    {
     "data": {
      "text/markdown": [
       "$\\text{(a) }=FB+BF=(p\\cdot(1-p))+(p\\cdot(1-p))=2p(1-p)\\\\\\text{(b) }=FFB+FBF+BFF= \\\n",
       "(p^2\\cdot(1-p))+(p^2\\cdot(1-p))+ (p^2\\cdot(1-p))=3p^2(1-p)\\\\\\text{(c) }P(F_1|\\text{(b)})= \\\n",
       "\\frac{P(F_1\\cap (b))}{P\\text{(b)}}=F_1\\text{ is a subset of (b) }=\\frac{2p^2(1-p)}{3p^2(1-p)}=\\frac{2}{3}$"
      ],
      "text/plain": [
       "<IPython.core.display.Markdown object>"
      ]
     },
     "metadata": {},
     "output_type": "display_data"
    }
   ],
   "source": [
    "walker_node_child = [[1,8],[2,5],[3,4],None,None, [6,7],None,None,[9,12],[10,11],None,None,[13,14], None, None]\n",
    "\n",
    "walker_nodes = build_nodeDict('FB',repeat=3,children=walker_node_child)#use build_nodeDict() from Hierarchy_tree\n",
    "\n",
    "walker_edges_labls = {'01':'$p$','08':'$1-p$','12':'$p$','15':'$1-p$',\n",
    "                   '23':'$p$','24':'$1-p$','56':'$p$','57':'$1-p$','89':'$p$','812':'$1-p$',\n",
    "                   '910':'$p$','911':'$1-p$','1213':'$p$','1214':'$1-p$'}\n",
    "\n",
    "walker_tree = TreeGraph(orientation='h',root=walker_nodes[0][0],spread=0.5,gap=0.08,\n",
    "              nodes=walker_nodes,edge_weights=None,edge_labels=walker_edges_labls)\n",
    "\n",
    "walker_tree.generic_plotly_plot(\"Random Walker\", title_pos=0.15, height=300, width=800, legend=False)\n",
    "\n",
    "display_math(r\"\\text{(a) }=FB+BF=(p\\cdot(1-p))+(p\\cdot(1-p))=2p(1-p)\\\\\\text{(b) }=FFB+FBF+BFF= \\\n",
    "(p^2\\cdot(1-p))+(p^2\\cdot(1-p))+ (p^2\\cdot(1-p))=3p^2(1-p)\\\\\\text{(c) }P(F_1|\\text{(b)})= \\\n",
    "\\frac{P(F_1\\cap (b))}{P\\text{(b)}}=F_1\\text{ is a subset of (b) }=\\frac{2p^2(1-p)}{3p^2(1-p)}=\\frac{2}{3}\")"
   ]
  },
  {
   "cell_type": "markdown",
   "metadata": {},
   "source": [
    "### Communication over a noisy channel\n",
    "\n",
    "A source transmits a message (a string of symbols) over a noisy communication channel. Each symbol is  0  or  1  with probability  $p$  and  $1−p$ , respectively, and is received incorrectly with probability  $ϵ0$  and  $ϵ1$ , respectively (see the figure below). Errors in different symbol transmissions are independent.\n",
    "\n",
    "(a) What is the probability that the  $k$ th symbol is received correctly?\n",
    "\n",
    "(b) What is the probability that the string of symbols  1011  is received correctly? \n",
    "\n",
    "(c) In an effort to improve reliability, each symbol is transmitted three times and the received string is decoded by majority rule. In other words, a  0  (or  1 ) is transmitted as  000  (or  111 , respectively), and it is decoded at the receiver as a  0  (or  1 ) if and only if the received three-symbol string contains at least two  0 's (or  1 's, respectively). What is the probability that a  0  is correctly decoded?\n",
    "\n",
    "(d) For what values of  $ϵ0$  is there an improvement in the probability of correct decoding of a  0  when the scheme of part (c) is used? \n",
    "\n",
    "(e) Suppose that the scheme of part (c) is used. What is the probability that a symbol was  0  given that the received string is  101 ?"
   ]
  },
  {
   "cell_type": "code",
   "execution_count": 21,
   "metadata": {},
   "outputs": [
    {
     "data": {
      "image/png": "[encoded data removed]",
      "text/plain": [
       "<Figure size 432x288 with 1 Axes>"
      ]
     },
     "metadata": {},
     "output_type": "display_data"
    }
   ],
   "source": [
    "#Figure\n",
    "noisy_pos = {\"0\":(0.5,0.5),\"0'\":(1,0.5),\"1\":(0.5,0.4),\"1'\":(1,0.4)}\n",
    "noisy_edges = [(\"0\",\"0'\"),(\"0\",\"1'\"),(\"0'\",\"1\"),(\"1\",\"1'\")]\n",
    "noisy_c = nx.Graph()\n",
    "\n",
    "noisy_c.add_nodes_from(noisy_pos.keys())\n",
    "noisy_c.add_edges_from(noisy_edges)\n",
    "\n",
    "nx.draw(noisy_c,noisy_pos,node_size=500,node_color='k',with_labels=True,font_size=14,font_color='white')\n",
    "nx.draw_networkx_edge_labels(noisy_c,noisy_pos,edge_labels={(\"0\",\"0'\"):r'$1-ϵ_0$',(\"0\",\"1'\"):r'$ϵ_0$',\n",
    "                                                            (\"0'\",\"1\"):r'$ϵ_1$',(\"1\",\"1'\"):r'$1-ϵ1$'},\n",
    "                             label_pos=0.6,font_size=12)\n",
    "plt.show()"
   ]
  },
  {
   "cell_type": "code",
   "execution_count": 22,
   "metadata": {},
   "outputs": [
    {
     "data": {
      "text/html": [
       "        <script type=\"text/javascript\">\n",
       "        window.PlotlyConfig = {MathJaxConfig: 'local'};\n",
       "        if (window.MathJax) {MathJax.Hub.Config({SVG: {font: \"STIX-Web\"}});}\n",
       "        if (typeof require !== 'undefined') {\n",
       "        require.undef(\"plotly\");\n",
       "        requirejs.config({\n",
       "            paths: {\n",
       "                'plotly': ['https://cdn.plot.ly/plotly-latest.min']\n",
       "            }\n",
       "        });\n",
       "        require(['plotly'], function(Plotly) {\n",
       "            window._Plotly = Plotly;\n",
       "        });\n",
       "        }\n",
       "        </script>\n",
       "        "
      ]
     },
     "metadata": {},
     "output_type": "display_data"
    },
    {
     "data": {
      "application/vnd.plotly.v1+json": {
       "config": {
        "linkText": "Export to plot.ly",
        "plotlyServerURL": "https://plot.ly",
        "showLink": false
       },
       "data": [
        {
         "marker": {
          "color": [],
          "showscale": false,
          "size": 0
         },
         "mode": "text",
         "text": [],
         "type": "scatter",
         "uid": "736b6300-6451-4903-b720-5a480edb073e",
         "x": [
          0
         ],
         "y": [
          0.5
         ]
        },
        {
         "line": {
          "color": "#777",
          "width": 0.9
         },
         "mode": "lines",
         "text": [],
         "type": "scatter",
         "uid": "36a2f995-3fea-404f-8832-43c6c5515e1a",
         "x": [
          0,
          0.08,
          null,
          0,
          0.08,
          null,
          0.08,
          0.16,
          null,
          0.08,
          0.16,
          null,
          0.08,
          0.16,
          null,
          0.08,
          0.16,
          null
         ],
         "y": [
          0.5,
          0.625,
          null,
          0.5,
          0.375,
          null,
          0.625,
          0.6875,
          null,
          0.625,
          0.5625,
          null,
          0.375,
          0.4375,
          null,
          0.375,
          0.3125,
          null
         ]
        },
        {
         "marker": {
          "color": [
           "white",
           "white",
           "white",
           "white",
           "white",
           "white"
          ],
          "showscale": false,
          "size": 70,
          "symbol": "diamond-wide"
         },
         "mode": "markers+text",
         "name": "Nodes",
         "showlegend": false,
         "text": [
          "0",
          "1",
          "00",
          "01",
          "10",
          "11"
         ],
         "textfont": {
          "size": 12
         },
         "type": "scatter",
         "uid": "fb0c31e1-fd80-456d-b020-a6efb9c5b9fd",
         "x": [
          0.08,
          0.08,
          0.16,
          0.16,
          0.16,
          0.16
         ],
         "y": [
          0.625,
          0.375,
          0.6875,
          0.5625,
          0.4375,
          0.3125
         ]
        }
       ],
       "layout": {
        "annotations": [
         {
          "align": "center",
          "arrowsize": 1,
          "arrowwidth": 1,
          "ax": 3,
          "ay": -5,
          "borderpad": 1,
          "font": {
           "color": "#333",
           "size": 11
          },
          "showarrow": true,
          "text": "$p$",
          "x": 0.04,
          "xref": "x",
          "y": 0.5625,
          "yref": "y"
         },
         {
          "align": "center",
          "arrowsize": 1,
          "arrowwidth": 1,
          "ax": 3,
          "ay": -5,
          "borderpad": 1,
          "font": {
           "color": "#333",
           "size": 11
          },
          "showarrow": true,
          "text": "$1-p$",
          "x": 0.04,
          "xref": "x",
          "y": 0.4375,
          "yref": "y"
         },
         {
          "align": "center",
          "arrowsize": 1,
          "arrowwidth": 1,
          "ax": 3,
          "ay": -5,
          "borderpad": 1,
          "font": {
           "color": "#333",
           "size": 11
          },
          "showarrow": true,
          "text": "$1-\\epsilon_0$",
          "x": 0.12,
          "xref": "x",
          "y": 0.65625,
          "yref": "y"
         },
         {
          "align": "center",
          "arrowsize": 1,
          "arrowwidth": 1,
          "ax": 3,
          "ay": -5,
          "borderpad": 1,
          "font": {
           "color": "#333",
           "size": 11
          },
          "showarrow": true,
          "text": "$\\epsilon_0$",
          "x": 0.12,
          "xref": "x",
          "y": 0.59375,
          "yref": "y"
         },
         {
          "align": "center",
          "arrowsize": 1,
          "arrowwidth": 1,
          "ax": 3,
          "ay": -5,
          "borderpad": 1,
          "font": {
           "color": "#333",
           "size": 11
          },
          "showarrow": true,
          "text": "$\\epsilon_1$",
          "x": 0.12,
          "xref": "x",
          "y": 0.40625,
          "yref": "y"
         },
         {
          "align": "center",
          "arrowsize": 1,
          "arrowwidth": 1,
          "ax": 3,
          "ay": -5,
          "borderpad": 1,
          "font": {
           "color": "#333",
           "size": 11
          },
          "showarrow": true,
          "text": "$1-\\epsilon_1$",
          "x": 0.12,
          "xref": "x",
          "y": 0.34375,
          "yref": "y"
         }
        ],
        "autosize": true,
        "height": 300,
        "hovermode": "closest",
        "margin": {
         "b": 0,
         "l": 0,
         "r": 0,
         "t": 30
        },
        "showlegend": false,
        "title": {
         "font": {
          "size": 16
         },
         "text": "Noisy Channel",
         "x": 0.15
        },
        "width": 800,
        "xaxis": {
         "range": [
          -0.01,
          0.61
         ],
         "showgrid": false,
         "showticklabels": false,
         "zeroline": false
        },
        "yaxis": {
         "range": [
          0.2125,
          0.7875
         ],
         "showgrid": false,
         "showticklabels": false,
         "zeroline": false
        }
       }
      },
      "text/html": [
       "<div>\n",
       "        \n",
       "        \n",
       "            <div id=\"0229b054-cfba-4f2c-8a26-fe05fc989cb7\" class=\"plotly-graph-div\" style=\"height:300px; width:800px;\"></div>\n",
       "            <script type=\"text/javascript\">\n",
       "                require([\"plotly\"], function(Plotly) {\n",
       "                    window.PLOTLYENV=window.PLOTLYENV || {};\n",
       "                    window.PLOTLYENV.BASE_URL='https://plot.ly';\n",
       "                    \n",
       "                if (document.getElementById(\"0229b054-cfba-4f2c-8a26-fe05fc989cb7\")) {\n",
       "                    Plotly.newPlot(\n",
       "                        '0229b054-cfba-4f2c-8a26-fe05fc989cb7',\n",
       "                        [{\"marker\": {\"color\": [], \"showscale\": false, \"size\": 0}, \"mode\": \"text\", \"text\": [], \"type\": \"scatter\", \"uid\": \"736b6300-6451-4903-b720-5a480edb073e\", \"x\": [0], \"y\": [0.5]}, {\"line\": {\"color\": \"#777\", \"width\": 0.9}, \"mode\": \"lines\", \"text\": [], \"type\": \"scatter\", \"uid\": \"36a2f995-3fea-404f-8832-43c6c5515e1a\", \"x\": [0, 0.08, null, 0, 0.08, null, 0.08, 0.16, null, 0.08, 0.16, null, 0.08, 0.16, null, 0.08, 0.16, null], \"y\": [0.5, 0.625, null, 0.5, 0.375, null, 0.625, 0.6875, null, 0.625, 0.5625, null, 0.375, 0.4375, null, 0.375, 0.3125, null]}, {\"marker\": {\"color\": [\"white\", \"white\", \"white\", \"white\", \"white\", \"white\"], \"showscale\": false, \"size\": 70, \"symbol\": \"diamond-wide\"}, \"mode\": \"markers+text\", \"name\": \"Nodes\", \"showlegend\": false, \"text\": [\"0\", \"1\", \"00\", \"01\", \"10\", \"11\"], \"textfont\": {\"size\": 12}, \"type\": \"scatter\", \"uid\": \"fb0c31e1-fd80-456d-b020-a6efb9c5b9fd\", \"x\": [0.08, 0.08, 0.16, 0.16, 0.16, 0.16], \"y\": [0.625, 0.375, 0.6875, 0.5625, 0.4375, 0.3125]}],\n",
       "                        {\"annotations\": [{\"align\": \"center\", \"arrowsize\": 1, \"arrowwidth\": 1, \"ax\": 3, \"ay\": -5, \"borderpad\": 1, \"font\": {\"color\": \"#333\", \"size\": 11}, \"showarrow\": true, \"text\": \"$p$\", \"x\": 0.04, \"xref\": \"x\", \"y\": 0.5625, \"yref\": \"y\"}, {\"align\": \"center\", \"arrowsize\": 1, \"arrowwidth\": 1, \"ax\": 3, \"ay\": -5, \"borderpad\": 1, \"font\": {\"color\": \"#333\", \"size\": 11}, \"showarrow\": true, \"text\": \"$1-p$\", \"x\": 0.04, \"xref\": \"x\", \"y\": 0.4375, \"yref\": \"y\"}, {\"align\": \"center\", \"arrowsize\": 1, \"arrowwidth\": 1, \"ax\": 3, \"ay\": -5, \"borderpad\": 1, \"font\": {\"color\": \"#333\", \"size\": 11}, \"showarrow\": true, \"text\": \"$1-\\\\epsilon_0$\", \"x\": 0.12, \"xref\": \"x\", \"y\": 0.65625, \"yref\": \"y\"}, {\"align\": \"center\", \"arrowsize\": 1, \"arrowwidth\": 1, \"ax\": 3, \"ay\": -5, \"borderpad\": 1, \"font\": {\"color\": \"#333\", \"size\": 11}, \"showarrow\": true, \"text\": \"$\\\\epsilon_0$\", \"x\": 0.12, \"xref\": \"x\", \"y\": 0.59375, \"yref\": \"y\"}, {\"align\": \"center\", \"arrowsize\": 1, \"arrowwidth\": 1, \"ax\": 3, \"ay\": -5, \"borderpad\": 1, \"font\": {\"color\": \"#333\", \"size\": 11}, \"showarrow\": true, \"text\": \"$\\\\epsilon_1$\", \"x\": 0.12, \"xref\": \"x\", \"y\": 0.40625, \"yref\": \"y\"}, {\"align\": \"center\", \"arrowsize\": 1, \"arrowwidth\": 1, \"ax\": 3, \"ay\": -5, \"borderpad\": 1, \"font\": {\"color\": \"#333\", \"size\": 11}, \"showarrow\": true, \"text\": \"$1-\\\\epsilon_1$\", \"x\": 0.12, \"xref\": \"x\", \"y\": 0.34375, \"yref\": \"y\"}], \"autosize\": true, \"height\": 300, \"hovermode\": \"closest\", \"margin\": {\"b\": 0, \"l\": 0, \"r\": 0, \"t\": 30}, \"showlegend\": false, \"title\": {\"font\": {\"size\": 16}, \"text\": \"Noisy Channel\", \"x\": 0.15}, \"width\": 800, \"xaxis\": {\"range\": [-0.01, 0.61], \"showgrid\": false, \"showticklabels\": false, \"zeroline\": false}, \"yaxis\": {\"range\": [0.2125, 0.7875], \"showgrid\": false, \"showticklabels\": false, \"zeroline\": false}},\n",
       "                        {\"showLink\": false, \"linkText\": \"Export to plot.ly\", \"plotlyServerURL\": \"https://plot.ly\", \"responsive\": true}\n",
       "                    ).then(function(){\n",
       "                            \n",
       "var gd = document.getElementById('0229b054-cfba-4f2c-8a26-fe05fc989cb7');\n",
       "var x = new MutationObserver(function (mutations, observer) {{\n",
       "        var display = window.getComputedStyle(gd).display;\n",
       "        if (!display || display === 'none') {{\n",
       "            console.log([gd, 'removed!']);\n",
       "            Plotly.purge(gd);\n",
       "            observer.disconnect();\n",
       "        }}\n",
       "}});\n",
       "\n",
       "// Listen for the removal of the full notebook cells\n",
       "var notebookContainer = gd.closest('#notebook-container');\n",
       "if (notebookContainer) {{\n",
       "    x.observe(notebookContainer, {childList: true});\n",
       "}}\n",
       "\n",
       "// Listen for the clearing of the current output cell\n",
       "var outputEl = gd.closest('.output');\n",
       "if (outputEl) {{\n",
       "    x.observe(outputEl, {childList: true});\n",
       "}}\n",
       "\n",
       "                        })\n",
       "                };\n",
       "                });\n",
       "            </script>\n",
       "        </div>"
      ]
     },
     "metadata": {},
     "output_type": "display_data"
    },
    {
     "data": {
      "text/markdown": [
       "$\\text{(a) }=0\\cap0+1\\cap1=(p\\cdot(1-\\epsilon_0))+((1-p)\\cdot(1-\\epsilon_1)) \\\n",
       "=\\text{ apply Law of Total Probability = }P(0)P(1-\\epsilon_0|0) + P(1)P(1-\\epsilon_1|1) \\\n",
       "\\\\\\text{(b) } P(1101) = P(1\\cap1\\cap0\\cap1) = P(1)P(1)P(0)P(1) = (1-\\epsilon_1)(1-\\epsilon_1) \\\n",
       "(1-\\epsilon_0)(1-\\epsilon_1) = (1-\\epsilon_0)(1-\\epsilon_1)^3\\\\\\text{(c) Majority rule of 0s occurs in:} \\\n",
       "(0\\cdot0\\cdot0)+(0\\cdot0\\cdot1)+(0\\cdot1\\cdot0)+(1\\cdot0\\cdot0) = (1-\\epsilon_0)^3 + 3(1-\\epsilon_0)^2\\epsilon_0 \\\n",
       "\\\\\\text{(d) With (c) scheme:}P(success)=(1-\\epsilon_0)^3 + 3(1-\\epsilon_0)^2\\epsilon_0\\text{ without scheme:}\\\n",
       "P(success)=(1-\\epsilon_0)\\\\\\text{ therefore : } 3\\epsilon_0(1-\\epsilon_0)^2+(1-\\epsilon_0)^3 > \\\n",
       "(1-\\epsilon_0) \\text{ Solving the polynomial inequality : }\\frac{3ϵ_0(1-ϵ_0)^2+(1-ϵ_0)^3}{(1-ϵ_0)}>1 =\\\n",
       "(1-ϵ_0)(1+2ϵ_0)>1\\\\\\text{Finally, ϵ_0 has to be greater than 0 and less than 0.5 to improve probability: }0<ϵ_0<0.5\\\n",
       "\\\\\\text{(e)} P(0\\text{ sent}|101)=\\text{ Bayes' Rule = }\\frac{P(0)P(101|0\\text{ sent})}{(P(0)P(101|0\\text{ sent})) \\\n",
       "+(P(1)P(101|1\\text{ sent}))}\\text{ components : }P(0)=p, P(1)=(1-p), P(101|0)=(1-ϵ_0)ϵ_0^2,\\\\\\ P(101|1) \\\n",
       "=(1-ϵ_1)^2ϵ_1\\text{ Finally : }\\frac{p\\cdot(1-ϵ_0)ϵ_0^2}{(p\\cdot(1-ϵ_0)ϵ_0^2) + ((1-p)\\cdot(1-ϵ_1)^2ϵ_1)}$"
      ],
      "text/plain": [
       "<IPython.core.display.Markdown object>"
      ]
     },
     "metadata": {},
     "output_type": "display_data"
    }
   ],
   "source": [
    "channel_children = [[1,4],[2,3],None,None,[5,6],None,None]\n",
    "channel_nodes = build_nodeDict('01',repeat=2,children=channel_children)\n",
    "\n",
    "channel_edges_labls = {'01':'$p$','04':'$1-p$','12':'$1-\\epsilon_0$','13':'$\\epsilon_0$',\n",
    "                   '45':'$\\epsilon_1$','46':'$1-\\epsilon_1$'}\n",
    "\n",
    "channel_tree = TreeGraph(orientation='h',root=channel_nodes[0][0],spread=0.5,gap=0.08,\n",
    "              nodes=channel_nodes,edge_weights=None,edge_labels=channel_edges_labls)\n",
    "\n",
    "channel_tree.generic_plotly_plot(\"Noisy Channel\", title_pos=0.15, height=300, width=800, legend=False)\n",
    "\n",
    "\n",
    "display_math(r\"\\text{(a) }=0\\cap0+1\\cap1=(p\\cdot(1-\\epsilon_0))+((1-p)\\cdot(1-\\epsilon_1)) \\\n",
    "=\\text{ apply Law of Total Probability = }P(0)P(1-\\epsilon_0|0) + P(1)P(1-\\epsilon_1|1) \\\n",
    "\\\\\\text{(b) } P(1101) = P(1\\cap1\\cap0\\cap1) = P(1)P(1)P(0)P(1) = (1-\\epsilon_1)(1-\\epsilon_1) \\\n",
    "(1-\\epsilon_0)(1-\\epsilon_1) = (1-\\epsilon_0)(1-\\epsilon_1)^3\\\\\\text{(c) Majority rule of 0s occurs in:} \\\n",
    "(0\\cdot0\\cdot0)+(0\\cdot0\\cdot1)+(0\\cdot1\\cdot0)+(1\\cdot0\\cdot0) = (1-\\epsilon_0)^3 + 3(1-\\epsilon_0)^2\\epsilon_0 \\\n",
    "\\\\\\text{(d) With (c) scheme:}P(success)=(1-\\epsilon_0)^3 + 3(1-\\epsilon_0)^2\\epsilon_0\\text{ without scheme:}\\\n",
    "P(success)=(1-\\epsilon_0)\\\\\\text{ therefore : } 3\\epsilon_0(1-\\epsilon_0)^2+(1-\\epsilon_0)^3 > \\\n",
    "(1-\\epsilon_0) \\text{ Solving the polynomial inequality : }\\frac{3ϵ_0(1-ϵ_0)^2+(1-ϵ_0)^3}{(1-ϵ_0)}>1 =\\\n",
    "(1-ϵ_0)(1+2ϵ_0)>1\\\\\\text{Finally, ϵ_0 has to be greater than 0 and less than 0.5 to improve probability: }0<ϵ_0<0.5\\\n",
    "\\\\\\text{(e)} P(0\\text{ sent}|101)=\\text{ Bayes' Rule = }\\frac{P(0)P(101|0\\text{ sent})}{(P(0)P(101|0\\text{ sent})) \\\n",
    "+(P(1)P(101|1\\text{ sent}))}\\text{ components : }P(0)=p, P(1)=(1-p), P(101|0)=(1-ϵ_0)ϵ_0^2,\\\\\\ P(101|1) \\\n",
    "=(1-ϵ_1)^2ϵ_1\\text{ Finally : }\\frac{p\\cdot(1-ϵ_0)ϵ_0^2}{(p\\cdot(1-ϵ_0)ϵ_0^2) + ((1-p)\\cdot(1-ϵ_1)^2ϵ_1)}\")"
   ]
  },
  {
   "cell_type": "markdown",
   "metadata": {},
   "source": [
    "### Network reliability\n",
    "\n",
    "An electrical system consists of identical components, each of which is operational with probability  p , independent of other components. The components are connected in three subsystems, as shown in the figure. The system is operational if there is a path that starts at point  A , ends at point  B , and consists of operational components. What is the probability of this happening?"
   ]
  },
  {
   "cell_type": "code",
   "execution_count": 23,
   "metadata": {},
   "outputs": [],
   "source": [
    "system_elec_attr_list = [(0,'root',[1]),(1,'1',['empty 0'],'E'),('empty 0','empty 0',['empty 1','empty 13'],'E'),\n",
    "    ('empty 1','empty 1',['empty 2',5,'empty 11'],'E'),('empty 2','empty 2',[2],'N'),(2,'2',['empty 3'],'E'),\n",
    "    ('empty 3','empty 3',['empty 4'],'E'),('empty 4','empty 4',[3],'N'),(3,'3',['empty 5'],'E'),\n",
    "    ('empty 5','empty 5',['empty 6'],'E'),('empty 6','empty 6',['empty 7','empty 21'],'E'),\n",
    "    ('empty 7','empty 7',[4],'N'),(4,'4',['empty 8'],'E'),('empty 8','empty 8',['empty 9'],'E'),\n",
    "    ('empty 9','empty 9',['empty 10'],'S'),('empty 10','empty 10',None,'E'),(5,'5',['empty 4'],'E'),\n",
    "    ('empty 11','empty 11',[6],'S'),(6,'6',['empty 12'],'E'),('empty 12','empty 12',['empty 4'],'E'),\n",
    "    ('empty 13','empty 13',['empty 14'],'S'),('empty 14','empty 14',[7],'S'),(7,'7',['empty 15'],'E'),\n",
    "    ('empty 15','empty 15',['empty 16'],'E'),('empty 16','empty 16',['empty 17'],'E'),\n",
    "    ('empty 17','empty 17',['empty 18'],'E'),('empty 18','empty 18',['empty 19'],'E'),\n",
    "    ('empty 19','empty 19',['empty 20'],'N'),('empty 20','empty 20',['empty 5'],'N'),('empty 21','empty 21',[8],'S'),\n",
    "    (8,'8',['empty 22'],'E'),('empty 22','empty 22',['empty 23'],'E'),('empty 23','empty 23',['empty 24'],'N'),\n",
    "    ('empty 24','empty 24',['empty 9'],'N')]\n",
    "\n",
    "system_elec_nodes = {}\n",
    "system_elec_nodes[system_elec_attr_list[0][0]] = (system_elec_attr_list[0][1],system_elec_attr_list[0][2])\n",
    "for n in system_elec_attr_list[1:]:\n",
    "    system_elec_nodes[n[0]] = (n[1],n[2],n[3])"
   ]
  },
  {
   "cell_type": "code",
   "execution_count": 24,
   "metadata": {},
   "outputs": [
    {
     "data": {
      "image/png": "[encoded data removed]",
      "text/plain": [
       "<Figure size 432x288 with 1 Axes>"
      ]
     },
     "metadata": {},
     "output_type": "display_data"
    }
   ],
   "source": [
    "system_elec = SystemLayout(system_elec_nodes[0],(0,0.5),system_elec_nodes,0.01,pos=None)\n",
    "\n",
    "color_map = []\n",
    "\n",
    "for n in system_elec_nodes: #Create a list of colors to assign to each node according to index value\n",
    "    if n == 0:\n",
    "        color_map.append('lightskyblue')\n",
    "    elif n in [1,2,4,5,6]:\n",
    "        color_map.append('orange')\n",
    "    elif type(n) == int:\n",
    "        color_map.append('green')\n",
    "    \n",
    "system_elec.draw_nx(empty_root=True,node_size=500,node_color=color_map,font_color='w')"
   ]
  },
  {
   "cell_type": "markdown",
   "metadata": {},
   "source": [
    "When components in serial structure are independent, you just multiply the probability of success. In this case, components 1,7 and 3 run in a serial structure. When components run in parallel, it's easier to consider the probabilities of failure $(1-p)$ and substract that from 1. In this case, components 2,5,6 run in parallel in the orange section and components 4 and 8 run in parallel in the green section.\n",
    "\n",
    "$P(\\text{component 1}) = p$\n",
    "\n",
    "$P(\\text{component 2,5,6}) = 1-(1-p)^3$\n",
    "\n",
    "$P(\\text{component 7}) = p$\n",
    "\n",
    "$P(\\text{component 3}) = p$\n",
    "\n",
    "$P(\\text{component 4,8}) = 1-(1-p)^2$\n",
    "\n",
    "The final formula is: $p\\cdot(1-(1-p)^3)\\cdot p\\cdot p\\cdot  (1-(1-p)^2$"
   ]
  },
  {
   "cell_type": "code",
   "execution_count": null,
   "metadata": {},
   "outputs": [],
   "source": []
  }
 ],
 "metadata": {
  "kernelspec": {
   "display_name": "Python 3",
   "language": "python",
   "name": "python3"
  },
  "language_info": {
   "codemirror_mode": {
    "name": "ipython",
    "version": 3
   },
   "file_extension": ".py",
   "mimetype": "text/x-python",
   "name": "python",
   "nbconvert_exporter": "python",
   "pygments_lexer": "ipython3",
   "version": "3.7.3"
  }
 },
 "nbformat": 4,
 "nbformat_minor": 2
}
