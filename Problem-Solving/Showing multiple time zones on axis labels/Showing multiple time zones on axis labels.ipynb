{
 "cells": [
  {
   "cell_type": "markdown",
   "metadata": {},
   "source": [
    "# Show different time zones as labels in a graph\n",
    "\n",
    "In step 3 of this document, a piece of code was created to allow the x-axis of a graph to show two different time zones for each value. "
   ]
  },
  {
   "cell_type": "markdown",
   "metadata": {},
   "source": [
    "## 1. Create a dataframe to use as an example"
   ]
  },
  {
   "cell_type": "code",
   "execution_count": 6,
   "metadata": {},
   "outputs": [
    {
     "data": {
      "text/html": [
       "<div>\n",
       "<style scoped>\n",
       "    .dataframe tbody tr th:only-of-type {\n",
       "        vertical-align: middle;\n",
       "    }\n",
       "\n",
       "    .dataframe tbody tr th {\n",
       "        vertical-align: top;\n",
       "    }\n",
       "\n",
       "    .dataframe thead th {\n",
       "        text-align: right;\n",
       "    }\n",
       "</style>\n",
       "<table border=\"1\" class=\"dataframe\">\n",
       "  <thead>\n",
       "    <tr style=\"text-align: right;\">\n",
       "      <th></th>\n",
       "      <th>id</th>\n",
       "      <th>num_points</th>\n",
       "      <th>Eastern_Time</th>\n",
       "      <th>Nairobi_Time</th>\n",
       "    </tr>\n",
       "  </thead>\n",
       "  <tbody>\n",
       "    <tr>\n",
       "      <th>0</th>\n",
       "      <td>004</td>\n",
       "      <td>21</td>\n",
       "      <td>00:00</td>\n",
       "      <td>08:00</td>\n",
       "    </tr>\n",
       "    <tr>\n",
       "      <th>1</th>\n",
       "      <td>005</td>\n",
       "      <td>36</td>\n",
       "      <td>03:00</td>\n",
       "      <td>11:00</td>\n",
       "    </tr>\n",
       "    <tr>\n",
       "      <th>2</th>\n",
       "      <td>001</td>\n",
       "      <td>67</td>\n",
       "      <td>12:00</td>\n",
       "      <td>20:00</td>\n",
       "    </tr>\n",
       "    <tr>\n",
       "      <th>3</th>\n",
       "      <td>002</td>\n",
       "      <td>9</td>\n",
       "      <td>15:00</td>\n",
       "      <td>23:00</td>\n",
       "    </tr>\n",
       "    <tr>\n",
       "      <th>4</th>\n",
       "      <td>003</td>\n",
       "      <td>83</td>\n",
       "      <td>21:00</td>\n",
       "      <td>05:00</td>\n",
       "    </tr>\n",
       "  </tbody>\n",
       "</table>\n",
       "</div>"
      ],
      "text/plain": [
       "    id  num_points Eastern_Time Nairobi_Time\n",
       "0  004          21        00:00        08:00\n",
       "1  005          36        03:00        11:00\n",
       "2  001          67        12:00        20:00\n",
       "3  002           9        15:00        23:00\n",
       "4  003          83        21:00        05:00"
      ]
     },
     "execution_count": 6,
     "metadata": {},
     "output_type": "execute_result"
    }
   ],
   "source": [
    "import pandas as pd\n",
    "import numpy as np\n",
    "\n",
    "#Create a random dataframe that has time columns, one column for each time zone:\n",
    "np.random.seed(0)\n",
    "Etimes = [] #List of Eastern Time times\n",
    "Ntimes = [] #List of Nairobi Time times\n",
    "#Fill the lists with times in 24hr format (Nairobi Time = Eastern Time + 8)\n",
    "for t in range(5): \n",
    "    hour = np.random.randint(24)\n",
    "    Etimes.append('{}:{}'.format(str(hour).zfill(2),'00'))\n",
    "    if hour >= 16:\n",
    "        hour = (hour+8) - 24\n",
    "        Ntimes.append('{}:{}'.format(str(hour).zfill(2),'00'))\n",
    "    else:\n",
    "        Ntimes.append('{}:{}'.format(str(hour+8).zfill(2),'00'))\n",
    "    \n",
    "#Create the dataframe\n",
    "df = pd.DataFrame({'id':[str(x).zfill(3) for x in range(1,6)],\n",
    "                   'num_points':np.random.randint(100,size=5),\n",
    "                   'Eastern_Time':Etimes,\n",
    "                   'Nairobi_Time':Ntimes})\n",
    "\n",
    "#Sort Eastern Time times in ascending order\n",
    "df = df.sort_values(by=['Eastern_Time']).reset_index().drop('index',axis=1) \n",
    "df "
   ]
  },
  {
   "cell_type": "markdown",
   "metadata": {},
   "source": [
    "## 2. Problem\n",
    "\n",
    "The x-axis of the following graph only displays the values of one of the time columns as labels, in this case it only displays the Eastern Time times:"
   ]
  },
  {
   "cell_type": "code",
   "execution_count": 13,
   "metadata": {},
   "outputs": [
    {
     "data": {
      "image/png": "[encoded data removed]",
      "text/plain": [
       "<Figure size 576x360 with 1 Axes>"
      ]
     },
     "metadata": {
      "needs_background": "light"
     },
     "output_type": "display_data"
    }
   ],
   "source": [
    "import matplotlib.pyplot as plt\n",
    "import seaborn as sns\n",
    "%matplotlib inline\n",
    "\n",
    "#Create plot\n",
    "plt.figure(figsize=(8,5))\n",
    "ax = sns.barplot(x='Eastern_Time', \n",
    "                 y='num_points',\n",
    "                 data=df)\n",
    "sns.despine(left=True,bottom=True)\n",
    "ax.set(xlabel='Time(24hr format)', ylabel='Number of Points')\n",
    "plt.title('Number of Points in top 5 Hours')\n",
    "plt.tick_params(axis='both', which='both',length=0)\n",
    "plt.show()"
   ]
  },
  {
   "cell_type": "markdown",
   "metadata": {},
   "source": [
    "## 3. Solution\n",
    "\n",
    "Create a 'labels' list with labels containing the two time zones for each value. "
   ]
  },
  {
   "cell_type": "code",
   "execution_count": 3,
   "metadata": {},
   "outputs": [],
   "source": [
    "labels = []\n",
    "#Get the two times from the dataframe\n",
    "Etimes = df['Eastern_Time']\n",
    "Ntimes = df['Nairobi_Time']\n",
    "#append values to list\n",
    "for h in range(len(df['num_points'])):\n",
    "    #format the string as required\n",
    "    labels.append('{} ET\\n{} NT'.format(Etimes[h],\n",
    "                                        Ntimes[h]))"
   ]
  },
  {
   "cell_type": "markdown",
   "metadata": {},
   "source": [
    "## 4. Plot again\n",
    "\n",
    "The 'labels' list created in the step before wil be used as an argument for the .set_xticklabels() method, a seaborn method that overrides the label names for the x-axis."
   ]
  },
  {
   "cell_type": "code",
   "execution_count": 14,
   "metadata": {},
   "outputs": [
    {
     "data": {
      "image/png": "[encoded data removed]",
      "text/plain": [
       "<Figure size 576x360 with 1 Axes>"
      ]
     },
     "metadata": {
      "needs_background": "light"
     },
     "output_type": "display_data"
    }
   ],
   "source": [
    "#Create plot\n",
    "plt.figure(figsize=(8,5))\n",
    "ax = sns.barplot(x='Eastern_Time', \n",
    "                 y='num_points',\n",
    "                 data=df)\n",
    "sns.despine(left=True,bottom=True)\n",
    "ax.set(xlabel='Time(24hr format) ET= Eastern Time, NT= Nairobi Time', \n",
    "       ylabel='Number of Points')\n",
    "plt.title('Number of Points in top 5 Hours')\n",
    "plt.tick_params(axis='both', which='both',length=0)\n",
    "ax.set_xticklabels(labels) #set_xticklabels() method using the solution in step 3 as argument\n",
    "plt.show()"
   ]
  },
  {
   "cell_type": "markdown",
   "metadata": {},
   "source": [
    "Now the x-axis labels show both time zones for the same value."
   ]
  }
 ],
 "metadata": {
  "kernelspec": {
   "display_name": "Python 3",
   "language": "python",
   "name": "python3"
  },
  "language_info": {
   "codemirror_mode": {
    "name": "ipython",
    "version": 3
   },
   "file_extension": ".py",
   "mimetype": "text/x-python",
   "name": "python",
   "nbconvert_exporter": "python",
   "pygments_lexer": "ipython3",
   "version": "3.6.6"
  }
 },
 "nbformat": 4,
 "nbformat_minor": 2
}
